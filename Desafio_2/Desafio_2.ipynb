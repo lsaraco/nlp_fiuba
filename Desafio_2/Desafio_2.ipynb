{
  "cells": [
    {
      "cell_type": "markdown",
      "metadata": {
        "id": "sZd5yLnnHOK0"
      },
      "source": [
        "<img src=\"https://github.com/hernancontigiani/ceia_memorias_especializacion/raw/master/Figures/logoFIUBA.jpg\" width=\"500\" align=\"center\">\n",
        "\n",
        "\n",
        "# Procesamiento de lenguaje natural\n",
        "\n",
        "# Desafío 2: Custom embedddings con Gensim\n",
        "\n"
      ]
    },
    {
      "cell_type": "markdown",
      "metadata": {
        "id": "893YHocCiZ_S"
      },
      "source": [
        "## Consigna\n",
        "\n",
        "1. Crear sus propios vectores con Gensim [basado en lo visto en clase](https://github.com/FIUBA-Posgrado-Inteligencia-Artificial/procesamiento_lenguaje_natural/blob/main/clase_2/jupyter_notebooks/2c%20-%20Custom%20embedding%20con%20Gensim.ipynb) con otro dataset.\n",
        "1. Probar términos de interés y explicar similitudes en el espacio de embeddings (sacar conclusiones entre palabras similitudes y diferencias).\n",
        "1. Plantear y probar tests de analogías.\n",
        "1. Graficar los embeddings resultantes.\n",
        "1. Obtener conclusiones."
      ]
    },
    {
      "cell_type": "markdown",
      "metadata": {
        "id": "vA7nqkumo9z9"
      },
      "source": [
        "## Resolución"
      ]
    },
    {
      "cell_type": "markdown",
      "metadata": {
        "id": "gn8bvDZ3kOwu"
      },
      "source": [
        "### 1. Crear sus propios vectores con Gensim [basado en lo visto en clase](https://github.com/FIUBA-Posgrado-Inteligencia-Artificial/procesamiento_lenguaje_natural/blob/main/clase_2/jupyter_notebooks/2c%20-%20Custom%20embedding%20con%20Gensim.ipynb) con otro dataset.\n",
        "\n",
        "- Dataset a utilizar: recetas de cocina extraídas del subreddit /recipes\n",
        "  - Fuente: https://www.kaggle.com/datasets/michau96/recipes-from-reddit"
      ]
    },
    {
      "cell_type": "markdown",
      "metadata": {
        "id": "SGVFFTJdkTxj"
      },
      "source": [
        "Imports de librerías a utilizar"
      ]
    },
    {
      "cell_type": "code",
      "execution_count": 7,
      "metadata": {
        "id": "lFToQs5FK5uZ"
      },
      "outputs": [],
      "source": [
        "import pandas as pd\n",
        "import csv\n",
        "import matplotlib.pyplot as plt\n",
        "import seaborn as sns\n",
        "\n",
        "import multiprocessing\n",
        "from gensim.models import Word2Vec"
      ]
    },
    {
      "cell_type": "markdown",
      "metadata": {
        "id": "g07zJxG7H9vG"
      },
      "source": [
        "Carga del dataset\n",
        "\n",
        "- Se utiliza el path absoluto del dataset cargado en google drive."
      ]
    },
    {
      "cell_type": "code",
      "execution_count": 16,
      "metadata": {
        "colab": {
          "base_uri": "https://localhost:8080/",
          "height": 241
        },
        "id": "ticoqYD1Z3I7",
        "outputId": "1f5c7498-39ef-42b2-da65-617e1ab37761"
      },
      "outputs": [
        {
          "data": {
            "text/html": [
              "<div>\n",
              "<style scoped>\n",
              "    .dataframe tbody tr th:only-of-type {\n",
              "        vertical-align: middle;\n",
              "    }\n",
              "\n",
              "    .dataframe tbody tr th {\n",
              "        vertical-align: top;\n",
              "    }\n",
              "\n",
              "    .dataframe thead th {\n",
              "        text-align: right;\n",
              "    }\n",
              "</style>\n",
              "<table border=\"1\" class=\"dataframe\">\n",
              "  <thead>\n",
              "    <tr style=\"text-align: right;\">\n",
              "      <th></th>\n",
              "      <th>comment</th>\n",
              "    </tr>\n",
              "  </thead>\n",
              "  <tbody>\n",
              "    <tr>\n",
              "      <th>0</th>\n",
              "      <td>This is by no means \"authentic\" tiramisu in th...</td>\n",
              "    </tr>\n",
              "    <tr>\n",
              "      <th>1</th>\n",
              "      <td>Thank you for the great idea, u/oliveyoil!\\r\\n...</td>\n",
              "    </tr>\n",
              "    <tr>\n",
              "      <th>2</th>\n",
              "      <td>**Homemade Cinnamon Rolls**\\r\\n\\r\\nLayers of s...</td>\n",
              "    </tr>\n",
              "    <tr>\n",
              "      <th>3</th>\n",
              "      <td>\\r\\n\\r\\nOne of my favorite at home dessert re...</td>\n",
              "    </tr>\n",
              "    <tr>\n",
              "      <th>4</th>\n",
              "      <td>I am obsessed with making different ramen dish...</td>\n",
              "    </tr>\n",
              "  </tbody>\n",
              "</table>\n",
              "</div><br><label><b>dtype:</b> object</label>"
            ],
            "text/plain": [
              "0    This is by no means \"authentic\" tiramisu in th...\n",
              "1    Thank you for the great idea, u/oliveyoil!\\r\\n...\n",
              "2    **Homemade Cinnamon Rolls**\\r\\n\\r\\nLayers of s...\n",
              "3     \\r\\n\\r\\nOne of my favorite at home dessert re...\n",
              "4    I am obsessed with making different ramen dish...\n",
              "Name: comment, dtype: object"
            ]
          },
          "execution_count": 16,
          "metadata": {},
          "output_type": "execute_result"
        }
      ],
      "source": [
        "# Armar el dataset utilizando salto de línea para separar las oraciones/docs\n",
        "df = pd.read_csv('https://drive.google.com/uc?export=download&id=11e9BsbznVjbgZTjbof_3-aZTfSMEj2Oq',encoding='latin')\n",
        "df.head()"
      ]
    },
    {
      "cell_type": "markdown",
      "metadata": {
        "id": "bvDZIvk1o_3T"
      },
      "source": [
        "- Se utiliza sólo la columna \"comment\" donde se encuentran las recetas escritas por los usuarios."
      ]
    },
    {
      "cell_type": "code",
      "execution_count": 17,
      "metadata": {
        "colab": {
          "base_uri": "https://localhost:8080/",
          "height": 259
        },
        "id": "LEpKubK9XzXN",
        "outputId": "c49b66ca-dcc9-4532-d9e5-1d163de5d192"
      },
      "outputs": [
        {
          "name": "stdout",
          "output_type": "stream",
          "text": [
            "Cantidad de documentos: 918\n"
          ]
        },
        {
          "data": {
            "text/html": [
              "<div>\n",
              "<style scoped>\n",
              "    .dataframe tbody tr th:only-of-type {\n",
              "        vertical-align: middle;\n",
              "    }\n",
              "\n",
              "    .dataframe tbody tr th {\n",
              "        vertical-align: top;\n",
              "    }\n",
              "\n",
              "    .dataframe thead th {\n",
              "        text-align: right;\n",
              "    }\n",
              "</style>\n",
              "<table border=\"1\" class=\"dataframe\">\n",
              "  <thead>\n",
              "    <tr style=\"text-align: right;\">\n",
              "      <th></th>\n",
              "      <th>comment</th>\n",
              "    </tr>\n",
              "  </thead>\n",
              "  <tbody>\n",
              "    <tr>\n",
              "      <th>0</th>\n",
              "      <td>This is by no means \"authentic\" tiramisu in th...</td>\n",
              "    </tr>\n",
              "    <tr>\n",
              "      <th>1</th>\n",
              "      <td>Thank you for the great idea, u/oliveyoil!\\r\\n...</td>\n",
              "    </tr>\n",
              "    <tr>\n",
              "      <th>2</th>\n",
              "      <td>**Homemade Cinnamon Rolls**\\r\\n\\r\\nLayers of s...</td>\n",
              "    </tr>\n",
              "    <tr>\n",
              "      <th>3</th>\n",
              "      <td>\\r\\n\\r\\nOne of my favorite at home dessert re...</td>\n",
              "    </tr>\n",
              "    <tr>\n",
              "      <th>4</th>\n",
              "      <td>I am obsessed with making different ramen dish...</td>\n",
              "    </tr>\n",
              "  </tbody>\n",
              "</table>\n",
              "</div><br><label><b>dtype:</b> object</label>"
            ],
            "text/plain": [
              "0    This is by no means \"authentic\" tiramisu in th...\n",
              "1    Thank you for the great idea, u/oliveyoil!\\r\\n...\n",
              "2    **Homemade Cinnamon Rolls**\\r\\n\\r\\nLayers of s...\n",
              "3     \\r\\n\\r\\nOne of my favorite at home dessert re...\n",
              "4    I am obsessed with making different ramen dish...\n",
              "Name: comment, dtype: object"
            ]
          },
          "execution_count": 17,
          "metadata": {},
          "output_type": "execute_result"
        }
      ],
      "source": [
        "documents_df = df[\"comment\"]\n",
        "print(\"Cantidad de documentos:\", documents_df.shape[0])\n",
        "documents_df.head()\n"
      ]
    },
    {
      "cell_type": "markdown",
      "metadata": {
        "id": "ab94qaFlrA1G"
      },
      "source": [
        "#### Preprocesamiento\n",
        "\n",
        "- Se recorren todas las recetas.\n",
        "- Se remueven ciertos caracteres que no son de interés (como #), ya que el texto extraído de reddit viene en formato markdown"
      ]
    },
    {
      "cell_type": "code",
      "execution_count": 30,
      "metadata": {
        "id": "rIsmMWmjrDHd"
      },
      "outputs": [],
      "source": [
        "from tensorflow.keras.preprocessing.text import text_to_word_sequence\n",
        "import re\n",
        "\n",
        "# Defino funcion para limpiar texto a mano.\n",
        "def clean_text(text):\n",
        "    \"\"\"Remueve caracteres encontrados en textos formateados en markdown.\"\"\"\n",
        "    text = re.sub(r'#', '', text)    \n",
        "    text = re.sub(r'\\n', ' ', text)  \n",
        "    text = re.sub(r'\\s+', ' ', text) #Reemplazo multi-espacios por un solo espacio\n",
        "    return text.strip()\n",
        "\n",
        "sentence_tokens = []\n",
        "\n",
        "for recipe in documents_df:\n",
        "    clean_recipe = clean_text(recipe)\n",
        "    tokens = text_to_word_sequence(clean_recipe)\n",
        "    sentence_tokens.append(tokens)"
      ]
    },
    {
      "cell_type": "code",
      "execution_count": 31,
      "metadata": {
        "colab": {
          "base_uri": "https://localhost:8080/"
        },
        "id": "CHepi_DGrbhq",
        "outputId": "6fc8e5c7-6d51-46bd-954e-fe9f61ff7485"
      },
      "outputs": [
        {
          "data": {
            "text/plain": [
              "[['this',\n",
              "  'is',\n",
              "  'by',\n",
              "  'no',\n",
              "  'means',\n",
              "  'authentic',\n",
              "  'tiramisu',\n",
              "  'in',\n",
              "  'that',\n",
              "  'it',\n",
              "  'has',\n",
              "  'no',\n",
              "  'raw',\n",
              "  'eggs',\n",
              "  'but',\n",
              "  \"it's\",\n",
              "  'just',\n",
              "  'as',\n",
              "  'tasty',\n",
              "  'easy',\n",
              "  'tiramisu',\n",
              "  'recipe',\n",
              "  'no',\n",
              "  'raw',\n",
              "  'eggs',\n",
              "  'ingredients',\n",
              "  'about',\n",
              "  '1',\n",
              "  '5',\n",
              "  'packages',\n",
              "  'worth',\n",
              "  'of',\n",
              "  'lady',\n",
              "  'fingers',\n",
              "  'i',\n",
              "  'got',\n",
              "  'mine',\n",
              "  'at',\n",
              "  'an',\n",
              "  'italian',\n",
              "  'market',\n",
              "  'ran',\n",
              "  'out',\n",
              "  'and',\n",
              "  'then',\n",
              "  'had',\n",
              "  'my',\n",
              "  'husband',\n",
              "  'run',\n",
              "  'out',\n",
              "  'to',\n",
              "  'get',\n",
              "  'more',\n",
              "  'at',\n",
              "  'whole',\n",
              "  'foods',\n",
              "  'he',\n",
              "  'got',\n",
              "  'the',\n",
              "  'store',\n",
              "  'brand',\n",
              "  'which',\n",
              "  'is',\n",
              "  'also',\n",
              "  'imported',\n",
              "  'from',\n",
              "  'italy',\n",
              "  'make',\n",
              "  'sure',\n",
              "  'these',\n",
              "  'are',\n",
              "  'the',\n",
              "  'hard',\n",
              "  'lady',\n",
              "  'fingers',\n",
              "  'not',\n",
              "  'the',\n",
              "  'soft',\n",
              "  'ones',\n",
              "  '2',\n",
              "  'c',\n",
              "  'strong',\n",
              "  'coffee',\n",
              "  'espresso',\n",
              "  '9',\n",
              "  'tbsp',\n",
              "  'rum',\n",
              "  'or',\n",
              "  'marsala',\n",
              "  'wine',\n",
              "  'you',\n",
              "  'can',\n",
              "  'half',\n",
              "  'this',\n",
              "  'for',\n",
              "  'a',\n",
              "  'less',\n",
              "  'pronounced',\n",
              "  'alcoholic',\n",
              "  'flavor',\n",
              "  'i',\n",
              "  'thought',\n",
              "  'this',\n",
              "  'was',\n",
              "  'just',\n",
              "  'right',\n",
              "  '1',\n",
              "  'c',\n",
              "  'heavy',\n",
              "  'cream',\n",
              "  '1',\n",
              "  '1',\n",
              "  '5',\n",
              "  'lb',\n",
              "  'mascarpone',\n",
              "  '2',\n",
              "  '3',\n",
              "  'c',\n",
              "  'sugar',\n",
              "  'divided',\n",
              "  '1',\n",
              "  'tsp',\n",
              "  'vanilla',\n",
              "  'extract',\n",
              "  '2',\n",
              "  '3',\n",
              "  'tbsp',\n",
              "  'cocoa',\n",
              "  'powder',\n",
              "  'handful',\n",
              "  'of',\n",
              "  'chopped',\n",
              "  'chocolate',\n",
              "  'chocolate',\n",
              "  'shavings',\n",
              "  'optional',\n",
              "  'method',\n",
              "  '1',\n",
              "  'prepare',\n",
              "  'coffee',\n",
              "  'alcohol',\n",
              "  'for',\n",
              "  'dipping',\n",
              "  'combine',\n",
              "  'coffee',\n",
              "  'in',\n",
              "  'a',\n",
              "  'wide',\n",
              "  'shallow',\n",
              "  'bowl',\n",
              "  'and',\n",
              "  'combine',\n",
              "  'with',\n",
              "  'about',\n",
              "  '5',\n",
              "  'tbsp',\n",
              "  'of',\n",
              "  'the',\n",
              "  'rum',\n",
              "  'set',\n",
              "  'side',\n",
              "  '2',\n",
              "  'prepare',\n",
              "  'mascarpone',\n",
              "  'cream',\n",
              "  'mixture',\n",
              "  'whip',\n",
              "  'heavy',\n",
              "  'cream',\n",
              "  'with',\n",
              "  '1',\n",
              "  '3',\n",
              "  'c',\n",
              "  'sugar',\n",
              "  '1',\n",
              "  'tsp',\n",
              "  'vanilla',\n",
              "  'extract',\n",
              "  'and',\n",
              "  '2',\n",
              "  'tbsp',\n",
              "  'rum',\n",
              "  'until',\n",
              "  'you',\n",
              "  'have',\n",
              "  'soft',\n",
              "  'peaks',\n",
              "  'then',\n",
              "  'slowly',\n",
              "  'fold',\n",
              "  'in',\n",
              "  'the',\n",
              "  'mascarpone',\n",
              "  'along',\n",
              "  'with',\n",
              "  'the',\n",
              "  'other',\n",
              "  '1',\n",
              "  '3',\n",
              "  'c',\n",
              "  'sugar',\n",
              "  'and',\n",
              "  '2',\n",
              "  'tbsp',\n",
              "  'rum',\n",
              "  'whip',\n",
              "  'altogether',\n",
              "  'until',\n",
              "  'nice',\n",
              "  'and',\n",
              "  'fluffy',\n",
              "  'set',\n",
              "  'aside',\n",
              "  '3',\n",
              "  'prepare',\n",
              "  'tiramisu',\n",
              "  'layers',\n",
              "  'dip',\n",
              "  'each',\n",
              "  'side',\n",
              "  'of',\n",
              "  'a',\n",
              "  'lady',\n",
              "  'finger',\n",
              "  'into',\n",
              "  'the',\n",
              "  'coffee',\n",
              "  'rum',\n",
              "  'mixture',\n",
              "  'for',\n",
              "  'no',\n",
              "  'more',\n",
              "  'than',\n",
              "  '1',\n",
              "  '2',\n",
              "  'seconds',\n",
              "  'per',\n",
              "  'side',\n",
              "  'do',\n",
              "  'not',\n",
              "  'dip',\n",
              "  'too',\n",
              "  'long',\n",
              "  'this',\n",
              "  'is',\n",
              "  'the',\n",
              "  'biggest',\n",
              "  'mistake',\n",
              "  'in',\n",
              "  'making',\n",
              "  'tiramisu',\n",
              "  'no',\n",
              "  'sogginess',\n",
              "  'then',\n",
              "  'carefully',\n",
              "  'lay',\n",
              "  'in',\n",
              "  'a',\n",
              "  'pan',\n",
              "  '8x5',\n",
              "  'in',\n",
              "  'making',\n",
              "  'sure',\n",
              "  'all',\n",
              "  'the',\n",
              "  'ladyfingers',\n",
              "  'are',\n",
              "  'lined',\n",
              "  'up',\n",
              "  'side',\n",
              "  'by',\n",
              "  'side',\n",
              "  'trim',\n",
              "  'if',\n",
              "  'needed',\n",
              "  'to',\n",
              "  'fix',\n",
              "  'snuggly',\n",
              "  'into',\n",
              "  'pan',\n",
              "  'then',\n",
              "  'add',\n",
              "  'a',\n",
              "  'generous',\n",
              "  'even',\n",
              "  'layer',\n",
              "  'of',\n",
              "  'the',\n",
              "  'mascarpone',\n",
              "  'cream',\n",
              "  'mixture',\n",
              "  'on',\n",
              "  'top',\n",
              "  'of',\n",
              "  'the',\n",
              "  'ladyfingers',\n",
              "  'smoothing',\n",
              "  'them',\n",
              "  'out',\n",
              "  'on',\n",
              "  'the',\n",
              "  'edges',\n",
              "  'with',\n",
              "  'a',\n",
              "  'spatula',\n",
              "  'dust',\n",
              "  'with',\n",
              "  'some',\n",
              "  'cocoa',\n",
              "  'powder',\n",
              "  'with',\n",
              "  'a',\n",
              "  'colander',\n",
              "  'sieve',\n",
              "  'repeat',\n",
              "  'the',\n",
              "  'ladyfinger',\n",
              "  'layer',\n",
              "  'with',\n",
              "  'the',\n",
              "  'final',\n",
              "  'mascarpone',\n",
              "  'layer',\n",
              "  'and',\n",
              "  'dust',\n",
              "  'the',\n",
              "  'top',\n",
              "  'with',\n",
              "  'cocoa',\n",
              "  'powder',\n",
              "  'and',\n",
              "  'chocolate',\n",
              "  'shavings',\n",
              "  'if',\n",
              "  'using',\n",
              "  '4',\n",
              "  'refrigerate',\n",
              "  'tiramisu',\n",
              "  'for',\n",
              "  'at',\n",
              "  'least',\n",
              "  '6',\n",
              "  'hours',\n",
              "  'to',\n",
              "  'allow',\n",
              "  'it',\n",
              "  'to',\n",
              "  'set',\n",
              "  'and',\n",
              "  'allowing',\n",
              "  'the',\n",
              "  'lady',\n",
              "  'fingers',\n",
              "  'to',\n",
              "  'soften',\n",
              "  'well',\n",
              "  'cut',\n",
              "  'with',\n",
              "  'a',\n",
              "  'clean',\n",
              "  'knife',\n",
              "  'wiping',\n",
              "  'off',\n",
              "  'between',\n",
              "  'slices',\n",
              "  'for',\n",
              "  'the',\n",
              "  'cleanest',\n",
              "  'edges',\n",
              "  'and',\n",
              "  'enjoy'],\n",
              " ['thank',\n",
              "  'you',\n",
              "  'for',\n",
              "  'the',\n",
              "  'great',\n",
              "  'idea',\n",
              "  'u',\n",
              "  'oliveyoil',\n",
              "  'recipe',\n",
              "  'here',\n",
              "  'originally',\n",
              "  'spicy',\n",
              "  'thai',\n",
              "  'shrimp',\n",
              "  'noodle',\n",
              "  'soup',\n",
              "  'https',\n",
              "  'www',\n",
              "  'triedandtruerecipe',\n",
              "  'com',\n",
              "  '2021',\n",
              "  '02',\n",
              "  '23',\n",
              "  'spicy',\n",
              "  'thai',\n",
              "  'shrimp',\n",
              "  'noodle',\n",
              "  'soup',\n",
              "  'this',\n",
              "  'spicy',\n",
              "  'thai',\n",
              "  'shrimp',\n",
              "  'noodle',\n",
              "  'soup',\n",
              "  'is',\n",
              "  'an',\n",
              "  'explosion',\n",
              "  'of',\n",
              "  'heat',\n",
              "  'and',\n",
              "  'rich',\n",
              "  'flavor',\n",
              "  'paired',\n",
              "  'with',\n",
              "  'beautifully',\n",
              "  'charred',\n",
              "  'greens',\n",
              "  'prep',\n",
              "  'time',\n",
              "  '15',\n",
              "  'minutes',\n",
              "  'cook',\n",
              "  'time',\n",
              "  '30',\n",
              "  'minutes',\n",
              "  'total',\n",
              "  'time',\n",
              "  '45',\n",
              "  'minutes',\n",
              "  'servings',\n",
              "  '4',\n",
              "  'calories',\n",
              "  '542kcal',\n",
              "  'author',\n",
              "  'kylie',\n",
              "  'perrotti',\n",
              "  'equipment',\n",
              "  'large',\n",
              "  'pot',\n",
              "  'medium',\n",
              "  'pot',\n",
              "  'sheet',\n",
              "  'pan',\n",
              "  'strainer',\n",
              "  'or',\n",
              "  'sieve',\n",
              "  'ingredientsbroth',\n",
              "  'and',\n",
              "  'noodles',\n",
              "  '2',\n",
              "  'tablespoons',\n",
              "  'neutral',\n",
              "  'oil',\n",
              "  'for',\n",
              "  'frying',\n",
              "  '1',\n",
              "  'yellow',\n",
              "  'onion',\n",
              "  'peeled',\n",
              "  'and',\n",
              "  'thinly',\n",
              "  'sliced',\n",
              "  '4',\n",
              "  'cloves',\n",
              "  'garlic',\n",
              "  'peeled',\n",
              "  'and',\n",
              "  'minced',\n",
              "  '1',\n",
              "  '3',\n",
              "  'thai',\n",
              "  'chili',\n",
              "  'peppers',\n",
              "  'trimmed',\n",
              "  'and',\n",
              "  'minced',\n",
              "  'adjust',\n",
              "  'quantity',\n",
              "  'based',\n",
              "  'on',\n",
              "  'spice',\n",
              "  'preference',\n",
              "  '4',\n",
              "  'scallions',\n",
              "  'white',\n",
              "  'parts',\n",
              "  'minced',\n",
              "  'green',\n",
              "  'parts',\n",
              "  'thinly',\n",
              "  'sliced',\n",
              "  'on',\n",
              "  'an',\n",
              "  'angle',\n",
              "  '2',\n",
              "  'tablespoons',\n",
              "  'thai',\n",
              "  'curry',\n",
              "  'paste',\n",
              "  'red',\n",
              "  'green',\n",
              "  'or',\n",
              "  'yellow',\n",
              "  '6',\n",
              "  'cups',\n",
              "  'chicken',\n",
              "  'stock',\n",
              "  '1',\n",
              "  'tablespoon',\n",
              "  'fish',\n",
              "  'sauce',\n",
              "  'or',\n",
              "  'less',\n",
              "  'depending',\n",
              "  'on',\n",
              "  'preference',\n",
              "  '2',\n",
              "  'tablespoons',\n",
              "  'sugar',\n",
              "  '8',\n",
              "  'ounces',\n",
              "  'vermicelli',\n",
              "  'noodles',\n",
              "  'salt',\n",
              "  'and',\n",
              "  'pepper',\n",
              "  'to',\n",
              "  'taste',\n",
              "  'shrimp',\n",
              "  'and',\n",
              "  'vegetables',\n",
              "  '1',\n",
              "  'pound',\n",
              "  'jumbo',\n",
              "  'shrimp',\n",
              "  'peeled',\n",
              "  'and',\n",
              "  'deveined',\n",
              "  'tails',\n",
              "  'discarded',\n",
              "  'or',\n",
              "  'kept',\n",
              "  'on',\n",
              "  'depending',\n",
              "  'on',\n",
              "  'preference',\n",
              "  '1',\n",
              "  'pint',\n",
              "  'cherry',\n",
              "  'tomatoes',\n",
              "  '1',\n",
              "  'lime',\n",
              "  'juiced',\n",
              "  '2',\n",
              "  'tablespoons',\n",
              "  'avocado',\n",
              "  'oil',\n",
              "  '1',\n",
              "  'tablespoon',\n",
              "  'fish',\n",
              "  'sauce',\n",
              "  '1',\n",
              "  'tablespoon',\n",
              "  'soy',\n",
              "  'sauce',\n",
              "  '1',\n",
              "  'tablespoon',\n",
              "  'sugar',\n",
              "  '1',\n",
              "  'teaspoon',\n",
              "  'sesame',\n",
              "  'oil',\n",
              "  '¼',\n",
              "  'teaspoon',\n",
              "  'salt',\n",
              "  'optional',\n",
              "  '1',\n",
              "  'bunch',\n",
              "  'tatsoi',\n",
              "  'or',\n",
              "  '4',\n",
              "  'heads',\n",
              "  'baby',\n",
              "  'bok',\n",
              "  'choy',\n",
              "  'halved',\n",
              "  'lengthwise',\n",
              "  'instructionscook',\n",
              "  'the',\n",
              "  'broth',\n",
              "  'aromatics',\n",
              "  'heat',\n",
              "  'the',\n",
              "  'oil',\n",
              "  'in',\n",
              "  'a',\n",
              "  'large',\n",
              "  'pot',\n",
              "  'over',\n",
              "  'medium',\n",
              "  'heat',\n",
              "  'add',\n",
              "  'the',\n",
              "  'onion',\n",
              "  'and',\n",
              "  'cook',\n",
              "  'for',\n",
              "  '5',\n",
              "  'minutes',\n",
              "  'until',\n",
              "  'just',\n",
              "  'beginning',\n",
              "  'to',\n",
              "  'turn',\n",
              "  'translucent',\n",
              "  'add',\n",
              "  'the',\n",
              "  'garlic',\n",
              "  'thai',\n",
              "  'chili',\n",
              "  'pepper',\n",
              "  'and',\n",
              "  'minced',\n",
              "  'white',\n",
              "  'parts',\n",
              "  'of',\n",
              "  'the',\n",
              "  'scallions',\n",
              "  'and',\n",
              "  'cook',\n",
              "  'for',\n",
              "  '1',\n",
              "  'minute',\n",
              "  'until',\n",
              "  'fragrant',\n",
              "  'add',\n",
              "  'the',\n",
              "  'curry',\n",
              "  'paste',\n",
              "  'and',\n",
              "  'lightly',\n",
              "  'mash',\n",
              "  'it',\n",
              "  'into',\n",
              "  'the',\n",
              "  'oil',\n",
              "  'cook',\n",
              "  'for',\n",
              "  '2',\n",
              "  '3',\n",
              "  'minutes',\n",
              "  'until',\n",
              "  'fragrant',\n",
              "  'simmer',\n",
              "  'the',\n",
              "  'broth',\n",
              "  'pour',\n",
              "  'in',\n",
              "  'the',\n",
              "  'chicken',\n",
              "  'stock',\n",
              "  'add',\n",
              "  'the',\n",
              "  'sugar',\n",
              "  'and',\n",
              "  'fish',\n",
              "  'sauce',\n",
              "  'and',\n",
              "  'bring',\n",
              "  'to',\n",
              "  'a',\n",
              "  'boil',\n",
              "  'reduce',\n",
              "  'heat',\n",
              "  'cover',\n",
              "  'and',\n",
              "  'simmer',\n",
              "  'for',\n",
              "  '30',\n",
              "  'minutes',\n",
              "  'taste',\n",
              "  'and',\n",
              "  'season',\n",
              "  'to',\n",
              "  'your',\n",
              "  'preferences',\n",
              "  'keep',\n",
              "  'warm',\n",
              "  'marinate',\n",
              "  'the',\n",
              "  'shrimp',\n",
              "  'in',\n",
              "  'a',\n",
              "  'bowl',\n",
              "  'combine',\n",
              "  'the',\n",
              "  'lime',\n",
              "  'juice',\n",
              "  'avocado',\n",
              "  'oil',\n",
              "  'fish',\n",
              "  'sauce',\n",
              "  'soy',\n",
              "  'sauce',\n",
              "  'sugar',\n",
              "  'and',\n",
              "  'sesame',\n",
              "  'oil',\n",
              "  'and',\n",
              "  'whisk',\n",
              "  'to',\n",
              "  'combine',\n",
              "  'add',\n",
              "  'the',\n",
              "  'shrimp',\n",
              "  'and',\n",
              "  'tomatoes',\n",
              "  'to',\n",
              "  'the',\n",
              "  'bowl',\n",
              "  'sprinkle',\n",
              "  'with',\n",
              "  'a',\n",
              "  '¼',\n",
              "  'teaspoon',\n",
              "  'salt',\n",
              "  'toss',\n",
              "  'to',\n",
              "  'coat',\n",
              "  'transfer',\n",
              "  'to',\n",
              "  'the',\n",
              "  'refrigerator',\n",
              "  'for',\n",
              "  '15',\n",
              "  'minutes',\n",
              "  'cook',\n",
              "  'the',\n",
              "  'noodles',\n",
              "  'bring',\n",
              "  'a',\n",
              "  'medium',\n",
              "  'pot',\n",
              "  'of',\n",
              "  'water',\n",
              "  'to',\n",
              "  'a',\n",
              "  'boil',\n",
              "  'add',\n",
              "  'the',\n",
              "  'noodles',\n",
              "  'and',\n",
              "  'cook',\n",
              "  'according',\n",
              "  'to',\n",
              "  'package',\n",
              "  'instructions',\n",
              "  'typically',\n",
              "  '2',\n",
              "  '4',\n",
              "  'minutes',\n",
              "  'for',\n",
              "  'vermicelli',\n",
              "  'drain',\n",
              "  'and',\n",
              "  'rinse',\n",
              "  'thoroughly',\n",
              "  'with',\n",
              "  'cold',\n",
              "  'water',\n",
              "  'set',\n",
              "  'aside',\n",
              "  'if',\n",
              "  'needed',\n",
              "  'refresh',\n",
              "  'the',\n",
              "  'noodles',\n",
              "  'with',\n",
              "  'cold',\n",
              "  'water',\n",
              "  'before',\n",
              "  'serving',\n",
              "  'but',\n",
              "  'if',\n",
              "  'you',\n",
              "  'time',\n",
              "  'it',\n",
              "  'correctly',\n",
              "  'they',\n",
              "  'should',\n",
              "  'only',\n",
              "  'be',\n",
              "  'sitting',\n",
              "  'in',\n",
              "  'the',\n",
              "  'strainer',\n",
              "  'for',\n",
              "  'a',\n",
              "  'few',\n",
              "  'minutes',\n",
              "  'broil',\n",
              "  'the',\n",
              "  'shrimp',\n",
              "  'turn',\n",
              "  'the',\n",
              "  'broiler',\n",
              "  'on',\n",
              "  'pour',\n",
              "  'the',\n",
              "  'shrimp',\n",
              "  'and',\n",
              "  'excess',\n",
              "  'marinade',\n",
              "  'onto',\n",
              "  'the',\n",
              "  'sheet',\n",
              "  'pan',\n",
              "  'and',\n",
              "  'arrange',\n",
              "  'the',\n",
              "  'shrimp',\n",
              "  'and',\n",
              "  'tomatoes',\n",
              "  'in',\n",
              "  'an',\n",
              "  'even',\n",
              "  'layer',\n",
              "  'on',\n",
              "  'half',\n",
              "  'the',\n",
              "  'sheet',\n",
              "  'pan',\n",
              "  'place',\n",
              "  'the',\n",
              "  'tatsoi',\n",
              "  'on',\n",
              "  'the',\n",
              "  'other',\n",
              "  'half',\n",
              "  'of',\n",
              "  'the',\n",
              "  'sheet',\n",
              "  'pan',\n",
              "  'and',\n",
              "  'sprinkle',\n",
              "  'with',\n",
              "  'salt',\n",
              "  'and',\n",
              "  'add',\n",
              "  'a',\n",
              "  'drizzle',\n",
              "  'of',\n",
              "  'oil',\n",
              "  'transfer',\n",
              "  'the',\n",
              "  'sheet',\n",
              "  'pan',\n",
              "  'to',\n",
              "  'the',\n",
              "  'oven',\n",
              "  'and',\n",
              "  'broil',\n",
              "  'for',\n",
              "  '4',\n",
              "  '5',\n",
              "  'minutes',\n",
              "  'until',\n",
              "  'the',\n",
              "  'shrimp',\n",
              "  'are',\n",
              "  'just',\n",
              "  'cooked',\n",
              "  'through',\n",
              "  'and',\n",
              "  'the',\n",
              "  'tatsoi',\n",
              "  'is',\n",
              "  'charred',\n",
              "  'and',\n",
              "  'the',\n",
              "  'tomatoes',\n",
              "  'have',\n",
              "  'just',\n",
              "  'begun',\n",
              "  'the',\n",
              "  'split',\n",
              "  'open',\n",
              "  'to',\n",
              "  'serve',\n",
              "  'divide',\n",
              "  'the',\n",
              "  'cooked',\n",
              "  'noodles',\n",
              "  'between',\n",
              "  'bowls',\n",
              "  'ladle',\n",
              "  'the',\n",
              "  'broth',\n",
              "  'on',\n",
              "  'top',\n",
              "  'arrange',\n",
              "  'the',\n",
              "  'shrimp',\n",
              "  'tomatoes',\n",
              "  'and',\n",
              "  'tatsoi',\n",
              "  'on',\n",
              "  'top',\n",
              "  'garnish',\n",
              "  'with',\n",
              "  'the',\n",
              "  'thinly',\n",
              "  'sliced',\n",
              "  'scallion',\n",
              "  'greens',\n",
              "  'enjoy',\n",
              "  'nutrition',\n",
              "  'calories',\n",
              "  '542kcal',\n",
              "  'carbohydrates',\n",
              "  '73g',\n",
              "  'protein',\n",
              "  '35g',\n",
              "  'fat',\n",
              "  '13g',\n",
              "  'saturated',\n",
              "  'fat',\n",
              "  '2g',\n",
              "  'cholesterol',\n",
              "  '286mg',\n",
              "  'sodium',\n",
              "  '2211mg',\n",
              "  'potassium',\n",
              "  '811mg',\n",
              "  'fiber',\n",
              "  '3g',\n",
              "  'sugar',\n",
              "  '15g',\n",
              "  'vitamin',\n",
              "  'a',\n",
              "  '1898iu',\n",
              "  'vitamin',\n",
              "  'c',\n",
              "  '44mg',\n",
              "  'calcium',\n",
              "  '243mg',\n",
              "  'iron',\n",
              "  '5mg']]"
            ]
          },
          "execution_count": 31,
          "metadata": {},
          "output_type": "execute_result"
        }
      ],
      "source": [
        "# Demos un vistazo\n",
        "sentence_tokens[:2]"
      ]
    },
    {
      "cell_type": "markdown",
      "metadata": {
        "id": "BaXV6nlHr5Aa"
      },
      "source": [
        "#### Creación de los vectores usando modelo *word2vec*\n",
        "- Se usa un callback propia para informar loss durante el entrenamiento.\n",
        "  - Se agrega la opción de imprimir una curva loss VS epoch al terminar el entrenamiento."
      ]
    },
    {
      "cell_type": "code",
      "execution_count": 69,
      "metadata": {
        "id": "OSb0v7h8r7hK"
      },
      "outputs": [],
      "source": [
        "from gensim.models.callbacks import CallbackAny2Vec\n",
        "# Durante el entrenamiento gensim por defecto no informa el \"loss\" en cada época\n",
        "# Sobrecargamos el callback para poder tener esta información\n",
        "class callback(CallbackAny2Vec):\n",
        "    \"\"\"\n",
        "    Callback to print loss after each epoch\n",
        "    \"\"\"\n",
        "    def __init__(self):\n",
        "        self.epoch = 0\n",
        "        self.losses = []\n",
        "\n",
        "    def on_train_end(self,model):\n",
        "      # Plot loss vs. epoch\n",
        "        plt.plot(self.losses, label='Loss')\n",
        "        plt.xlabel('Epoch')\n",
        "        plt.ylabel('Loss')\n",
        "        plt.title('Loss vs Epoch')\n",
        "        plt.legend()\n",
        "        plt.show()\n",
        "\n",
        "\n",
        "\n",
        "    def on_epoch_end(self, model):\n",
        "        loss = model.get_latest_training_loss()\n",
        "        if self.epoch == 0:\n",
        "            print('Loss after epoch {}: {}'.format(self.epoch, loss))\n",
        "            self.losses.append(loss)\n",
        "        else:\n",
        "            print('Loss after epoch {}: {}'.format(self.epoch, loss - self.loss_previous_step))\n",
        "            self.losses.append(loss - self.loss_previous_step)\n",
        "        self.epoch += 1\n",
        "        self.loss_previous_step = loss"
      ]
    },
    {
      "cell_type": "markdown",
      "metadata": {
        "id": "eq4dwPWN-Wn0"
      },
      "source": [
        "Primero se probará con Skipgram"
      ]
    },
    {
      "cell_type": "code",
      "execution_count": 62,
      "metadata": {
        "id": "i0wnDdv9sJ47"
      },
      "outputs": [],
      "source": [
        "# Crearmos el modelo generador de vectores\n",
        "# Se elige la estructura del modelo Skipgram\n",
        "w2v_model = Word2Vec(min_count=3,    # frecuencia mínima de palabra para incluirla en el vocabulario\n",
        "                     window=2,       # cant de palabras antes y desp de la predicha\n",
        "                     vector_size=50, # dimensionalidad de los vectores\n",
        "                     negative=20,    # cantidad de negative samples... 0 es no se usa\n",
        "                     workers=1,      # si tienen más cores pueden cambiar este valor\n",
        "                     sg=1)           # modelo 0:CBOW  1:skipgram"
      ]
    },
    {
      "cell_type": "code",
      "execution_count": 63,
      "metadata": {
        "id": "5lTt8wErsf17"
      },
      "outputs": [],
      "source": [
        "# Obtener el vocabulario con los tokens\n",
        "w2v_model.build_vocab(sentence_tokens)"
      ]
    },
    {
      "cell_type": "code",
      "execution_count": 64,
      "metadata": {
        "colab": {
          "base_uri": "https://localhost:8080/"
        },
        "id": "TNc9qt4os5AT",
        "outputId": "ebc6a4f3-b944-4822-e878-035855b2c321"
      },
      "outputs": [
        {
          "name": "stdout",
          "output_type": "stream",
          "text": [
            "Cantidad de docs en el corpus: 918\n"
          ]
        }
      ],
      "source": [
        "# Cantidad de filas/docs encontradas en el corpus\n",
        "print(\"Cantidad de docs en el corpus:\", w2v_model.corpus_count)"
      ]
    },
    {
      "cell_type": "code",
      "execution_count": 96,
      "metadata": {
        "colab": {
          "base_uri": "https://localhost:8080/"
        },
        "id": "idw9cHF3tSMl",
        "outputId": "6ff8920d-9981-4568-a00c-75f2c0df6847"
      },
      "outputs": [
        {
          "name": "stdout",
          "output_type": "stream",
          "text": [
            "Cantidad de words distintas en el corpus: 4378\n"
          ]
        }
      ],
      "source": [
        "# Cantidad de words encontradas en el corpus\n",
        "print(\"Cantidad de words distintas en el corpus:\", len(w2v_model.wv.index_to_key))"
      ]
    },
    {
      "cell_type": "markdown",
      "metadata": {
        "id": "fC9mZ8DPk-UC"
      },
      "source": [
        "#### Entrenamiento de embeddings"
      ]
    },
    {
      "cell_type": "code",
      "execution_count": 95,
      "metadata": {
        "colab": {
          "base_uri": "https://localhost:8080/",
          "height": 1000
        },
        "id": "QSp-x0PAsq56",
        "outputId": "5b8ece8d-ec20-4013-bcdd-eec3e6b1d44e"
      },
      "outputs": [
        {
          "name": "stderr",
          "output_type": "stream",
          "text": [
            "WARNING:gensim.models.word2vec:Effective 'alpha' higher than previous training cycles\n"
          ]
        },
        {
          "name": "stdout",
          "output_type": "stream",
          "text": [
            "Loss after epoch 0: 1952486.625\n",
            "Loss after epoch 1: 1794230.875\n",
            "Loss after epoch 2: 1680022.0\n",
            "Loss after epoch 3: 1640316.5\n",
            "Loss after epoch 4: 1619788.0\n",
            "Loss after epoch 5: 1534854.0\n",
            "Loss after epoch 6: 1529875.0\n",
            "Loss after epoch 7: 1530411.0\n",
            "Loss after epoch 8: 1524542.0\n",
            "Loss after epoch 9: 1522227.0\n",
            "Loss after epoch 10: 1462749.0\n",
            "Loss after epoch 11: 1431868.0\n",
            "Loss after epoch 12: 1429258.0\n",
            "Loss after epoch 13: 1428280.0\n",
            "Loss after epoch 14: 1427598.0\n",
            "Loss after epoch 15: 1426116.0\n",
            "Loss after epoch 16: 1424406.0\n",
            "Loss after epoch 17: 1421092.0\n",
            "Loss after epoch 18: 1420680.0\n",
            "Loss after epoch 19: 1416064.0\n",
            "Loss after epoch 20: 1415620.0\n",
            "Loss after epoch 21: 1415594.0\n",
            "Loss after epoch 22: 1377506.0\n",
            "Loss after epoch 23: 1374316.0\n",
            "Loss after epoch 24: 1378824.0\n",
            "Loss after epoch 25: 1374752.0\n",
            "Loss after epoch 26: 1372980.0\n",
            "Loss after epoch 27: 1372204.0\n",
            "Loss after epoch 28: 1370624.0\n",
            "Loss after epoch 29: 1375544.0\n"
          ]
        },
        {
          "data": {
            "image/png": "[encoded data removed]",
            "text/plain": [
              "<Figure size 640x480 with 1 Axes>"
            ]
          },
          "metadata": {},
          "output_type": "display_data"
        },
        {
          "data": {
            "text/plain": [
              "(6909788, 9299040)"
            ]
          },
          "execution_count": 95,
          "metadata": {},
          "output_type": "execute_result"
        }
      ],
      "source": [
        "# Entrenamos el modelo generador de vectores\n",
        "# Utilizamos nuestro callback\n",
        "w2v_model.train(sentence_tokens,\n",
        "                 total_examples=w2v_model.corpus_count,\n",
        "                 epochs=30,\n",
        "                 compute_loss = True,\n",
        "                 callbacks=[callback()]\n",
        "                 )"
      ]
    },
    {
      "cell_type": "markdown",
      "metadata": {
        "id": "ddT9NVuNlCAe"
      },
      "source": [
        "### 2. Probar términos de interés y explicar similitudes en el espacio de embeddings (sacar conclusiones entre palabras similitudes y diferencias)."
      ]
    },
    {
      "cell_type": "markdown",
      "metadata": {
        "id": "Lk61oLLQ-hYF"
      },
      "source": [
        "Palabras que más se relacionan con \"rice\""
      ]
    },
    {
      "cell_type": "code",
      "execution_count": 91,
      "metadata": {
        "colab": {
          "base_uri": "https://localhost:8080/"
        },
        "id": "6cHN9xGLuPEm",
        "outputId": "b885e977-e744-4a3f-b969-9ba837e76a26"
      },
      "outputs": [
        {
          "data": {
            "text/plain": [
              "[('jasmine', 0.6917536854743958),\n",
              " ('glutinous', 0.6875026822090149),\n",
              " ('basmati', 0.6604378819465637),\n",
              " ('carnaroli', 0.6449130177497864),\n",
              " ('lentils', 0.6433275938034058),\n",
              " ('pasta', 0.6255998015403748),\n",
              " ('farro', 0.6221164464950562),\n",
              " ('lentil', 0.6194764971733093),\n",
              " ('boba', 0.6173975467681885),\n",
              " ('gochugaru', 0.6161437630653381)]"
            ]
          },
          "execution_count": 91,
          "metadata": {},
          "output_type": "execute_result"
        }
      ],
      "source": [
        "# Palabras que MÁS se relacionan con...:\n",
        "w2v_model.wv.most_similar(positive=[\"rice\"], topn=10)"
      ]
    },
    {
      "cell_type": "markdown",
      "metadata": {
        "id": "LWAILwKG-q2G"
      },
      "source": [
        "Las relaciones tienen sentido, analicemos las primeras 5 palabras:\n",
        "\n",
        "- jasmine: Un tipo de arroz.\n",
        "- glutinous: Una característica típica del arroz.\n",
        "- basmati: Un tipo de arroz.\n",
        "- carnaroli: Otro tipo de arroz.\n",
        "- lentils: Lentejas, comparten una categoría de comida similar (legumbres / granos).\n"
      ]
    },
    {
      "cell_type": "markdown",
      "metadata": {
        "id": "dEo-C0ga_Uxj"
      },
      "source": [
        "Ahora veamos las palabras que menos se relacionan con \"oven\":\n"
      ]
    },
    {
      "cell_type": "code",
      "execution_count": 92,
      "metadata": {
        "colab": {
          "base_uri": "https://localhost:8080/"
        },
        "id": "47HiU5gdkdMq",
        "outputId": "00d25847-87f6-4afd-efdb-20cc33cc9cd5"
      },
      "outputs": [
        {
          "data": {
            "text/plain": [
              "[('adds', 0.1366562396287918),\n",
              " ('preserved', 0.06563415378332138),\n",
              " ('types', 0.06248040497303009),\n",
              " ('noodle', 0.0584573820233345),\n",
              " ('bulgogi', 0.05445578321814537),\n",
              " ('3oz', 0.03738025575876236),\n",
              " ('kimchi', 0.030488863587379456),\n",
              " ('throughly', 0.02982449159026146),\n",
              " ('chickpea', 0.02948830835521221),\n",
              " ('yoghurt', 0.029332762584090233)]"
            ]
          },
          "execution_count": 92,
          "metadata": {},
          "output_type": "execute_result"
        }
      ],
      "source": [
        "# Palabras que MENOS se relacionan con...:\n",
        "w2v_model.wv.most_similar(negative=[\"oven\"], topn=10)"
      ]
    },
    {
      "cell_type": "markdown",
      "metadata": {
        "id": "SqK557_XAE8U"
      },
      "source": [
        "- Las primeras 3 palabras casi que no tienen relación alguna.\n",
        "- Aparecen comidas que no se cocinan dentro del horno como:\n",
        "  - \"noodle\" (fideos).\n",
        "  - \"bulgogi\" (carne coreana que se cocina en la sartén).\n",
        "  - \"kimchi\" (verduras fermentada).\n",
        "  - \"chickpea\" (garbanzos).\n",
        "- Se obtiene yoghurt, un alimento que no lleva cocción alguna."
      ]
    },
    {
      "cell_type": "markdown",
      "metadata": {
        "id": "-QCF2nKyBQwE"
      },
      "source": [
        "Palabras que se relacionan con \"bread\"."
      ]
    },
    {
      "cell_type": "code",
      "execution_count": 93,
      "metadata": {
        "colab": {
          "base_uri": "https://localhost:8080/"
        },
        "id": "DT4Rvno2mD65",
        "outputId": "f01c813c-bd63-4cdd-b56d-c50ee91b53f2"
      },
      "outputs": [
        {
          "data": {
            "text/plain": [
              "[('stale', 0.6572244167327881),\n",
              " ('buckwheat', 0.6378626823425293),\n",
              " ('pecans', 0.634807288646698),\n",
              " ('sourdough', 0.6284531950950623),\n",
              " ('delightbaking', 0.6080353260040283),\n",
              " ('slices', 0.5983232855796814)]"
            ]
          },
          "execution_count": 93,
          "metadata": {},
          "output_type": "execute_result"
        }
      ],
      "source": [
        "# Palabras que MÁS se relacionan con...:\n",
        "w2v_model.wv.most_similar(positive=[\"bread\"], topn=6)"
      ]
    },
    {
      "cell_type": "markdown",
      "metadata": {
        "id": "1oMnOqB_BqV6"
      },
      "source": [
        "- Stale: Se le dice \"stale bread\" al pan cuando aparecen manchas verdes (hongos).\n",
        "- Buckwheat: Trigo sarraceno, que se utiliza para hacer pan integral.\n",
        "- Pecans: Un tipo de nueces, seguramente haya recetas de pan donde agreguen este ingrediente.\n",
        "- Sourdough: Pan de masa madre.\n",
        "- Delightbaking: Página web que tiene recetas de cocina de pastelería y harinados, especialmente de panes.\n",
        "- Slices: Rebanadas, término bastante común al hablar de pan."
      ]
    },
    {
      "cell_type": "markdown",
      "metadata": {
        "id": "xyhPVhXuGAW6"
      },
      "source": [
        "Se repite el mismo procedimiento pero utilizando CBOW envés de Skipgram"
      ]
    },
    {
      "cell_type": "code",
      "execution_count": 97,
      "metadata": {
        "colab": {
          "base_uri": "https://localhost:8080/"
        },
        "id": "aVvTfJI-F851",
        "outputId": "60b91e12-c51e-4a8d-f819-c022a12fc85b"
      },
      "outputs": [
        {
          "name": "stdout",
          "output_type": "stream",
          "text": [
            "Cantidad de docs en el corpus: 918\n",
            "Cantidad de words distintas en el corpus: 4378\n"
          ]
        }
      ],
      "source": [
        "# Crearmos el modelo generador de vectores, ahora con CBOW\n",
        "w2v_model_cbow = Word2Vec(min_count=3,    # frecuencia mínima de palabra para incluirla en el vocabulario\n",
        "                     window=2,       # cant de palabras antes y desp de la predicha\n",
        "                     vector_size=50, # dimensionalidad de los vectores\n",
        "                     workers=1,      # si tienen más cores pueden cambiar este valor\n",
        "                     sg=0)           # modelo 0:CBOW  1:skipgram\n",
        "\n",
        "# Obtener el vocabulario con los tokens\n",
        "w2v_model_cbow.build_vocab(sentence_tokens)\n",
        "print(\"Cantidad de docs en el corpus:\", w2v_model.corpus_count)\n",
        "print(\"Cantidad de words distintas en el corpus:\", len(w2v_model.wv.index_to_key))"
      ]
    },
    {
      "cell_type": "code",
      "execution_count": 98,
      "metadata": {
        "colab": {
          "base_uri": "https://localhost:8080/",
          "height": 1000
        },
        "id": "Hg2zB0zZGDj-",
        "outputId": "f77e9df4-6cd7-4a84-f7e7-1201b56e631a"
      },
      "outputs": [
        {
          "name": "stdout",
          "output_type": "stream",
          "text": [
            "Loss after epoch 0: 725146.625\n",
            "Loss after epoch 1: 544426.625\n",
            "Loss after epoch 2: 476794.125\n",
            "Loss after epoch 3: 436409.375\n",
            "Loss after epoch 4: 400018.0\n",
            "Loss after epoch 5: 382939.0\n",
            "Loss after epoch 6: 369465.75\n",
            "Loss after epoch 7: 359199.5\n",
            "Loss after epoch 8: 350690.25\n",
            "Loss after epoch 9: 325979.75\n",
            "Loss after epoch 10: 307909.5\n",
            "Loss after epoch 11: 304890.0\n",
            "Loss after epoch 12: 300770.5\n",
            "Loss after epoch 13: 299602.5\n",
            "Loss after epoch 14: 295115.5\n",
            "Loss after epoch 15: 292780.0\n",
            "Loss after epoch 16: 290035.0\n",
            "Loss after epoch 17: 288650.5\n",
            "Loss after epoch 18: 286881.5\n",
            "Loss after epoch 19: 284714.5\n",
            "Loss after epoch 20: 284021.0\n",
            "Loss after epoch 21: 282305.0\n",
            "Loss after epoch 22: 281410.0\n",
            "Loss after epoch 23: 272130.5\n",
            "Loss after epoch 24: 244186.0\n",
            "Loss after epoch 25: 243952.0\n",
            "Loss after epoch 26: 243152.0\n",
            "Loss after epoch 27: 242227.0\n",
            "Loss after epoch 28: 241313.0\n",
            "Loss after epoch 29: 240385.0\n"
          ]
        },
        {
          "data": {
            "image/png": "[encoded data removed]",
            "text/plain": [
              "<Figure size 640x480 with 1 Axes>"
            ]
          },
          "metadata": {},
          "output_type": "display_data"
        },
        {
          "data": {
            "text/plain": [
              "(6912441, 9299040)"
            ]
          },
          "execution_count": 98,
          "metadata": {},
          "output_type": "execute_result"
        }
      ],
      "source": [
        "# Entrenamos el modelo generador de vectores\n",
        "w2v_model_cbow.train(sentence_tokens,\n",
        "                 total_examples=w2v_model_cbow.corpus_count,\n",
        "                 epochs=30,\n",
        "                 compute_loss = True,\n",
        "                 callbacks=[callback()]\n",
        "                 )"
      ]
    },
    {
      "cell_type": "markdown",
      "metadata": {
        "id": "HZ-UhP5ZGbwh"
      },
      "source": [
        "Se vuelven a probar los 3 ejemplos anteriores"
      ]
    },
    {
      "cell_type": "code",
      "execution_count": 100,
      "metadata": {
        "colab": {
          "base_uri": "https://localhost:8080/"
        },
        "id": "2bKMqZI4GfSX",
        "outputId": "fa669f43-9fec-4101-957a-9b7f76122659"
      },
      "outputs": [
        {
          "data": {
            "text/plain": [
              "[('slow', 0.5512903928756714),\n",
              " ('beans', 0.542225182056427),\n",
              " ('pasta', 0.5232371687889099),\n",
              " ('wine', 0.5212426781654358),\n",
              " ('eggplants', 0.5051391124725342),\n",
              " ('lentils', 0.4867338240146637),\n",
              " ('boiling', 0.47734546661376953),\n",
              " ('chickpeas', 0.47449204325675964),\n",
              " ('gravy', 0.4606489837169647),\n",
              " ('grits', 0.4578205347061157)]"
            ]
          },
          "execution_count": 100,
          "metadata": {},
          "output_type": "execute_result"
        }
      ],
      "source": [
        "# Palabras que MÁS se relacionan con...:\n",
        "w2v_model_cbow.wv.most_similar(positive=[\"rice\"], topn=10)"
      ]
    },
    {
      "cell_type": "markdown",
      "metadata": {
        "id": "R-0k2wz1GmQl"
      },
      "source": [
        "- En este caso los términos relacionados no tienen tanto sentido, quizás \"slow\" y \"boiling\" por el tipo de cocción o \"wine\" por la bebida para acompañar una comida hecha con arroz.\n",
        "- Sin embargo vuelven a aparecer otras palabras en común como \"lentils\" y \"pasta\"."
      ]
    },
    {
      "cell_type": "code",
      "execution_count": 101,
      "metadata": {
        "colab": {
          "base_uri": "https://localhost:8080/"
        },
        "id": "GbJYpb2CG6Q4",
        "outputId": "2f34aa67-0d2a-4902-a131-286e84f9650f"
      },
      "outputs": [
        {
          "data": {
            "text/plain": [
              "[('adds', 0.4377403259277344),\n",
              " ('bright', 0.38836947083473206),\n",
              " ('tunisian', 0.38413798809051514),\n",
              " ('100g', 0.3780696988105774),\n",
              " ('leafy', 0.3760857880115509),\n",
              " ('preserved', 0.37195470929145813),\n",
              " ('by', 0.3712976276874542),\n",
              " ('gallo', 0.3559354841709137),\n",
              " ('semi', 0.3530730605125427),\n",
              " ('2oz', 0.350665807723999)]"
            ]
          },
          "execution_count": 101,
          "metadata": {},
          "output_type": "execute_result"
        }
      ],
      "source": [
        "# Palabras que MENOS se relacionan con...:\n",
        "w2v_model_cbow.wv.most_similar(negative=[\"oven\"], topn=10)"
      ]
    },
    {
      "cell_type": "markdown",
      "metadata": {
        "id": "X0E6y67DHC7I"
      },
      "source": [
        "Ninguna de las palabras parece tener mucha relación con oven, lo cual tiene sentido en el contexto de la cocina.*italicized text*"
      ]
    },
    {
      "cell_type": "code",
      "execution_count": 103,
      "metadata": {
        "colab": {
          "base_uri": "https://localhost:8080/"
        },
        "id": "5jtGNykiHNYB",
        "outputId": "782d705c-19e0-4fae-e043-a7c3b7fc76ba"
      },
      "outputs": [
        {
          "data": {
            "text/plain": [
              "[('liqueur', 0.5151645541191101),\n",
              " ('financiers', 0.5054951310157776),\n",
              " ('breadcrumbs', 0.5048317313194275),\n",
              " ('sourdough', 0.48013368248939514),\n",
              " ('kheer', 0.4629851281642914),\n",
              " ('biscuit', 0.4615136682987213)]"
            ]
          },
          "execution_count": 103,
          "metadata": {},
          "output_type": "execute_result"
        }
      ],
      "source": [
        "# Palabras que MÁS se relacionan con...:\n",
        "w2v_model_cbow.wv.most_similar(positive=[\"bread\"], topn=6)"
      ]
    },
    {
      "cell_type": "markdown",
      "metadata": {
        "id": "WD2iatyjHRYe"
      },
      "source": [
        "- Nuevamente, los resultados obtenidos con el modelo de Skipgram parecen más precisos.\n",
        "- Pero se vuelve a repetir alguna palabra en común con respecto al modelo anterior, como \"sourdough\"."
      ]
    },
    {
      "cell_type": "markdown",
      "metadata": {
        "id": "NPZ6hDeGbFgk"
      },
      "source": [
        "Ahora se prueba qué pasa si se elige como palabra más similar \"meat\" y como menos similar \"raw\""
      ]
    },
    {
      "cell_type": "code",
      "execution_count": 164,
      "metadata": {
        "colab": {
          "base_uri": "https://localhost:8080/"
        },
        "id": "8U_WeZlOYw_h",
        "outputId": "7c4404f3-71f3-458a-a540-195a090940ad"
      },
      "outputs": [
        {
          "data": {
            "text/plain": [
              "[('venison', 0.4655616283416748),\n",
              " ('burning', 0.41729360818862915),\n",
              " ('240c', 0.4029141366481781),\n",
              " ('stew', 0.3991469740867615),\n",
              " ('pot', 0.3938199579715729),\n",
              " ('lamb', 0.39286723732948303),\n",
              " ('ºf', 0.38742998242378235),\n",
              " ('spare', 0.38580527901649475),\n",
              " ('tenderise', 0.3782281279563904),\n",
              " ('450ºf', 0.3770527243614197)]"
            ]
          },
          "execution_count": 164,
          "metadata": {},
          "output_type": "execute_result"
        }
      ],
      "source": [
        "w2v_model.wv.most_similar(positive=[\"meat\"], negative=[\"raw\"])"
      ]
    },
    {
      "cell_type": "markdown",
      "metadata": {
        "id": "uZY-LbKxbX4R"
      },
      "source": [
        "Puede observarse que los términos que aparecen son relacionados con la cocción de carna y con las altas temperaturas."
      ]
    },
    {
      "cell_type": "markdown",
      "metadata": {
        "id": "RDKLhYj-Epkw"
      },
      "source": [
        "### 3. Plantear y probar tests de analogías."
      ]
    },
    {
      "cell_type": "markdown",
      "metadata": {
        "id": "Smi-kGIeHt4a"
      },
      "source": [
        "Caso 1: se realizará el siguiente test:\n",
        "\n",
        "- $grilled - stake \\simeq boiled - potatoes$"
      ]
    },
    {
      "cell_type": "code",
      "execution_count": 168,
      "metadata": {
        "colab": {
          "base_uri": "https://localhost:8080/"
        },
        "id": "M6nm3aq_Ir4J",
        "outputId": "811d6196-cca1-45fc-efc4-f9b54d8e7bea"
      },
      "outputs": [
        {
          "data": {
            "text/plain": [
              "0.30406588"
            ]
          },
          "execution_count": 168,
          "metadata": {},
          "output_type": "execute_result"
        }
      ],
      "source": [
        "from sklearn.metrics.pairwise import cosine_similarity\n",
        "\n",
        "cosine_similarity(\n",
        "                  (w2v_model.wv.get_vector(\"grilled\") - w2v_model.wv.get_vector(\"steak\")).reshape(1,-1),\n",
        "                  (w2v_model.wv.get_vector(\"boiled\") - w2v_model.wv.get_vector(\"potatoes\")).reshape(1,-1)\n",
        "                  )[0][0]"
      ]
    },
    {
      "cell_type": "markdown",
      "metadata": {
        "id": "OmyYBdBocuS5"
      },
      "source": [
        "Se ve que la similaridad coseno no es tan grande pero llega a valores cercanos a los que se tenían en las últimas palabras del top 10 al buscar relaciones en el apartado anterior."
      ]
    },
    {
      "cell_type": "markdown",
      "metadata": {
        "id": "D0Hsbt7xdTcx"
      },
      "source": [
        "Caso 2: se realizará el siguiente test:\n",
        "\n",
        "- $sushi - japan \\simeq kimchi - korea$"
      ]
    },
    {
      "cell_type": "code",
      "execution_count": 171,
      "metadata": {
        "colab": {
          "base_uri": "https://localhost:8080/"
        },
        "id": "yPgSfBqac_KH",
        "outputId": "d7c192b3-14d4-423f-9414-0225b45931de"
      },
      "outputs": [
        {
          "data": {
            "text/plain": [
              "0.3264291"
            ]
          },
          "execution_count": 171,
          "metadata": {},
          "output_type": "execute_result"
        }
      ],
      "source": [
        "from sklearn.metrics.pairwise import cosine_similarity\n",
        "\n",
        "cosine_similarity(\n",
        "                  (w2v_model.wv.get_vector(\"sushi\") - w2v_model.wv.get_vector(\"japan\")).reshape(1,-1),\n",
        "                  (w2v_model.wv.get_vector(\"kimchi\") - w2v_model.wv.get_vector(\"korea\")).reshape(1,-1)\n",
        "                  )[0][0]"
      ]
    },
    {
      "cell_type": "markdown",
      "metadata": {
        "id": "mWuQ7ZD4dZ5h"
      },
      "source": [
        "Nuevamente, se obtiene un valor cercano a 0.3"
      ]
    },
    {
      "cell_type": "markdown",
      "metadata": {
        "id": "wh73ZNjVc6c4"
      },
      "source": [
        "Ahora se plantea un test de hipótesis con una relación sin sentido para ver la similaridad coseno:\n",
        "\n",
        "- $cossim(pasta - meat, eggs - little)$"
      ]
    },
    {
      "cell_type": "code",
      "execution_count": 172,
      "metadata": {
        "colab": {
          "base_uri": "https://localhost:8080/"
        },
        "id": "Dqj1wdt1dekZ",
        "outputId": "f5da22e2-758f-4245-8f80-66685eabd8b5"
      },
      "outputs": [
        {
          "data": {
            "text/plain": [
              "-0.03421502"
            ]
          },
          "execution_count": 172,
          "metadata": {},
          "output_type": "execute_result"
        }
      ],
      "source": [
        "cosine_similarity(\n",
        "                  (w2v_model.wv.get_vector(\"pasta\") - w2v_model.wv.get_vector(\"meat\")).reshape(1,-1),\n",
        "                  (w2v_model.wv.get_vector(\"eggs\") - w2v_model.wv.get_vector(\"little\")).reshape(1,-1)\n",
        "                  )[0][0]"
      ]
    },
    {
      "cell_type": "markdown",
      "metadata": {
        "id": "nDWOBE_YdxDO"
      },
      "source": [
        "El resultado es un número muy pequeño lo que indica muy poca relación entre ambos vectores."
      ]
    },
    {
      "cell_type": "markdown",
      "metadata": {
        "id": "_g8UVWe6lFmh"
      },
      "source": [
        "### 4. Graficar los embeddings resultantes\n",
        "\n",
        "- Se utiliza t-sne como técnica de reducción de dimensionalidad de los vectores.\n",
        "- Se reducen a 2 dimensiones y a 3 dimensiones"
      ]
    },
    {
      "cell_type": "code",
      "execution_count": 122,
      "metadata": {
        "id": "pDxEVXAivjr9"
      },
      "outputs": [],
      "source": [
        "from sklearn.manifold import TSNE\n",
        "import numpy as np\n",
        "\n",
        "def reduce_dimensions(model, num_dimensions = 2 ):\n",
        "\n",
        "    vectors = np.asarray(model.wv.vectors)\n",
        "    labels = np.asarray(model.wv.index_to_key)\n",
        "\n",
        "    tsne = TSNE(n_components=num_dimensions, random_state=0)\n",
        "    vectors = tsne.fit_transform(vectors)\n",
        "\n",
        "    return vectors, labels"
      ]
    },
    {
      "cell_type": "code",
      "execution_count": 123,
      "metadata": {
        "colab": {
          "base_uri": "https://localhost:8080/",
          "height": 542
        },
        "id": "NCCXtDpcugmd",
        "outputId": "506a599d-cae3-4157-f582-9e0b3cfe243f"
      },
      "outputs": [
        {
          "data": {
            "text/html": [
              "<html>\n",
              "<head><meta charset=\"utf-8\" /></head>\n",
              "<body>\n",
              "    <div>            <script src=\"https://cdnjs.cloudflare.com/ajax/libs/mathjax/2.7.5/MathJax.js?config=TeX-AMS-MML_SVG\"></script><script type=\"text/javascript\">if (window.MathJax && window.MathJax.Hub && window.MathJax.Hub.Config) {window.MathJax.Hub.Config({SVG: {font: \"STIX-Web\"}});}</script>                <script type=\"text/javascript\">window.PlotlyConfig = {MathJaxConfig: 'local'};</script>\n",
              "        <script charset=\"utf-8\" src=\"https://cdn.plot.ly/plotly-2.24.1.min.js\"></script>                <div id=\"abf4955c-fece-4953-916c-e639b179d167\" class=\"plotly-graph-div\" style=\"height:525px; width:100%;\"></div>            <script type=\"text/javascript\">                                    window.PLOTLYENV=window.PLOTLYENV || {};                                    if (document.getElementById(\"abf4955c-fece-4953-916c-e639b179d167\")) {                    Plotly.newPlot(                        \"abf4955c-fece-4953-916c-e639b179d167\",                        [{\"hovertemplate\":\"x=%{x}\\u003cbr\\u003ey=%{y}\\u003cbr\\u003etext=%{text}\\u003cextra\\u003e\\u003c\\u002fextra\\u003e\",\"legendgroup\":\"\",\"marker\":{\"color\":\"#636efa\",\"symbol\":\"circle\"},\"mode\":\"markers+text\",\"name\":\"\",\"orientation\":\"v\",\"showlegend\":false,\"text\":[\"the\",\"and\",\"a\",\"1\",\"to\",\"of\",\"in\",\"2\",\"for\",\"with\",\"add\",\"it\",\"minutes\",\"until\",\"3\",\"you\",\"on\",\"4\",\"or\",\"is\",\"salt\",\"sugar\",\"oil\",\"cup\",\"5\",\"into\",\"water\",\"heat\",\"ingredients\",\"tsp\",\"mix\",\"butter\",\"tbsp\",\"sauce\",\"cook\",\"your\",\"flour\",\"recipe\",\"dough\",\"if\",\"i\",\"this\",\"then\",\"pepper\",\"be\",\"all\",\"bowl\",\"pan\",\"at\",\"powder\",\"https\",\"garlic\",\"as\",\"cream\",\"can\",\"chicken\",\"them\",\"10\",\"6\",\"from\",\"baking\",\"medium\",\"oven\",\"milk\",\"out\",\"about\",\"let\",\"amp\",\"make\",\"rice\",\"egg\",\"over\",\"cut\",\"g\",\"well\",\"stir\",\"put\",\"more\",\"are\",\"8\",\"use\",\"that\",\"place\",\"com\",\"time\",\"pot\",\"large\",\"onion\",\"some\",\"top\",\"will\",\"up\",\"cheese\",\"brown\",\"step\",\"7\",\"mixture\",\"together\",\"chopped\",\"cups\",\"eggs\",\"one\",\"small\",\"pour\",\"so\",\"not\",\"but\",\"gr\",\"dry\",\"once\",\"remove\",\"cover\",\"taste\",\"have\",\"30\",\"take\",\"15\",\"red\",\"half\",\"white\",\"chocolate\",\"cooking\",\"when\",\"instructions\",\"like\",\"vanilla\",\"by\",\"olive\",\"an\",\"hot\",\"boil\",\"just\",\"video\",\"cool\",\"cake\",\"using\",\"turn\",\"20\",\"here\",\"bake\",\"serve\",\"x200b\",\"teaspoon\",\"set\",\"black\",\"low\",\"paste\",\"pasta\",\"onions\",\"each\",\"after\",\"www\",\"lemon\",\"c\",\"my\",\"off\",\"pieces\",\"fresh\",\"cooked\",\"stock\",\"enjoy\",\"high\",\"green\",\"fry\",\"ginger\",\"youtu\",\"tomatoes\",\"meat\",\"little\",\"want\",\"any\",\"9\",\"before\",\"get\",\"rest\",\"roll\",\"tablespoons\",\"another\",\"\\u00b7\",\"they\",\"season\",\"minced\",\"directions\",\"whisk\",\"optional\",\"12\",\"down\",\"cloves\",\"very\",\"dish\",\"aside\",\"should\",\"soy\",\"bread\",\"cinnamon\",\"now\",\"combine\",\"mushrooms\",\"side\",\"transfer\"],\"x\":[-7.8157243728637695,-5.705259323120117,-6.503298282623291,26.841707229614258,-4.83603572845459,-7.5399065017700195,-6.957791805267334,21.37200164794922,-3.722533702850342,-6.23284912109375,1.3549153804779053,-4.306042194366455,21.072265625,0.12419937551021576,21.058286666870117,-3.4928417205810547,-6.435446739196777,21.17506980895996,2.8902697563171387,-6.046083450317383,36.27743148803711,29.20120620727539,19.57190704345703,26.803260803222656,18.776412963867188,-6.861315727233887,14.530349731445312,11.759889602661133,-38.27659606933594,38.22883605957031,2.293308734893799,19.202381134033203,25.482954025268555,13.525647163391113,12.749651908874512,-7.215989112854004,31.8514404296875,-12.24195671081543,-13.806158065795898,-0.202017143368721,-11.697073936462402,-10.590097427368164,-3.713103771209717,36.29096984863281,-11.591548919677734,-5.113821983337402,3.4906606674194336,2.2941906452178955,26.05089569091797,35.815155029296875,-1.5602214336395264,36.311546325683594,-7.992027759552002,20.63097381591797,-2.5292611122131348,-34.482948303222656,-4.30515193939209,21.048599243164062,19.123401641845703,-29.026647567749023,-10.958664894104004,13.619135856628418,25.4998722076416,34.57298278808594,-18.16387939453125,16.805145263671875,-1.7501660585403442,-10.338417053222656,-13.936967849731445,8.942431449890137,18.528444290161133,-6.407233715057373,-18.1661376953125,37.90089797973633,2.9746344089508057,2.653456449508667,-3.450727701187134,-0.3407890796661377,-6.494121074676514,19.447038650512695,2.445155620574951,-9.846088409423828,-3.9749011993408203,-0.21120277047157288,-10.723331451416016,2.7289695739746094,-2.487663507461548,34.29273986816406,-6.265249729156494,-8.124659538269043,-2.662810802459717,-7.961362361907959,25.857078552246094,6.920812129974365,-1.8517576456069946,18.801729202270508,1.1806341409683228,2.284855842590332,34.8621711730957,26.836698532104492,18.687429428100586,-12.457085609436035,-3.0029377937316895,-2.2768638134002686,-9.142066955566406,-6.776784420013428,-8.788183212280273,39.01604080200195,-37.68510437011719,-0.557296872138977,-4.810565948486328,-6.040647983551025,1.605480670928955,-5.386619567871094,21.737415313720703,-3.868358850479126,21.340688705444336,36.6164665222168,-10.80774211883545,27.596450805664062,15.497767448425293,-31.226139068603516,-0.826273500919342,-32.05018615722656,-2.258265972137451,32.8723258972168,-0.21580912172794342,20.19570541381836,-6.774350166320801,12.239541053771973,13.137742042541504,-5.187911033630371,-16.322343826293945,15.357715606689453,-17.107776641845703,2.5089902877807617,0.6282696723937988,21.631210327148438,-15.812597274780273,24.212554931640625,-30.887449264526367,-10.191579818725586,38.002723693847656,1.6865442991256714,40.248111724853516,13.688581466674805,13.34528636932373,-35.938262939453125,33.67216491699219,-12.797374725341797,-1.718919038772583,-1.518507480621338,31.31036376953125,26.817028045654297,-22.761024475097656,-29.077346801757812,-21.1319580078125,39.19591522216797,6.094514846801758,-34.427581787109375,-30.839908599853516,13.626286506652832,38.29069519042969,12.798185348510742,37.653045654296875,-11.141396522521973,28.809568405151367,-34.18238830566406,-3.184650182723999,-3.6948769092559814,-6.412250995635986,19.583133697509766,-2.48964262008667,-14.913700103759766,13.122817993164062,-16.298980712890625,25.473968505859375,-4.173920631408691,20.767690658569336,-3.3976926803588867,-0.9345982670783997,34.85478973388672,-32.099212646484375,6.3651957511901855,25.407461166381836,20.421253204345703,-7.880232334136963,37.912193298339844,-7.744823455810547,-19.296554565429688,1.8466626405715942,-2.6477808952331543,14.952946662902832,-24.772584915161133,38.61762619018555,-1.998239517211914,2.1607506275177,26.655271530151367,-31.71139144897461,-1.9138261079788208],\"xaxis\":\"x\",\"y\":[-12.559112548828125,-12.235806465148926,-10.478460311889648,22.957143783569336,-10.492045402526855,-12.535436630249023,-12.794381141662598,-0.1870429962873459,-11.714425086975098,-12.415597915649414,-18.85888671875,-8.967370986938477,-22.423362731933594,-12.558624267578125,-0.5827429294586182,2.525157928466797,-12.820767402648926,-0.23167312145233154,2.718623399734497,0.30880770087242126,8.370174407958984,14.8947114944458,15.577341079711914,21.96336555480957,-15.109992980957031,-13.862787246704102,-5.368225574493408,-31.191316604614258,3.9972269535064697,12.032392501831055,-17.399215698242188,1.2611781358718872,20.948646545410156,20.08197593688965,-25.9089298248291,-9.604046821594238,18.482086181640625,33.41743087768555,-31.580930709838867,5.073939323425293,9.636852264404297,8.75790023803711,-13.387539863586426,7.853104591369629,0.7087457180023193,-13.251832008361816,-34.048580169677734,-34.00435256958008,-24.259048461914062,11.964597702026367,41.28556442260742,-6.863309383392334,3.1610050201416016,4.448477745056152,-1.0910072326660156,-12.84278678894043,-9.384403228759766,-16.9759578704834,-15.130640983581543,-32.87310028076172,-45.297122955322266,-31.634010314941406,-33.35026931762695,16.733474731445312,-27.14204216003418,-15.013700485229492,-24.140377044677734,45.77406311035156,-1.2283861637115479,13.221943855285645,-2.581760883331299,-13.053875923156738,-30.609237670898438,26.376510620117188,-13.342642784118652,-18.838165283203125,-22.896690368652344,2.348783493041992,0.949472188949585,-15.328238487243652,3.109581470489502,5.80435848236084,-23.06229019165039,37.974700927734375,-0.5148259401321411,-34.62173843383789,-36.30302047729492,-7.648490905761719,-8.140170097351074,-18.077613830566406,-2.189897060394287,-11.459696769714355,4.165955066680908,-18.302621841430664,-10.582823753356934,-15.229135513305664,-17.083818435668945,-17.048297882080078,-3.733499050140381,21.977846145629883,-2.572143077850342,-10.124082565307617,-36.34928894042969,-22.473649978637695,2.336961507797241,4.504113674163818,5.933983325958252,27.043676376342773,-36.169525146484375,-12.490625381469727,-27.54169464111328,-15.22020435333252,7.958198547363281,3.970578908920288,-18.8542423248291,-22.65406036376953,-17.43886375427246,-3.9451091289520264,-14.31979751586914,9.896441459655762,5.705844879150391,-12.116229057312012,-12.338004112243652,37.96803665161133,5.366331100463867,12.621075630187988,-11.318560600280762,15.505017280578613,-10.257802963256836,-7.733242511749268,-28.627254486083984,-4.978944301605225,39.79683303833008,-40.4224739074707,-18.58323097229004,3.053497076034546,-21.4029483795166,-17.902355194091797,42.82520294189453,-30.415327072143555,0.8572447896003723,46.08769607543945,12.127069473266602,-12.157586097717285,6.370013236999512,-32.241397857666016,19.685033798217773,-4.747555732727051,-7.468879699707031,-10.460269927978516,-12.06234359741211,41.17742919921875,7.887573719024658,21.681869506835938,16.48295783996582,-33.5435676574707,-30.613052368164062,-0.7493973970413208,-6.208327770233154,-8.871459007263184,0.8868095874786377,-32.20238494873047,-4.453738689422607,-26.088176727294922,-9.834810256958008,43.54222106933594,-5.221175193786621,-13.85012149810791,-6.577993869781494,4.520610809326172,-7.996003150939941,-15.366191864013672,-12.221193313598633,-0.7805206179618835,-40.13604736328125,-31.738527297973633,21.50567054748535,-11.763139724731445,-0.27160054445266724,2.054837942123413,-19.866960525512695,-3.964679479598999,37.99013137817383,-34.021751403808594,10.024110794067383,-16.22928810119629,-11.112333297729492,-7.377791881561279,5.40092134475708,-13.241559028625488,-12.104106903076172,-2.317781686782837,20.725767135620117,-2.4905998706817627,7.2745680809021,-10.977460861206055,-17.288793563842773,-5.047947883605957,-19.488889694213867,-21.66110610961914],\"yaxis\":\"y\",\"type\":\"scatter\"}],                        {\"template\":{\"data\":{\"histogram2dcontour\":[{\"type\":\"histogram2dcontour\",\"colorbar\":{\"outlinewidth\":0,\"ticks\":\"\"},\"colorscale\":[[0.0,\"#0d0887\"],[0.1111111111111111,\"#46039f\"],[0.2222222222222222,\"#7201a8\"],[0.3333333333333333,\"#9c179e\"],[0.4444444444444444,\"#bd3786\"],[0.5555555555555556,\"#d8576b\"],[0.6666666666666666,\"#ed7953\"],[0.7777777777777778,\"#fb9f3a\"],[0.8888888888888888,\"#fdca26\"],[1.0,\"#f0f921\"]]}],\"choropleth\":[{\"type\":\"choropleth\",\"colorbar\":{\"outlinewidth\":0,\"ticks\":\"\"}}],\"histogram2d\":[{\"type\":\"histogram2d\",\"colorbar\":{\"outlinewidth\":0,\"ticks\":\"\"},\"colorscale\":[[0.0,\"#0d0887\"],[0.1111111111111111,\"#46039f\"],[0.2222222222222222,\"#7201a8\"],[0.3333333333333333,\"#9c179e\"],[0.4444444444444444,\"#bd3786\"],[0.5555555555555556,\"#d8576b\"],[0.6666666666666666,\"#ed7953\"],[0.7777777777777778,\"#fb9f3a\"],[0.8888888888888888,\"#fdca26\"],[1.0,\"#f0f921\"]]}],\"heatmap\":[{\"type\":\"heatmap\",\"colorbar\":{\"outlinewidth\":0,\"ticks\":\"\"},\"colorscale\":[[0.0,\"#0d0887\"],[0.1111111111111111,\"#46039f\"],[0.2222222222222222,\"#7201a8\"],[0.3333333333333333,\"#9c179e\"],[0.4444444444444444,\"#bd3786\"],[0.5555555555555556,\"#d8576b\"],[0.6666666666666666,\"#ed7953\"],[0.7777777777777778,\"#fb9f3a\"],[0.8888888888888888,\"#fdca26\"],[1.0,\"#f0f921\"]]}],\"heatmapgl\":[{\"type\":\"heatmapgl\",\"colorbar\":{\"outlinewidth\":0,\"ticks\":\"\"},\"colorscale\":[[0.0,\"#0d0887\"],[0.1111111111111111,\"#46039f\"],[0.2222222222222222,\"#7201a8\"],[0.3333333333333333,\"#9c179e\"],[0.4444444444444444,\"#bd3786\"],[0.5555555555555556,\"#d8576b\"],[0.6666666666666666,\"#ed7953\"],[0.7777777777777778,\"#fb9f3a\"],[0.8888888888888888,\"#fdca26\"],[1.0,\"#f0f921\"]]}],\"contourcarpet\":[{\"type\":\"contourcarpet\",\"colorbar\":{\"outlinewidth\":0,\"ticks\":\"\"}}],\"contour\":[{\"type\":\"contour\",\"colorbar\":{\"outlinewidth\":0,\"ticks\":\"\"},\"colorscale\":[[0.0,\"#0d0887\"],[0.1111111111111111,\"#46039f\"],[0.2222222222222222,\"#7201a8\"],[0.3333333333333333,\"#9c179e\"],[0.4444444444444444,\"#bd3786\"],[0.5555555555555556,\"#d8576b\"],[0.6666666666666666,\"#ed7953\"],[0.7777777777777778,\"#fb9f3a\"],[0.8888888888888888,\"#fdca26\"],[1.0,\"#f0f921\"]]}],\"surface\":[{\"type\":\"surface\",\"colorbar\":{\"outlinewidth\":0,\"ticks\":\"\"},\"colorscale\":[[0.0,\"#0d0887\"],[0.1111111111111111,\"#46039f\"],[0.2222222222222222,\"#7201a8\"],[0.3333333333333333,\"#9c179e\"],[0.4444444444444444,\"#bd3786\"],[0.5555555555555556,\"#d8576b\"],[0.6666666666666666,\"#ed7953\"],[0.7777777777777778,\"#fb9f3a\"],[0.8888888888888888,\"#fdca26\"],[1.0,\"#f0f921\"]]}],\"mesh3d\":[{\"type\":\"mesh3d\",\"colorbar\":{\"outlinewidth\":0,\"ticks\":\"\"}}],\"scatter\":[{\"fillpattern\":{\"fillmode\":\"overlay\",\"size\":10,\"solidity\":0.2},\"type\":\"scatter\"}],\"parcoords\":[{\"type\":\"parcoords\",\"line\":{\"colorbar\":{\"outlinewidth\":0,\"ticks\":\"\"}}}],\"scatterpolargl\":[{\"type\":\"scatterpolargl\",\"marker\":{\"colorbar\":{\"outlinewidth\":0,\"ticks\":\"\"}}}],\"bar\":[{\"error_x\":{\"color\":\"#2a3f5f\"},\"error_y\":{\"color\":\"#2a3f5f\"},\"marker\":{\"line\":{\"color\":\"#E5ECF6\",\"width\":0.5},\"pattern\":{\"fillmode\":\"overlay\",\"size\":10,\"solidity\":0.2}},\"type\":\"bar\"}],\"scattergeo\":[{\"type\":\"scattergeo\",\"marker\":{\"colorbar\":{\"outlinewidth\":0,\"ticks\":\"\"}}}],\"scatterpolar\":[{\"type\":\"scatterpolar\",\"marker\":{\"colorbar\":{\"outlinewidth\":0,\"ticks\":\"\"}}}],\"histogram\":[{\"marker\":{\"pattern\":{\"fillmode\":\"overlay\",\"size\":10,\"solidity\":0.2}},\"type\":\"histogram\"}],\"scattergl\":[{\"type\":\"scattergl\",\"marker\":{\"colorbar\":{\"outlinewidth\":0,\"ticks\":\"\"}}}],\"scatter3d\":[{\"type\":\"scatter3d\",\"line\":{\"colorbar\":{\"outlinewidth\":0,\"ticks\":\"\"}},\"marker\":{\"colorbar\":{\"outlinewidth\":0,\"ticks\":\"\"}}}],\"scattermapbox\":[{\"type\":\"scattermapbox\",\"marker\":{\"colorbar\":{\"outlinewidth\":0,\"ticks\":\"\"}}}],\"scatterternary\":[{\"type\":\"scatterternary\",\"marker\":{\"colorbar\":{\"outlinewidth\":0,\"ticks\":\"\"}}}],\"scattercarpet\":[{\"type\":\"scattercarpet\",\"marker\":{\"colorbar\":{\"outlinewidth\":0,\"ticks\":\"\"}}}],\"carpet\":[{\"aaxis\":{\"endlinecolor\":\"#2a3f5f\",\"gridcolor\":\"white\",\"linecolor\":\"white\",\"minorgridcolor\":\"white\",\"startlinecolor\":\"#2a3f5f\"},\"baxis\":{\"endlinecolor\":\"#2a3f5f\",\"gridcolor\":\"white\",\"linecolor\":\"white\",\"minorgridcolor\":\"white\",\"startlinecolor\":\"#2a3f5f\"},\"type\":\"carpet\"}],\"table\":[{\"cells\":{\"fill\":{\"color\":\"#EBF0F8\"},\"line\":{\"color\":\"white\"}},\"header\":{\"fill\":{\"color\":\"#C8D4E3\"},\"line\":{\"color\":\"white\"}},\"type\":\"table\"}],\"barpolar\":[{\"marker\":{\"line\":{\"color\":\"#E5ECF6\",\"width\":0.5},\"pattern\":{\"fillmode\":\"overlay\",\"size\":10,\"solidity\":0.2}},\"type\":\"barpolar\"}],\"pie\":[{\"automargin\":true,\"type\":\"pie\"}]},\"layout\":{\"autotypenumbers\":\"strict\",\"colorway\":[\"#636efa\",\"#EF553B\",\"#00cc96\",\"#ab63fa\",\"#FFA15A\",\"#19d3f3\",\"#FF6692\",\"#B6E880\",\"#FF97FF\",\"#FECB52\"],\"font\":{\"color\":\"#2a3f5f\"},\"hovermode\":\"closest\",\"hoverlabel\":{\"align\":\"left\"},\"paper_bgcolor\":\"white\",\"plot_bgcolor\":\"#E5ECF6\",\"polar\":{\"bgcolor\":\"#E5ECF6\",\"angularaxis\":{\"gridcolor\":\"white\",\"linecolor\":\"white\",\"ticks\":\"\"},\"radialaxis\":{\"gridcolor\":\"white\",\"linecolor\":\"white\",\"ticks\":\"\"}},\"ternary\":{\"bgcolor\":\"#E5ECF6\",\"aaxis\":{\"gridcolor\":\"white\",\"linecolor\":\"white\",\"ticks\":\"\"},\"baxis\":{\"gridcolor\":\"white\",\"linecolor\":\"white\",\"ticks\":\"\"},\"caxis\":{\"gridcolor\":\"white\",\"linecolor\":\"white\",\"ticks\":\"\"}},\"coloraxis\":{\"colorbar\":{\"outlinewidth\":0,\"ticks\":\"\"}},\"colorscale\":{\"sequential\":[[0.0,\"#0d0887\"],[0.1111111111111111,\"#46039f\"],[0.2222222222222222,\"#7201a8\"],[0.3333333333333333,\"#9c179e\"],[0.4444444444444444,\"#bd3786\"],[0.5555555555555556,\"#d8576b\"],[0.6666666666666666,\"#ed7953\"],[0.7777777777777778,\"#fb9f3a\"],[0.8888888888888888,\"#fdca26\"],[1.0,\"#f0f921\"]],\"sequentialminus\":[[0.0,\"#0d0887\"],[0.1111111111111111,\"#46039f\"],[0.2222222222222222,\"#7201a8\"],[0.3333333333333333,\"#9c179e\"],[0.4444444444444444,\"#bd3786\"],[0.5555555555555556,\"#d8576b\"],[0.6666666666666666,\"#ed7953\"],[0.7777777777777778,\"#fb9f3a\"],[0.8888888888888888,\"#fdca26\"],[1.0,\"#f0f921\"]],\"diverging\":[[0,\"#8e0152\"],[0.1,\"#c51b7d\"],[0.2,\"#de77ae\"],[0.3,\"#f1b6da\"],[0.4,\"#fde0ef\"],[0.5,\"#f7f7f7\"],[0.6,\"#e6f5d0\"],[0.7,\"#b8e186\"],[0.8,\"#7fbc41\"],[0.9,\"#4d9221\"],[1,\"#276419\"]]},\"xaxis\":{\"gridcolor\":\"white\",\"linecolor\":\"white\",\"ticks\":\"\",\"title\":{\"standoff\":15},\"zerolinecolor\":\"white\",\"automargin\":true,\"zerolinewidth\":2},\"yaxis\":{\"gridcolor\":\"white\",\"linecolor\":\"white\",\"ticks\":\"\",\"title\":{\"standoff\":15},\"zerolinecolor\":\"white\",\"automargin\":true,\"zerolinewidth\":2},\"scene\":{\"xaxis\":{\"backgroundcolor\":\"#E5ECF6\",\"gridcolor\":\"white\",\"linecolor\":\"white\",\"showbackground\":true,\"ticks\":\"\",\"zerolinecolor\":\"white\",\"gridwidth\":2},\"yaxis\":{\"backgroundcolor\":\"#E5ECF6\",\"gridcolor\":\"white\",\"linecolor\":\"white\",\"showbackground\":true,\"ticks\":\"\",\"zerolinecolor\":\"white\",\"gridwidth\":2},\"zaxis\":{\"backgroundcolor\":\"#E5ECF6\",\"gridcolor\":\"white\",\"linecolor\":\"white\",\"showbackground\":true,\"ticks\":\"\",\"zerolinecolor\":\"white\",\"gridwidth\":2}},\"shapedefaults\":{\"line\":{\"color\":\"#2a3f5f\"}},\"annotationdefaults\":{\"arrowcolor\":\"#2a3f5f\",\"arrowhead\":0,\"arrowwidth\":1},\"geo\":{\"bgcolor\":\"white\",\"landcolor\":\"#E5ECF6\",\"subunitcolor\":\"white\",\"showland\":true,\"showlakes\":true,\"lakecolor\":\"white\"},\"title\":{\"x\":0.05},\"mapbox\":{\"style\":\"light\"}}},\"xaxis\":{\"anchor\":\"y\",\"domain\":[0.0,1.0],\"title\":{\"text\":\"x\"}},\"yaxis\":{\"anchor\":\"x\",\"domain\":[0.0,1.0],\"title\":{\"text\":\"y\"}},\"legend\":{\"tracegroupgap\":0},\"margin\":{\"t\":60}},                        {\"responsive\": true}                    ).then(function(){\n",
              "                            \n",
              "var gd = document.getElementById('abf4955c-fece-4953-916c-e639b179d167');\n",
              "var x = new MutationObserver(function (mutations, observer) {{\n",
              "        var display = window.getComputedStyle(gd).display;\n",
              "        if (!display || display === 'none') {{\n",
              "            console.log([gd, 'removed!']);\n",
              "            Plotly.purge(gd);\n",
              "            observer.disconnect();\n",
              "        }}\n",
              "}});\n",
              "\n",
              "// Listen for the removal of the full notebook cells\n",
              "var notebookContainer = gd.closest('#notebook-container');\n",
              "if (notebookContainer) {{\n",
              "    x.observe(notebookContainer, {childList: true});\n",
              "}}\n",
              "\n",
              "// Listen for the clearing of the current output cell\n",
              "var outputEl = gd.closest('.output');\n",
              "if (outputEl) {{\n",
              "    x.observe(outputEl, {childList: true});\n",
              "}}\n",
              "\n",
              "                        })                };                            </script>        </div>\n",
              "</body>\n",
              "</html>"
            ]
          },
          "metadata": {},
          "output_type": "display_data"
        }
      ],
      "source": [
        "# Graficar los embedddings en 2D\n",
        "import plotly.graph_objects as go\n",
        "import plotly.express as px\n",
        "\n",
        "vecs, labels = reduce_dimensions(w2v_model)\n",
        "\n",
        "MAX_WORDS=200\n",
        "fig = px.scatter(x=vecs[:MAX_WORDS,0], y=vecs[:MAX_WORDS,1], text=labels[:MAX_WORDS])\n",
        "fig.show(renderer=\"colab\") # esto para plotly en colab"
      ]
    },
    {
      "cell_type": "markdown",
      "metadata": {
        "id": "RBCh-9vPXPzj"
      },
      "source": [
        "Se observan relaciones interesantes de palabras cercanas como:\n",
        "- \"chicken\" y \"meat\"\n",
        "- \"roll\" y \"dough\"\n",
        "- \"pan\", \"pot\" y \"bowl\"\n",
        "- Los números cerca de \"minutes\"\n",
        "- \"directions\" y \"instructions\"\n"
      ]
    },
    {
      "cell_type": "code",
      "execution_count": 124,
      "metadata": {
        "colab": {
          "base_uri": "https://localhost:8080/",
          "height": 542
        },
        "id": "miIsCD37-Q4J",
        "outputId": "934adfca-4fe3-4abb-8615-0267da1dd818"
      },
      "outputs": [
        {
          "data": {
            "text/html": [
              "<html>\n",
              "<head><meta charset=\"utf-8\" /></head>\n",
              "<body>\n",
              "    <div>            <script src=\"https://cdnjs.cloudflare.com/ajax/libs/mathjax/2.7.5/MathJax.js?config=TeX-AMS-MML_SVG\"></script><script type=\"text/javascript\">if (window.MathJax && window.MathJax.Hub && window.MathJax.Hub.Config) {window.MathJax.Hub.Config({SVG: {font: \"STIX-Web\"}});}</script>                <script type=\"text/javascript\">window.PlotlyConfig = {MathJaxConfig: 'local'};</script>\n",
              "        <script charset=\"utf-8\" src=\"https://cdn.plot.ly/plotly-2.24.1.min.js\"></script>                <div id=\"56ef30e4-38eb-452b-8929-06173f3de5da\" class=\"plotly-graph-div\" style=\"height:525px; width:100%;\"></div>            <script type=\"text/javascript\">                                    window.PLOTLYENV=window.PLOTLYENV || {};                                    if (document.getElementById(\"56ef30e4-38eb-452b-8929-06173f3de5da\")) {                    Plotly.newPlot(                        \"56ef30e4-38eb-452b-8929-06173f3de5da\",                        [{\"hovertemplate\":\"x=%{x}\\u003cbr\\u003ey=%{y}\\u003cbr\\u003ez=%{z}\\u003cbr\\u003etext=%{text}\\u003cextra\\u003e\\u003c\\u002fextra\\u003e\",\"legendgroup\":\"\",\"marker\":{\"color\":\"#636efa\",\"symbol\":\"circle\",\"size\":2},\"mode\":\"markers+text\",\"name\":\"\",\"scene\":\"scene\",\"showlegend\":false,\"text\":[\"the\",\"and\",\"a\",\"1\",\"to\",\"of\",\"in\",\"2\",\"for\",\"with\",\"add\",\"it\",\"minutes\",\"until\",\"3\",\"you\",\"on\",\"4\",\"or\",\"is\",\"salt\",\"sugar\",\"oil\",\"cup\",\"5\",\"into\",\"water\",\"heat\",\"ingredients\",\"tsp\",\"mix\",\"butter\",\"tbsp\",\"sauce\",\"cook\",\"your\",\"flour\",\"recipe\",\"dough\",\"if\",\"i\",\"this\",\"then\",\"pepper\",\"be\",\"all\",\"bowl\",\"pan\",\"at\",\"powder\",\"https\",\"garlic\",\"as\",\"cream\",\"can\",\"chicken\",\"them\",\"10\",\"6\",\"from\",\"baking\",\"medium\",\"oven\",\"milk\",\"out\",\"about\",\"let\",\"amp\",\"make\",\"rice\",\"egg\",\"over\",\"cut\",\"g\",\"well\",\"stir\",\"put\",\"more\",\"are\",\"8\",\"use\",\"that\",\"place\",\"com\",\"time\",\"pot\",\"large\",\"onion\",\"some\",\"top\",\"will\",\"up\",\"cheese\",\"brown\",\"step\",\"7\",\"mixture\",\"together\",\"chopped\",\"cups\",\"eggs\",\"one\",\"small\",\"pour\",\"so\",\"not\",\"but\",\"gr\",\"dry\",\"once\",\"remove\",\"cover\",\"taste\",\"have\",\"30\",\"take\",\"15\",\"red\",\"half\",\"white\",\"chocolate\",\"cooking\",\"when\",\"instructions\",\"like\",\"vanilla\",\"by\",\"olive\",\"an\",\"hot\",\"boil\",\"just\",\"video\",\"cool\",\"cake\",\"using\",\"turn\",\"20\",\"here\",\"bake\",\"serve\",\"x200b\",\"teaspoon\",\"set\",\"black\",\"low\",\"paste\",\"pasta\",\"onions\",\"each\",\"after\",\"www\",\"lemon\",\"c\",\"my\",\"off\",\"pieces\",\"fresh\",\"cooked\",\"stock\",\"enjoy\",\"high\",\"green\",\"fry\",\"ginger\",\"youtu\",\"tomatoes\",\"meat\",\"little\",\"want\",\"any\",\"9\",\"before\",\"get\",\"rest\",\"roll\",\"tablespoons\",\"another\",\"\\u00b7\",\"they\",\"season\",\"minced\",\"directions\",\"whisk\",\"optional\",\"12\",\"down\",\"cloves\",\"very\",\"dish\",\"aside\",\"should\",\"soy\",\"bread\",\"cinnamon\",\"now\",\"combine\",\"mushrooms\",\"side\",\"transfer\"],\"x\":[5.829074859619141,7.623363018035889,1.687743902206421,10.680500984191895,7.312888145446777,4.828106880187988,5.359186172485352,10.710481643676758,9.355698585510254,7.544595241546631,19.505861282348633,5.740882873535156,20.600475311279297,14.502104759216309,10.575533866882324,-2.620931386947632,7.841104984283447,10.595005989074707,-1.660032033920288,5.800819396972656,-0.605769693851471,24.85127067565918,-9.343838691711426,11.533919334411621,10.559205055236816,4.546817779541016,21.159687042236328,29.635927200317383,8.141816139221191,6.544355392456055,22.557432174682617,22.902286529541016,8.154767036437988,-12.038517951965332,28.629182815551758,2.0989019870758057,27.323772430419922,-30.493087768554688,11.038609504699707,1.5894595384597778,-14.598244667053223,-7.656561851501465,8.787806510925293,-2.1408228874206543,-15.45249080657959,9.361674308776855,7.849710464477539,7.84273624420166,30.821144104003906,1.655465006828308,-36.72800064086914,-6.571962356567383,-3.186051845550537,34.37389373779297,-0.42199331521987915,-11.539362907409668,5.787519931793213,14.231242179870605,10.755219459533691,5.9306535720825195,4.561361312866211,32.073486328125,23.175552368164062,29.54901695251465,4.1744208335876465,-0.8195468187332153,18.670143127441406,2.829787254333496,-5.534468650817871,-9.825064659118652,32.80809783935547,9.208154678344727,5.501143455505371,23.546878814697266,19.497785568237305,23.119749069213867,18.89419174194336,5.518631458282471,-6.276177883148193,11.718171119689941,-3.7963147163391113,-6.926347255706787,19.46812629699707,-28.456830978393555,-11.083629608154297,7.535825252532959,-3.3539044857025146,-7.72515344619751,2.676527976989746,9.400983810424805,1.9389863014221191,4.9530930519104,1.7962218523025513,23.076908111572266,8.195507049560547,11.312734603881836,25.011924743652344,23.417314529418945,-1.7100350856781006,12.034420013427734,31.976144790649414,-0.9567055702209473,-4.837436199188232,20.20875358581543,-4.279055595397949,-4.180182456970215,-5.832749366760254,20.85494041442871,25.13075828552246,14.813214302062988,15.557290077209473,11.035842895507812,-5.244454383850098,-9.647329330444336,17.390825271606445,16.792516708374023,14.514213562011719,-11.813936233520508,-0.9624902009963989,21.73863983154297,35.90424346923828,6.984137535095215,13.926484107971191,3.597482442855835,-0.5618928074836731,33.283382415771484,11.112866401672363,-6.607497692108154,1.7458611726760864,21.94989013671875,27.284685134887695,1.3436393737792969,-33.41303253173828,26.265642166137695,2.1579341888427734,-3.273953676223755,19.566659927368164,15.713513374328613,-28.617263793945312,21.74095344543457,-9.294364929199219,1.251137614250183,5.046721458435059,16.25775909423828,-4.04159688949585,33.908409118652344,-12.002967834472656,-11.071436882019043,-8.080748558044434,1.1909568309783936,11.771493911743164,-38.15532302856445,-3.8798277378082275,12.341583251953125,-33.601341247558594,20.322635650634766,0.04577552154660225,-2.0429718494415283,-5.917306423187256,-8.379003524780273,-10.099958419799805,32.77717590332031,-9.625045776367188,30.390714645385742,-2.2660980224609375,-30.756351470947266,-8.196200370788574,-10.495752334594727,7.197933673858643,-2.695178747177124,1.0839335918426514,10.018714904785156,10.026022911071777,-10.527485847473145,22.732746124267578,13.521371841430664,7.87265682220459,2.562694787979126,12.9290132522583,-2.0164408683776855,-3.570331335067749,-1.9281235933303833,4.574894428253174,26.6251277923584,4.326245307922363,12.33157730102539,5.261890411376953,-0.8603500127792358,-2.93148136138916,8.284982681274414,15.737936973571777,2.609748125076294,-14.522217750549316,1.4790875911712646,-0.3993794322013855,7.093057632446289,21.730993270874023,-10.249043464660645,2.6624042987823486,21.6051082611084],\"y\":[-6.17601203918457,-5.801272392272949,-9.540567398071289,17.619850158691406,-8.208869934082031,-3.4867820739746094,-6.281274318695068,15.319928169250488,-7.616290092468262,-3.9977564811706543,-5.801246643066406,-17.72860336303711,1.4012060165405273,-12.366653442382812,12.935737609863281,-25.410551071166992,-5.803257465362549,13.747822761535645,-12.78822135925293,-22.322219848632812,33.6790771484375,14.98512077331543,26.126941680908203,25.671789169311523,10.359572410583496,-6.042105674743652,6.986208915710449,-6.966073036193848,13.14474868774414,31.778423309326172,-5.743585109710693,10.444971084594727,28.820987701416016,26.528636932373047,-4.102408409118652,-13.340398788452148,16.915517807006836,-2.51560378074646,-14.126880645751953,-26.968589782714844,-22.93059730529785,-11.740036010742188,-7.446696758270264,33.03029251098633,-32.23671340942383,-2.990928888320923,0.5948269963264465,-0.8158962726593018,1.3298320770263672,42.85960388183594,19.567873001098633,25.624338150024414,-16.72579002380371,10.43932056427002,-36.35712432861328,10.305350303649902,-15.916868209838867,8.945682525634766,10.890583992004395,-8.600133895874023,-1.9947565793991089,-2.6234850883483887,2.4535412788391113,9.467180252075195,-20.295331954956055,-8.736518859863281,-11.163190841674805,14.306225776672363,-18.16869354248047,2.8628299236297607,2.4251270294189453,-6.370180130004883,8.975597381591797,24.870319366455078,-5.621609687805176,-7.920596122741699,-7.7029619216918945,-24.483293533325195,-27.77801513671875,9.530131340026855,-13.245367050170898,-21.461027145385742,-6.6249589920043945,12.664031028747559,-39.269378662109375,2.6642873287200928,5.477494239807129,22.006099700927734,-13.43370532989502,-1.9551903009414673,-38.533138275146484,-9.938423156738281,33.94074630737305,9.791068077087402,-5.265507698059082,8.463534355163574,-5.1764116287231445,-3.564215660095215,26.403762817382812,24.351226806640625,2.6438355445861816,-5.284538269042969,5.15142297744751,-7.3311076164245605,-24.84461212158203,-28.591611862182617,-23.8413028717041,23.97925567626953,5.409842014312744,-10.329789161682129,-14.132116317749023,-9.539493560791016,-4.0034499168396,-33.66242218017578,8.46855640411377,-7.127542018890381,8.368412017822266,27.14362335205078,6.61268949508667,8.200843811035156,7.17850923538208,9.042987823486328,-9.962607383728027,17.232608795166016,-30.145078659057617,11.822188377380371,-6.6640191078186035,26.964828491210938,-8.976163864135742,1.3863921165466309,-7.434998989105225,-19.90129852294922,-6.149125099182129,-14.979985237121582,12.838423728942871,-12.027298927307129,-12.602423667907715,10.094482421875,-0.07028299570083618,6.843936920166016,16.62773895263672,14.507607460021973,30.898244857788086,0.7235729098320007,36.91898727416992,-1.947664737701416,25.29380989074707,4.339902877807617,20.474750518798828,-3.7344155311584473,-9.531414031982422,17.68570899963379,20.682241439819336,26.45705223083496,-24.123416900634766,-8.869158744812012,4.269098281860352,27.938459396362305,4.639993190765381,10.444864273071289,17.110334396362305,-2.548194408416748,30.363134384155273,-4.207155227661133,30.52159309387207,4.432732582092285,16.503305435180664,11.679052352905273,-23.558490753173828,-33.270206451416016,-13.917774200439453,7.870798110961914,-10.053643226623535,-36.17839431762695,-18.120975494384766,-17.195621490478516,27.748550415039062,-4.15488338470459,13.398221015930176,-23.234201431274414,21.249074935913086,26.394777297973633,16.36297607421875,-4.030209541320801,20.263669967651367,9.78177547454834,-11.980748176574707,27.42481231689453,-23.59858512878418,-0.04338569939136505,2.220515251159668,-37.97013854980469,28.856603622436523,3.188404083251953,36.86893081665039,-6.581347465515137,-4.624237537384033,13.708091735839844,-2.70232892036438,-3.950592517852783],\"z\":[0.7476198077201843,0.23386210203170776,-1.760578989982605,-1.557664155960083,1.9280622005462646,-0.735960066318512,-1.4443808794021606,-1.4352742433547974,3.9946506023406982,-1.1798268556594849,1.6675971746444702,2.9206411838531494,-15.54389476776123,6.237556457519531,-1.0418847799301147,13.827930450439453,-2.9239583015441895,-2.8138749599456787,-0.5868249535560608,8.007448196411133,1.4577082395553589,11.156717300415039,-11.233856201171875,2.8264083862304688,-2.221813440322876,-3.476308822631836,8.91751480102539,-11.73227596282959,-3.578662157058716,1.1545391082763672,9.193075180053711,2.9564621448516846,1.9128881692886353,-10.079047203063965,-5.596012115478516,4.545199871063232,9.31962776184082,-6.975205898284912,-27.584915161132812,21.986902236938477,18.32692527770996,9.617361068725586,0.07674460113048553,0.9744501709938049,-9.158326148986816,3.819042205810547,-17.22508430480957,-21.41143798828125,-18.570783615112305,3.9923958778381348,-2.980404853820801,15.969561576843262,12.059240341186523,-1.9789620637893677,13.238330841064453,2.325784921646118,2.518540143966675,-10.083462715148926,-4.3475494384765625,-1.3363600969314575,-32.32599639892578,-11.150516510009766,-28.23356819152832,0.7081299424171448,-12.80027961730957,-10.211606979370117,-8.669044494628906,-10.203323364257812,-3.6905202865600586,15.95574951171875,15.621284484863281,-4.296093940734863,16.498367309570312,-10.539934158325195,15.860883712768555,8.243291854858398,-2.914653778076172,17.235689163208008,26.960603713989258,-5.626993656158447,-2.716602325439453,2.3182926177978516,-4.315950393676758,-8.257708549499512,-12.398004531860352,-20.516098022460938,-22.457639694213867,16.469482421875,9.043127059936523,-4.741862773895264,13.249077796936035,1.5151656866073608,-15.317941665649414,22.54463768005371,8.030170440673828,-3.4593656063079834,4.572821617126465,7.759868621826172,23.356813430786133,3.0377185344696045,16.73682403564453,-1.1665198802947998,-21.693504333496094,-0.5820845365524292,2.2564947605133057,7.592021942138672,3.89694881439209,-12.047627449035645,30.05841064453125,5.534466743469238,-4.195769309997559,-8.075803756713867,29.128681182861328,4.390573501586914,-12.135880470275879,-3.5720834732055664,-11.964137077331543,22.033533096313477,-4.752925395965576,21.00827980041504,4.628446102142334,6.522298812866211,6.984281063079834,-16.796432495117188,15.665373802185059,14.780925750732422,10.55203914642334,-11.066448211669922,-4.099628925323486,7.626957893371582,-6.195984840393066,0.8171454071998596,-14.536097526550293,-19.865419387817383,-27.781391143798828,-1.8508751392364502,3.650956153869629,-11.872063636779785,-17.09073257446289,-21.00202178955078,-18.82004165649414,-11.725110054016113,0.2019377052783966,2.045823097229004,4.945948600769043,-13.896803855895996,-8.484859466552734,15.272998809814453,17.31633758544922,-1.481705665588379,5.249492168426514,-3.639662742614746,-3.1016721725463867,0.7922673225402832,3.5259525775909424,28.891035079956055,16.57807731628418,11.626423835754395,28.53986167907715,7.698887825012207,-20.09504508972168,-13.359755516052246,21.778894424438477,-4.079206466674805,17.3272647857666,-19.73129653930664,17.93307876586914,0.14246049523353577,15.48094367980957,15.213379859924316,10.504098892211914,-6.153449058532715,6.977636337280273,6.943687915802002,-19.03619956970215,-21.112648010253906,-0.08968978375196457,4.346177577972412,-3.5986578464508057,14.689943313598633,-15.244441986083984,21.21945571899414,-18.013792037963867,12.566274642944336,-6.03947114944458,-8.607956886291504,0.9186446666717529,18.916915893554688,7.93202543258667,-36.00533676147461,3.6871845722198486,12.153199195861816,-7.025485515594482,23.22890853881836,10.046844482421875,8.622056007385254,7.3112311363220215,14.839353561401367,19.152116775512695,-3.071195363998413],\"type\":\"scatter3d\"}],                        {\"template\":{\"data\":{\"histogram2dcontour\":[{\"type\":\"histogram2dcontour\",\"colorbar\":{\"outlinewidth\":0,\"ticks\":\"\"},\"colorscale\":[[0.0,\"#0d0887\"],[0.1111111111111111,\"#46039f\"],[0.2222222222222222,\"#7201a8\"],[0.3333333333333333,\"#9c179e\"],[0.4444444444444444,\"#bd3786\"],[0.5555555555555556,\"#d8576b\"],[0.6666666666666666,\"#ed7953\"],[0.7777777777777778,\"#fb9f3a\"],[0.8888888888888888,\"#fdca26\"],[1.0,\"#f0f921\"]]}],\"choropleth\":[{\"type\":\"choropleth\",\"colorbar\":{\"outlinewidth\":0,\"ticks\":\"\"}}],\"histogram2d\":[{\"type\":\"histogram2d\",\"colorbar\":{\"outlinewidth\":0,\"ticks\":\"\"},\"colorscale\":[[0.0,\"#0d0887\"],[0.1111111111111111,\"#46039f\"],[0.2222222222222222,\"#7201a8\"],[0.3333333333333333,\"#9c179e\"],[0.4444444444444444,\"#bd3786\"],[0.5555555555555556,\"#d8576b\"],[0.6666666666666666,\"#ed7953\"],[0.7777777777777778,\"#fb9f3a\"],[0.8888888888888888,\"#fdca26\"],[1.0,\"#f0f921\"]]}],\"heatmap\":[{\"type\":\"heatmap\",\"colorbar\":{\"outlinewidth\":0,\"ticks\":\"\"},\"colorscale\":[[0.0,\"#0d0887\"],[0.1111111111111111,\"#46039f\"],[0.2222222222222222,\"#7201a8\"],[0.3333333333333333,\"#9c179e\"],[0.4444444444444444,\"#bd3786\"],[0.5555555555555556,\"#d8576b\"],[0.6666666666666666,\"#ed7953\"],[0.7777777777777778,\"#fb9f3a\"],[0.8888888888888888,\"#fdca26\"],[1.0,\"#f0f921\"]]}],\"heatmapgl\":[{\"type\":\"heatmapgl\",\"colorbar\":{\"outlinewidth\":0,\"ticks\":\"\"},\"colorscale\":[[0.0,\"#0d0887\"],[0.1111111111111111,\"#46039f\"],[0.2222222222222222,\"#7201a8\"],[0.3333333333333333,\"#9c179e\"],[0.4444444444444444,\"#bd3786\"],[0.5555555555555556,\"#d8576b\"],[0.6666666666666666,\"#ed7953\"],[0.7777777777777778,\"#fb9f3a\"],[0.8888888888888888,\"#fdca26\"],[1.0,\"#f0f921\"]]}],\"contourcarpet\":[{\"type\":\"contourcarpet\",\"colorbar\":{\"outlinewidth\":0,\"ticks\":\"\"}}],\"contour\":[{\"type\":\"contour\",\"colorbar\":{\"outlinewidth\":0,\"ticks\":\"\"},\"colorscale\":[[0.0,\"#0d0887\"],[0.1111111111111111,\"#46039f\"],[0.2222222222222222,\"#7201a8\"],[0.3333333333333333,\"#9c179e\"],[0.4444444444444444,\"#bd3786\"],[0.5555555555555556,\"#d8576b\"],[0.6666666666666666,\"#ed7953\"],[0.7777777777777778,\"#fb9f3a\"],[0.8888888888888888,\"#fdca26\"],[1.0,\"#f0f921\"]]}],\"surface\":[{\"type\":\"surface\",\"colorbar\":{\"outlinewidth\":0,\"ticks\":\"\"},\"colorscale\":[[0.0,\"#0d0887\"],[0.1111111111111111,\"#46039f\"],[0.2222222222222222,\"#7201a8\"],[0.3333333333333333,\"#9c179e\"],[0.4444444444444444,\"#bd3786\"],[0.5555555555555556,\"#d8576b\"],[0.6666666666666666,\"#ed7953\"],[0.7777777777777778,\"#fb9f3a\"],[0.8888888888888888,\"#fdca26\"],[1.0,\"#f0f921\"]]}],\"mesh3d\":[{\"type\":\"mesh3d\",\"colorbar\":{\"outlinewidth\":0,\"ticks\":\"\"}}],\"scatter\":[{\"fillpattern\":{\"fillmode\":\"overlay\",\"size\":10,\"solidity\":0.2},\"type\":\"scatter\"}],\"parcoords\":[{\"type\":\"parcoords\",\"line\":{\"colorbar\":{\"outlinewidth\":0,\"ticks\":\"\"}}}],\"scatterpolargl\":[{\"type\":\"scatterpolargl\",\"marker\":{\"colorbar\":{\"outlinewidth\":0,\"ticks\":\"\"}}}],\"bar\":[{\"error_x\":{\"color\":\"#2a3f5f\"},\"error_y\":{\"color\":\"#2a3f5f\"},\"marker\":{\"line\":{\"color\":\"#E5ECF6\",\"width\":0.5},\"pattern\":{\"fillmode\":\"overlay\",\"size\":10,\"solidity\":0.2}},\"type\":\"bar\"}],\"scattergeo\":[{\"type\":\"scattergeo\",\"marker\":{\"colorbar\":{\"outlinewidth\":0,\"ticks\":\"\"}}}],\"scatterpolar\":[{\"type\":\"scatterpolar\",\"marker\":{\"colorbar\":{\"outlinewidth\":0,\"ticks\":\"\"}}}],\"histogram\":[{\"marker\":{\"pattern\":{\"fillmode\":\"overlay\",\"size\":10,\"solidity\":0.2}},\"type\":\"histogram\"}],\"scattergl\":[{\"type\":\"scattergl\",\"marker\":{\"colorbar\":{\"outlinewidth\":0,\"ticks\":\"\"}}}],\"scatter3d\":[{\"type\":\"scatter3d\",\"line\":{\"colorbar\":{\"outlinewidth\":0,\"ticks\":\"\"}},\"marker\":{\"colorbar\":{\"outlinewidth\":0,\"ticks\":\"\"}}}],\"scattermapbox\":[{\"type\":\"scattermapbox\",\"marker\":{\"colorbar\":{\"outlinewidth\":0,\"ticks\":\"\"}}}],\"scatterternary\":[{\"type\":\"scatterternary\",\"marker\":{\"colorbar\":{\"outlinewidth\":0,\"ticks\":\"\"}}}],\"scattercarpet\":[{\"type\":\"scattercarpet\",\"marker\":{\"colorbar\":{\"outlinewidth\":0,\"ticks\":\"\"}}}],\"carpet\":[{\"aaxis\":{\"endlinecolor\":\"#2a3f5f\",\"gridcolor\":\"white\",\"linecolor\":\"white\",\"minorgridcolor\":\"white\",\"startlinecolor\":\"#2a3f5f\"},\"baxis\":{\"endlinecolor\":\"#2a3f5f\",\"gridcolor\":\"white\",\"linecolor\":\"white\",\"minorgridcolor\":\"white\",\"startlinecolor\":\"#2a3f5f\"},\"type\":\"carpet\"}],\"table\":[{\"cells\":{\"fill\":{\"color\":\"#EBF0F8\"},\"line\":{\"color\":\"white\"}},\"header\":{\"fill\":{\"color\":\"#C8D4E3\"},\"line\":{\"color\":\"white\"}},\"type\":\"table\"}],\"barpolar\":[{\"marker\":{\"line\":{\"color\":\"#E5ECF6\",\"width\":0.5},\"pattern\":{\"fillmode\":\"overlay\",\"size\":10,\"solidity\":0.2}},\"type\":\"barpolar\"}],\"pie\":[{\"automargin\":true,\"type\":\"pie\"}]},\"layout\":{\"autotypenumbers\":\"strict\",\"colorway\":[\"#636efa\",\"#EF553B\",\"#00cc96\",\"#ab63fa\",\"#FFA15A\",\"#19d3f3\",\"#FF6692\",\"#B6E880\",\"#FF97FF\",\"#FECB52\"],\"font\":{\"color\":\"#2a3f5f\"},\"hovermode\":\"closest\",\"hoverlabel\":{\"align\":\"left\"},\"paper_bgcolor\":\"white\",\"plot_bgcolor\":\"#E5ECF6\",\"polar\":{\"bgcolor\":\"#E5ECF6\",\"angularaxis\":{\"gridcolor\":\"white\",\"linecolor\":\"white\",\"ticks\":\"\"},\"radialaxis\":{\"gridcolor\":\"white\",\"linecolor\":\"white\",\"ticks\":\"\"}},\"ternary\":{\"bgcolor\":\"#E5ECF6\",\"aaxis\":{\"gridcolor\":\"white\",\"linecolor\":\"white\",\"ticks\":\"\"},\"baxis\":{\"gridcolor\":\"white\",\"linecolor\":\"white\",\"ticks\":\"\"},\"caxis\":{\"gridcolor\":\"white\",\"linecolor\":\"white\",\"ticks\":\"\"}},\"coloraxis\":{\"colorbar\":{\"outlinewidth\":0,\"ticks\":\"\"}},\"colorscale\":{\"sequential\":[[0.0,\"#0d0887\"],[0.1111111111111111,\"#46039f\"],[0.2222222222222222,\"#7201a8\"],[0.3333333333333333,\"#9c179e\"],[0.4444444444444444,\"#bd3786\"],[0.5555555555555556,\"#d8576b\"],[0.6666666666666666,\"#ed7953\"],[0.7777777777777778,\"#fb9f3a\"],[0.8888888888888888,\"#fdca26\"],[1.0,\"#f0f921\"]],\"sequentialminus\":[[0.0,\"#0d0887\"],[0.1111111111111111,\"#46039f\"],[0.2222222222222222,\"#7201a8\"],[0.3333333333333333,\"#9c179e\"],[0.4444444444444444,\"#bd3786\"],[0.5555555555555556,\"#d8576b\"],[0.6666666666666666,\"#ed7953\"],[0.7777777777777778,\"#fb9f3a\"],[0.8888888888888888,\"#fdca26\"],[1.0,\"#f0f921\"]],\"diverging\":[[0,\"#8e0152\"],[0.1,\"#c51b7d\"],[0.2,\"#de77ae\"],[0.3,\"#f1b6da\"],[0.4,\"#fde0ef\"],[0.5,\"#f7f7f7\"],[0.6,\"#e6f5d0\"],[0.7,\"#b8e186\"],[0.8,\"#7fbc41\"],[0.9,\"#4d9221\"],[1,\"#276419\"]]},\"xaxis\":{\"gridcolor\":\"white\",\"linecolor\":\"white\",\"ticks\":\"\",\"title\":{\"standoff\":15},\"zerolinecolor\":\"white\",\"automargin\":true,\"zerolinewidth\":2},\"yaxis\":{\"gridcolor\":\"white\",\"linecolor\":\"white\",\"ticks\":\"\",\"title\":{\"standoff\":15},\"zerolinecolor\":\"white\",\"automargin\":true,\"zerolinewidth\":2},\"scene\":{\"xaxis\":{\"backgroundcolor\":\"#E5ECF6\",\"gridcolor\":\"white\",\"linecolor\":\"white\",\"showbackground\":true,\"ticks\":\"\",\"zerolinecolor\":\"white\",\"gridwidth\":2},\"yaxis\":{\"backgroundcolor\":\"#E5ECF6\",\"gridcolor\":\"white\",\"linecolor\":\"white\",\"showbackground\":true,\"ticks\":\"\",\"zerolinecolor\":\"white\",\"gridwidth\":2},\"zaxis\":{\"backgroundcolor\":\"#E5ECF6\",\"gridcolor\":\"white\",\"linecolor\":\"white\",\"showbackground\":true,\"ticks\":\"\",\"zerolinecolor\":\"white\",\"gridwidth\":2}},\"shapedefaults\":{\"line\":{\"color\":\"#2a3f5f\"}},\"annotationdefaults\":{\"arrowcolor\":\"#2a3f5f\",\"arrowhead\":0,\"arrowwidth\":1},\"geo\":{\"bgcolor\":\"white\",\"landcolor\":\"#E5ECF6\",\"subunitcolor\":\"white\",\"showland\":true,\"showlakes\":true,\"lakecolor\":\"white\"},\"title\":{\"x\":0.05},\"mapbox\":{\"style\":\"light\"}}},\"scene\":{\"domain\":{\"x\":[0.0,1.0],\"y\":[0.0,1.0]},\"xaxis\":{\"title\":{\"text\":\"x\"}},\"yaxis\":{\"title\":{\"text\":\"y\"}},\"zaxis\":{\"title\":{\"text\":\"z\"}}},\"legend\":{\"tracegroupgap\":0},\"margin\":{\"t\":60}},                        {\"responsive\": true}                    ).then(function(){\n",
              "                            \n",
              "var gd = document.getElementById('56ef30e4-38eb-452b-8929-06173f3de5da');\n",
              "var x = new MutationObserver(function (mutations, observer) {{\n",
              "        var display = window.getComputedStyle(gd).display;\n",
              "        if (!display || display === 'none') {{\n",
              "            console.log([gd, 'removed!']);\n",
              "            Plotly.purge(gd);\n",
              "            observer.disconnect();\n",
              "        }}\n",
              "}});\n",
              "\n",
              "// Listen for the removal of the full notebook cells\n",
              "var notebookContainer = gd.closest('#notebook-container');\n",
              "if (notebookContainer) {{\n",
              "    x.observe(notebookContainer, {childList: true});\n",
              "}}\n",
              "\n",
              "// Listen for the clearing of the current output cell\n",
              "var outputEl = gd.closest('.output');\n",
              "if (outputEl) {{\n",
              "    x.observe(outputEl, {childList: true});\n",
              "}}\n",
              "\n",
              "                        })                };                            </script>        </div>\n",
              "</body>\n",
              "</html>"
            ]
          },
          "metadata": {},
          "output_type": "display_data"
        }
      ],
      "source": [
        "# Graficar los embedddings en 3D\n",
        "\n",
        "vecs, labels = reduce_dimensions(w2v_model,3)\n",
        "\n",
        "fig = px.scatter_3d(x=vecs[:MAX_WORDS,0], y=vecs[:MAX_WORDS,1], z=vecs[:MAX_WORDS,2],text=labels[:MAX_WORDS])\n",
        "fig.update_traces(marker_size = 2)\n",
        "fig.show(renderer=\"colab\") # esto para plotly en colab"
      ]
    },
    {
      "cell_type": "markdown",
      "metadata": {
        "id": "WivQZ3ZCZ9N_"
      },
      "source": [
        "### 5. Obtener conclusiones\n",
        "\n",
        "- Dependiendo la fuente del texto y qué resultado se busca puede ser útil hacer un pre-procesamiento para eliminar caracteres que no son de interés.\n",
        "- El modelo con Skip-gram mostró una precisión mayor que el modelo con CBOW.\n",
        "- Se puede conocer qué calidad tienen los embeddings y el dataset utilizado con algunas pruebas:\n",
        "  - A través de analizar palabras similares (similitud coseno ente vectores).\n",
        "  - Tests de analogías.\n",
        "- Resulta muy útil realiar una reducción de dimensionalidad para graficar los vectores. De manera visual y mucho más fácil se ven relaciones entre palabras. Incluso relaciones que no se habían pensado en los apartados anteriores.\n"
      ]
    }
  ],
  "metadata": {
    "colab": {
      "provenance": [],
      "toc_visible": true
    },
    "kernelspec": {
      "display_name": "Python 3 (ipykernel)",
      "language": "python",
      "name": "python3"
    },
    "language_info": {
      "codemirror_mode": {
        "name": "ipython",
        "version": 3
      },
      "file_extension": ".py",
      "mimetype": "text/x-python",
      "name": "python",
      "nbconvert_exporter": "python",
      "pygments_lexer": "ipython3",
      "version": "3.10.6"
    }
  },
  "nbformat": 4,
  "nbformat_minor": 0
}
