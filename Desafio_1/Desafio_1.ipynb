{
  "cells": [
    {
      "cell_type": "markdown",
      "metadata": {
        "id": "zq6j8LsYq1Dr"
      },
      "source": [
        "### Vectorización de texto y modelo de clasificación Naïve Bayes con el dataset 20 newsgroups"
      ]
    },
    {
      "cell_type": "code",
      "execution_count": 151,
      "metadata": {
        "id": "l7cXR6CI30ry"
      },
      "outputs": [],
      "source": [
        "from sklearn.feature_extraction.text import CountVectorizer, TfidfVectorizer\n",
        "from sklearn.metrics.pairwise import cosine_similarity\n",
        "from sklearn.naive_bayes import MultinomialNB, ComplementNB\n",
        "from sklearn.metrics import f1_score\n",
        "\n",
        "# 20newsgroups por ser un dataset clásico de NLP ya viene incluido y formateado\n",
        "# en sklearn\n",
        "from sklearn.datasets import fetch_20newsgroups\n",
        "import numpy as np\n",
        "import pandas as pd"
      ]
    },
    {
      "cell_type": "markdown",
      "metadata": {
        "id": "yD-pVDWV_rQc"
      },
      "source": [
        "## Carga de datos"
      ]
    },
    {
      "cell_type": "code",
      "execution_count": 152,
      "metadata": {
        "id": "Ech9qJaUo9vK"
      },
      "outputs": [],
      "source": [
        "# cargamos los datos (ya separados de forma predeterminada en train y test)\n",
        "newsgroups_train = fetch_20newsgroups(subset='train', remove=('headers', 'footers', 'quotes'))\n",
        "newsgroups_test = fetch_20newsgroups(subset='test', remove=('headers', 'footers', 'quotes'))"
      ]
    },
    {
      "cell_type": "markdown",
      "metadata": {
        "id": "UxjSI7su_uWI"
      },
      "source": [
        "## Vectorización"
      ]
    },
    {
      "cell_type": "code",
      "execution_count": 153,
      "metadata": {
        "id": "-94VP0QYCzDn"
      },
      "outputs": [],
      "source": [
        "# instanciamos un vectorizador\n",
        "# ver diferentes parámetros de instanciación en la documentación de sklearn\n",
        "tfidfvect = TfidfVectorizer()"
      ]
    },
    {
      "cell_type": "code",
      "execution_count": 154,
      "metadata": {
        "colab": {
          "base_uri": "https://localhost:8080/",
          "height": 104
        },
        "id": "ftPlyanuak8n",
        "outputId": "45a94d0e-49e7-4f7c-c806-7d5b66779dd0"
      },
      "outputs": [
        {
          "data": {
            "text/plain": [
              "'I was wondering if anyone out there could enlighten me on this car I saw\\nthe other day. It was a 2-door sports car, looked to be from the late 60s/\\nearly 70s. It was called a Bricklin. The doors were really small. In addition,\\nthe front bumper was separate from the rest of the body. This is \\nall I know. If anyone can tellme a model name, engine specs, years\\nof production, where this car is made, history, or whatever info you\\nhave on this funky looking car, please e-mail.'"
            ]
          },
          "execution_count": 154,
          "metadata": {},
          "output_type": "execute_result"
        }
      ],
      "source": [
        "# en el atributo `data` accedemos al texto\n",
        "newsgroups_train.data[0]"
      ]
    },
    {
      "cell_type": "code",
      "execution_count": 155,
      "metadata": {
        "id": "1zxcXV6aC_oL"
      },
      "outputs": [],
      "source": [
        "# con la interfaz habitual de sklearn podemos fitear el vectorizador\n",
        "# (obtener el vocabulario y calcular el vector IDF)\n",
        "# y transformar directamente los datos\n",
        "X_train = tfidfvect.fit_transform(newsgroups_train.data)\n",
        "# `X_train` la podemos denominar como la matriz documento-término"
      ]
    },
    {
      "cell_type": "code",
      "execution_count": 156,
      "metadata": {
        "colab": {
          "base_uri": "https://localhost:8080/"
        },
        "id": "4Sv7TXbda41-",
        "outputId": "dcca5de6-dac1-4d68-d284-ce7be2ed9e2f"
      },
      "outputs": [
        {
          "name": "stdout",
          "output_type": "stream",
          "text": [
            "<class 'scipy.sparse._csr.csr_matrix'>\n",
            "shape: (11314, 101631)\n",
            "cantidad de documentos: 11314\n",
            "tamaño del vocabulario (dimensionalidad de los vectores): 101631\n"
          ]
        }
      ],
      "source": [
        "# recordar que las vectorizaciones por conteos son esparsas\n",
        "# por ello sklearn convenientemente devuelve los vectores de documentos\n",
        "# como matrices esparsas\n",
        "print(type(X_train))\n",
        "print(f'shape: {X_train.shape}')\n",
        "print(f'cantidad de documentos: {X_train.shape[0]}')\n",
        "print(f'tamaño del vocabulario (dimensionalidad de los vectores): {X_train.shape[1]}')"
      ]
    },
    {
      "cell_type": "code",
      "execution_count": 157,
      "metadata": {
        "colab": {
          "base_uri": "https://localhost:8080/"
        },
        "id": "dgydNTZ2pAgR",
        "outputId": "95111464-e40c-4b57-d154-ede153739a82"
      },
      "outputs": [
        {
          "data": {
            "text/plain": [
              "25775"
            ]
          },
          "execution_count": 157,
          "metadata": {},
          "output_type": "execute_result"
        }
      ],
      "source": [
        "# una vez fiteado el vectorizador, podemos acceder a atributos como el vocabulario\n",
        "# aprendido. Es un diccionario que va de términos a índices.\n",
        "# El índice es la posición en el vector de documento.\n",
        "tfidfvect.vocabulary_['car']"
      ]
    },
    {
      "cell_type": "code",
      "execution_count": 158,
      "metadata": {
        "id": "xnTSZuvyrTcP"
      },
      "outputs": [],
      "source": [
        "# es muy útil tener el diccionario opuesto que va de índices a términos\n",
        "idx2word = {v: k for k,v in tfidfvect.vocabulary_.items()}"
      ]
    },
    {
      "cell_type": "code",
      "execution_count": 159,
      "metadata": {
        "colab": {
          "base_uri": "https://localhost:8080/"
        },
        "id": "swa-AgWrMSHM",
        "outputId": "93d09f31-4c42-4215-e750-a13c83ecf96a"
      },
      "outputs": [
        {
          "data": {
            "text/plain": [
              "array([ 7,  4,  4,  1, 14, 16, 13,  3,  2,  4])"
            ]
          },
          "execution_count": 159,
          "metadata": {},
          "output_type": "execute_result"
        }
      ],
      "source": [
        "# en `y_train` guardamos los targets que son enteros\n",
        "y_train = newsgroups_train.target\n",
        "y_train[:10]"
      ]
    },
    {
      "cell_type": "code",
      "execution_count": 160,
      "metadata": {
        "colab": {
          "base_uri": "https://localhost:8080/"
        },
        "id": "je5kxvQMDLvf",
        "outputId": "59799046-9799-406f-c4be-81c5765de58d"
      },
      "outputs": [
        {
          "name": "stdout",
          "output_type": "stream",
          "text": [
            "clases [ 0  1  2  3  4  5  6  7  8  9 10 11 12 13 14 15 16 17 18 19]\n"
          ]
        },
        {
          "data": {
            "text/plain": [
              "['alt.atheism',\n",
              " 'comp.graphics',\n",
              " 'comp.os.ms-windows.misc',\n",
              " 'comp.sys.ibm.pc.hardware',\n",
              " 'comp.sys.mac.hardware',\n",
              " 'comp.windows.x',\n",
              " 'misc.forsale',\n",
              " 'rec.autos',\n",
              " 'rec.motorcycles',\n",
              " 'rec.sport.baseball',\n",
              " 'rec.sport.hockey',\n",
              " 'sci.crypt',\n",
              " 'sci.electronics',\n",
              " 'sci.med',\n",
              " 'sci.space',\n",
              " 'soc.religion.christian',\n",
              " 'talk.politics.guns',\n",
              " 'talk.politics.mideast',\n",
              " 'talk.politics.misc',\n",
              " 'talk.religion.misc']"
            ]
          },
          "execution_count": 160,
          "metadata": {},
          "output_type": "execute_result"
        }
      ],
      "source": [
        "# hay 20 clases correspondientes a los 20 grupos de noticias\n",
        "print(f'clases {np.unique(newsgroups_test.target)}')\n",
        "newsgroups_test.target_names"
      ]
    },
    {
      "cell_type": "markdown",
      "metadata": {
        "id": "SXCICFSd_y90"
      },
      "source": [
        "## Similaridad de documentos"
      ]
    },
    {
      "cell_type": "code",
      "execution_count": 161,
      "metadata": {
        "colab": {
          "base_uri": "https://localhost:8080/"
        },
        "id": "_pki_olShnyE",
        "outputId": "b2bd8485-40c7-4923-c8a9-4ad6b735576e"
      },
      "outputs": [
        {
          "name": "stdout",
          "output_type": "stream",
          "text": [
            "\n",
            "Probably would not be fatal in an adult at that dose, but could kill\n",
            "a child.  Patient would be very somnolent, with dilated pupils, low\n",
            "blood pressure.  Possibly cardiac arrhythmias.  \n",
            "\n",
            "\n",
            "-- \n",
            "----------------------------------------------------------------------------\n",
            "Gordon Banks  N3JXP      | \"Skepticism is the chastity of the intellect, and\n",
            "geb@cadre.dsl.pitt.edu   |  it is shameful to surrender it too soon.\" \n"
          ]
        }
      ],
      "source": [
        "# Veamos similaridad de documentos. Tomemos algún documento\n",
        "idx = 481\n",
        "print(newsgroups_train.data[idx])"
      ]
    },
    {
      "cell_type": "code",
      "execution_count": 162,
      "metadata": {
        "id": "Ssa9bqJ-hA_v"
      },
      "outputs": [],
      "source": [
        "# midamos la similaridad coseno con todos los documentos de train\n",
        "cossim = cosine_similarity(X_train[idx], X_train)[0]"
      ]
    },
    {
      "cell_type": "code",
      "execution_count": 163,
      "metadata": {
        "colab": {
          "base_uri": "https://localhost:8080/"
        },
        "id": "p_mDA7p3AzcQ",
        "outputId": "747a3923-4b1c-4e2b-921d-4ebf2b271b00"
      },
      "outputs": [
        {
          "data": {
            "text/plain": [
              "array([1.        , 0.56537615, 0.55605743, ..., 0.        , 0.        ,\n",
              "       0.        ])"
            ]
          },
          "execution_count": 163,
          "metadata": {},
          "output_type": "execute_result"
        }
      ],
      "source": [
        "# podemos ver los valores de similaridad ordenados de mayor a menos\n",
        "np.sort(cossim)[::-1]"
      ]
    },
    {
      "cell_type": "code",
      "execution_count": 164,
      "metadata": {
        "colab": {
          "base_uri": "https://localhost:8080/"
        },
        "id": "0OIhDA1jAryX",
        "outputId": "04ddf3ca-0741-42d7-8bbb-00bb395f7834"
      },
      "outputs": [
        {
          "data": {
            "text/plain": [
              "array([ 481, 8550, 8660, ..., 4315, 4314, 1335], dtype=int64)"
            ]
          },
          "execution_count": 164,
          "metadata": {},
          "output_type": "execute_result"
        }
      ],
      "source": [
        "# y a qué documentos corresponden\n",
        "np.argsort(cossim)[::-1]"
      ]
    },
    {
      "cell_type": "code",
      "execution_count": 165,
      "metadata": {
        "id": "hP7qLS4ZBLps"
      },
      "outputs": [],
      "source": [
        "# los 5 documentos más similares:\n",
        "mostsim = np.argsort(cossim)[::-1][1:6]"
      ]
    },
    {
      "cell_type": "code",
      "execution_count": 166,
      "metadata": {
        "colab": {
          "base_uri": "https://localhost:8080/",
          "height": 35
        },
        "id": "QdJLHPJACvaj",
        "outputId": "926186cf-7d4c-4bd3-927b-ad00bf7f24f9"
      },
      "outputs": [
        {
          "data": {
            "text/plain": [
              "'sci.med'"
            ]
          },
          "execution_count": 166,
          "metadata": {},
          "output_type": "execute_result"
        }
      ],
      "source": [
        "# el documento original pertenece a la clase:\n",
        "newsgroups_train.target_names[y_train[idx]]"
      ]
    },
    {
      "cell_type": "code",
      "execution_count": 167,
      "metadata": {
        "colab": {
          "base_uri": "https://localhost:8080/"
        },
        "id": "RWy_73epCbFG",
        "outputId": "daf534e5-b2a8-43d4-d05a-9c52b816cf69"
      },
      "outputs": [
        {
          "name": "stdout",
          "output_type": "stream",
          "text": [
            "sci.med\n",
            "sci.med\n",
            "sci.med\n",
            "sci.med\n",
            "sci.med\n"
          ]
        }
      ],
      "source": [
        "# y los 5 más similares son de las clases:\n",
        "for i in mostsim:\n",
        "  print(newsgroups_train.target_names[y_train[i]])"
      ]
    },
    {
      "cell_type": "markdown",
      "metadata": {
        "id": "zRoNnKwhBqzq"
      },
      "source": [
        "### Modelo de clasificación Naïve Bayes"
      ]
    },
    {
      "cell_type": "code",
      "execution_count": 168,
      "metadata": {
        "colab": {
          "base_uri": "https://localhost:8080/",
          "height": 74
        },
        "id": "TPM0thDaLk0R",
        "outputId": "bc7fdc3e-d912-4e0c-9d9e-33efc97b46fc"
      },
      "outputs": [
        {
          "data": {
            "text/html": [
              "<style>#sk-container-id-4 {color: black;}#sk-container-id-4 pre{padding: 0;}#sk-container-id-4 div.sk-toggleable {background-color: white;}#sk-container-id-4 label.sk-toggleable__label {cursor: pointer;display: block;width: 100%;margin-bottom: 0;padding: 0.3em;box-sizing: border-box;text-align: center;}#sk-container-id-4 label.sk-toggleable__label-arrow:before {content: \"▸\";float: left;margin-right: 0.25em;color: #696969;}#sk-container-id-4 label.sk-toggleable__label-arrow:hover:before {color: black;}#sk-container-id-4 div.sk-estimator:hover label.sk-toggleable__label-arrow:before {color: black;}#sk-container-id-4 div.sk-toggleable__content {max-height: 0;max-width: 0;overflow: hidden;text-align: left;background-color: #f0f8ff;}#sk-container-id-4 div.sk-toggleable__content pre {margin: 0.2em;color: black;border-radius: 0.25em;background-color: #f0f8ff;}#sk-container-id-4 input.sk-toggleable__control:checked~div.sk-toggleable__content {max-height: 200px;max-width: 100%;overflow: auto;}#sk-container-id-4 input.sk-toggleable__control:checked~label.sk-toggleable__label-arrow:before {content: \"▾\";}#sk-container-id-4 div.sk-estimator input.sk-toggleable__control:checked~label.sk-toggleable__label {background-color: #d4ebff;}#sk-container-id-4 div.sk-label input.sk-toggleable__control:checked~label.sk-toggleable__label {background-color: #d4ebff;}#sk-container-id-4 input.sk-hidden--visually {border: 0;clip: rect(1px 1px 1px 1px);clip: rect(1px, 1px, 1px, 1px);height: 1px;margin: -1px;overflow: hidden;padding: 0;position: absolute;width: 1px;}#sk-container-id-4 div.sk-estimator {font-family: monospace;background-color: #f0f8ff;border: 1px dotted black;border-radius: 0.25em;box-sizing: border-box;margin-bottom: 0.5em;}#sk-container-id-4 div.sk-estimator:hover {background-color: #d4ebff;}#sk-container-id-4 div.sk-parallel-item::after {content: \"\";width: 100%;border-bottom: 1px solid gray;flex-grow: 1;}#sk-container-id-4 div.sk-label:hover label.sk-toggleable__label {background-color: #d4ebff;}#sk-container-id-4 div.sk-serial::before {content: \"\";position: absolute;border-left: 1px solid gray;box-sizing: border-box;top: 0;bottom: 0;left: 50%;z-index: 0;}#sk-container-id-4 div.sk-serial {display: flex;flex-direction: column;align-items: center;background-color: white;padding-right: 0.2em;padding-left: 0.2em;position: relative;}#sk-container-id-4 div.sk-item {position: relative;z-index: 1;}#sk-container-id-4 div.sk-parallel {display: flex;align-items: stretch;justify-content: center;background-color: white;position: relative;}#sk-container-id-4 div.sk-item::before, #sk-container-id-4 div.sk-parallel-item::before {content: \"\";position: absolute;border-left: 1px solid gray;box-sizing: border-box;top: 0;bottom: 0;left: 50%;z-index: -1;}#sk-container-id-4 div.sk-parallel-item {display: flex;flex-direction: column;z-index: 1;position: relative;background-color: white;}#sk-container-id-4 div.sk-parallel-item:first-child::after {align-self: flex-end;width: 50%;}#sk-container-id-4 div.sk-parallel-item:last-child::after {align-self: flex-start;width: 50%;}#sk-container-id-4 div.sk-parallel-item:only-child::after {width: 0;}#sk-container-id-4 div.sk-dashed-wrapped {border: 1px dashed gray;margin: 0 0.4em 0.5em 0.4em;box-sizing: border-box;padding-bottom: 0.4em;background-color: white;}#sk-container-id-4 div.sk-label label {font-family: monospace;font-weight: bold;display: inline-block;line-height: 1.2em;}#sk-container-id-4 div.sk-label-container {text-align: center;}#sk-container-id-4 div.sk-container {/* jupyter's `normalize.less` sets `[hidden] { display: none; }` but bootstrap.min.css set `[hidden] { display: none !important; }` so we also need the `!important` here to be able to override the default hidden behavior on the sphinx rendered scikit-learn.org. See: https://github.com/scikit-learn/scikit-learn/issues/21755 */display: inline-block !important;position: relative;}#sk-container-id-4 div.sk-text-repr-fallback {display: none;}</style><div id=\"sk-container-id-4\" class=\"sk-top-container\"><div class=\"sk-text-repr-fallback\"><pre>MultinomialNB()</pre><b>In a Jupyter environment, please rerun this cell to show the HTML representation or trust the notebook. <br />On GitHub, the HTML representation is unable to render, please try loading this page with nbviewer.org.</b></div><div class=\"sk-container\" hidden><div class=\"sk-item\"><div class=\"sk-estimator sk-toggleable\"><input class=\"sk-toggleable__control sk-hidden--visually\" id=\"sk-estimator-id-4\" type=\"checkbox\" checked><label for=\"sk-estimator-id-4\" class=\"sk-toggleable__label sk-toggleable__label-arrow\">MultinomialNB</label><div class=\"sk-toggleable__content\"><pre>MultinomialNB()</pre></div></div></div></div></div>"
            ],
            "text/plain": [
              "MultinomialNB()"
            ]
          },
          "execution_count": 168,
          "metadata": {},
          "output_type": "execute_result"
        }
      ],
      "source": [
        "# es muy fácil instanciar un modelo de clasificación Naïve Bayes y entrenarlo con sklearn\n",
        "clf = MultinomialNB()\n",
        "clf.fit(X_train, y_train)"
      ]
    },
    {
      "cell_type": "code",
      "execution_count": 169,
      "metadata": {
        "id": "NrQjzM48Mu4T"
      },
      "outputs": [],
      "source": [
        "# con nuestro vectorizador ya fiteado en train, vectorizamos los textos\n",
        "# del conjunto de test\n",
        "X_test = tfidfvect.transform(newsgroups_test.data)\n",
        "y_test = newsgroups_test.target\n",
        "y_pred =  clf.predict(X_test)"
      ]
    },
    {
      "cell_type": "code",
      "execution_count": 170,
      "metadata": {
        "colab": {
          "base_uri": "https://localhost:8080/"
        },
        "id": "UkGJhetEPdA4",
        "outputId": "232ee2ce-e904-466e-be57-babc1f319029"
      },
      "outputs": [
        {
          "data": {
            "text/plain": [
              "0.5854345727938506"
            ]
          },
          "execution_count": 170,
          "metadata": {},
          "output_type": "execute_result"
        }
      ],
      "source": [
        "# el F1-score es una metrica adecuada para reportar desempeño de modelos de claificación\n",
        "# es robusta al desbalance de clases. El promediado 'macro' es el promedio de los\n",
        "# F1-score de cada clase. El promedio 'micro' es equivalente a la accuracy que no\n",
        "# es una buena métrica cuando los datasets son desbalanceados\n",
        "f1_score(y_test, y_pred, average='macro')"
      ]
    },
    {
      "cell_type": "markdown",
      "metadata": {
        "id": "McArD4rSDR2K"
      },
      "source": [
        "# Desafío 1"
      ]
    },
    {
      "cell_type": "markdown",
      "metadata": {},
      "source": [
        "## Consigna"
      ]
    },
    {
      "cell_type": "markdown",
      "metadata": {
        "id": "lJgf6GQIIEH1"
      },
      "source": [
        "**1**. Vectorizar documentos. Tomar 5 documentos al azar y medir similaridad con el resto de los documentos.\n",
        "Estudiar los 5 documentos más similares de cada uno analizar si tiene sentido\n",
        "la similaridad según el contenido del texto y la etiqueta de clasificación.\n",
        "\n",
        "**2**. Entrenar modelos de clasificación Naïve Bayes para maximizar el desempeño de clasificación\n",
        "(f1-score macro) en el conjunto de datos de test. Considerar cambiar parámteros\n",
        "de instanciación del vectorizador y los modelos y probar modelos de Naïve Bayes Multinomial\n",
        "y ComplementNB.\n",
        "\n",
        "**3**. Transponer la matriz documento-término. De esa manera se obtiene una matriz\n",
        "término-documento que puede ser interpretada como una colección de vectorización de palabras.\n",
        "Estudiar ahora similaridad entre palabras tomando 5 palabras y estudiando sus 5 más similares. **La elección de palabras no debe ser al azar para evitar la aparición de términos poco interpretables, elegirlas \"manualmente\"**.\n"
      ]
    },
    {
      "cell_type": "markdown",
      "metadata": {},
      "source": [
        "## Resolución"
      ]
    },
    {
      "cell_type": "markdown",
      "metadata": {},
      "source": [
        "## **1**. Vectorizar documentos. \n",
        "\n",
        "Tomar 5 documentos al azar y medir similaridad con el resto de los documentos.\n",
        "Estudiar los 5 documentos más similares de cada uno analizar si tiene sentido\n",
        "la similaridad según el contenido del texto y la etiqueta de clasificación.\n"
      ]
    },
    {
      "cell_type": "markdown",
      "metadata": {},
      "source": [
        "Obtención del conjunto de datos"
      ]
    },
    {
      "cell_type": "code",
      "execution_count": 171,
      "metadata": {},
      "outputs": [],
      "source": [
        "# Obtención de documetos del dataset, separación en train y test\n",
        "newsgroups_train = fetch_20newsgroups(subset='train', remove=('headers', 'footers', 'quotes'))\n",
        "newsgroups_test = fetch_20newsgroups(subset='test', remove=('headers', 'footers', 'quotes'))\n",
        "\n",
        "# Obtengo labels del dataset, para poder saber a qué categoría pertenece cada documento\n",
        "y_train = newsgroups_train.target"
      ]
    },
    {
      "cell_type": "markdown",
      "metadata": {},
      "source": [
        "Vectorización\n",
        "- Utilizando TF-IDF"
      ]
    },
    {
      "cell_type": "code",
      "execution_count": 172,
      "metadata": {},
      "outputs": [],
      "source": [
        "# Vectorización usando TF-IDF\n",
        "tfidfvect = TfidfVectorizer()\n",
        "X_train = tfidfvect.fit_transform(newsgroups_train.data)"
      ]
    },
    {
      "cell_type": "code",
      "execution_count": 173,
      "metadata": {},
      "outputs": [],
      "source": [
        "# Diccionario para ir de indices a palabras\n",
        "idx2word = {v: k for k,v in tfidfvect.vocabulary_.items()}"
      ]
    },
    {
      "cell_type": "markdown",
      "metadata": {},
      "source": [
        "Funciones auxiliares:\n",
        "- crop_text: Corta el texto a un número especificado de caracteres. Se utilizará para mejorar la visualización el notebook.\n",
        "- get_similar_documents: Obtiene los N documentos más similares al documento que se indique, retornando los índices de los mismos y sus categorías"
      ]
    },
    {
      "cell_type": "code",
      "execution_count": 174,
      "metadata": {},
      "outputs": [],
      "source": [
        "def crop_text(text, max_length=200):\n",
        "    \"\"\"Función auxiliar para cortar texto y mejorar visualización del notebook.\"\"\"\n",
        "    if len(text) > max_length:\n",
        "        return text[:max_length - 3] + \"...\"\n",
        "    return text\n",
        "\n",
        "def get_similar_documents(X_train,newsgroups_train,y_train,document_idx,N=5):  \n",
        "    \"\"\"Función para obtener los N documentos más similares al actual.\"\"\"  \n",
        "    cossim = cosine_similarity(X_train[document_idx], X_train)[0]\n",
        "    mas_similares_idxs = np.argsort(cossim)[::-1][1:(N+1)]\n",
        "    mas_similares_cat = [newsgroups_train.target_names[y_train[i]] for i in mas_similares_idxs]\n",
        "    return mas_similares_idxs,mas_similares_cat"
      ]
    },
    {
      "cell_type": "markdown",
      "metadata": {},
      "source": [
        "Obtención de documentos similares:\n",
        "- Se eligen 5 documentos al azar.\n",
        "- Se imprime el contenido reducido (a máximo 200 caracteres) de cada documento.\n",
        "- Se imprime información sobre su categoría.\n",
        "- Se imprimen indices de los 5 más similares y sus categorías."
      ]
    },
    {
      "cell_type": "code",
      "execution_count": 266,
      "metadata": {},
      "outputs": [
        {
          "name": "stdout",
          "output_type": "stream",
          "text": [
            "Documentos tomados al azar (indices): [ 2870 10213  1282 10470  4234]\n",
            "\n",
            "\n",
            "--------------------------------------------------------------------------------\n",
            "***** DOCUMENTO 0. idx=2870. Categoria: sci.med **********************\n",
            "***** Similares (indices): [ 218 9056 8441 1593 8572]\n",
            "***** Similares (categoría): ['sci.med', 'sci.med', 'sci.med', 'sci.med', 'comp.windows.x']\n",
            "--------------------------------------------------------------------------------\n",
            "=There is no contradiction here. It is essential in the sense that your\n",
            "=body needs it. It is non-essential in the sense that your body can\n",
            "=produce enough of it without supplement.\n",
            "\n",
            "And when you'r...\n",
            "--------------------------------------------------------------------------------\n",
            "\n",
            "\n",
            "--------------------------------------------------------------------------------\n",
            "***** DOCUMENTO 1. idx=10213. Categoria: rec.autos **********************\n",
            "***** Similares (indices): [ 2697  1123   877  1777 11152]\n",
            "***** Similares (categoría): ['rec.autos', 'rec.autos', 'rec.autos', 'rec.autos', 'rec.autos']\n",
            "--------------------------------------------------------------------------------\n",
            "\n",
            "\tThat shows how much you know about anything.  The brakes on the\n",
            "SHO are very different - 9 inch (or 9.5? I forget) discs all around,\n",
            "vented in front.  The normal Taurus setup is (smaller) discs f...\n",
            "--------------------------------------------------------------------------------\n",
            "\n",
            "\n",
            "--------------------------------------------------------------------------------\n",
            "***** DOCUMENTO 2. idx=1282. Categoria: rec.sport.baseball **********************\n",
            "***** Similares (indices): [ 1606  6032  4146 10627  5639]\n",
            "***** Similares (categoría): ['rec.sport.baseball', 'rec.sport.baseball', 'rec.sport.baseball', 'rec.sport.baseball', 'rec.sport.baseball']\n",
            "--------------------------------------------------------------------------------\n",
            "I'll tell youm all one thing. Steve howe and FARR are much better then the  \n",
            "worst pitcher in yankee Pitching ___________________\n",
            "\n",
            "--------------------------------------------------------------------------------\n",
            "\n",
            "\n",
            "--------------------------------------------------------------------------------\n",
            "***** DOCUMENTO 3. idx=10470. Categoria: talk.politics.guns **********************\n",
            "***** Similares (indices): [4271 9623 6894 5826 3596]\n",
            "***** Similares (categoría): ['talk.politics.misc', 'talk.politics.mideast', 'talk.politics.guns', 'soc.religion.christian', 'talk.politics.misc']\n",
            "--------------------------------------------------------------------------------\n",
            "\n",
            "This is not borne out of reality; the old Soviet Union had a very\n",
            "serious domestic handgun and submachinegun trade, guns that were\n",
            "of commercial grade because they were produced in honest-to-goodn...\n",
            "--------------------------------------------------------------------------------\n",
            "\n",
            "\n",
            "--------------------------------------------------------------------------------\n",
            "***** DOCUMENTO 4. idx=4234. Categoria: comp.windows.x **********************\n",
            "***** Similares (indices): [4614 7967 7972 6151 7496]\n",
            "***** Similares (categoría): ['comp.windows.x', 'comp.windows.x', 'comp.windows.x', 'comp.windows.x', 'comp.windows.x']\n",
            "--------------------------------------------------------------------------------\n",
            "Archive-name: Xt-FAQ\n",
            "Version: $Id: FAQ-Xt,v 1.28 93/04/02 12:41:12 ware Exp $\n",
            "\n",
            "\t\t    The X Toolkit Intrinsics F.A.Q\n",
            "\t\t\t  A monthly posting\n",
            "\n",
            "\n",
            "This article contains the answers to some Frequently Ask...\n",
            "--------------------------------------------------------------------------------\n"
          ]
        }
      ],
      "source": [
        "# Variables de configuración\n",
        "cant_documentos = 5\n",
        "limite_texto = 200 # 200 caracteres\n",
        "# random_idxs = np.random.randint(0,X_train.shape[0],size=cant_documentos) #Descomentar para obtener documentos al azar\n",
        "random_idxs = [2870,10213,1282,10470,4234] # Se fijan los valores para que permanezcan al volver ejecutar el notebook\n",
        "print(f\"Documentos tomados al azar (indices): {random_idxs}\")\n",
        "dict_similares = {}\n",
        "\n",
        "# Ciclo for para imprimir detalles del documento y obtener sus 5 más similares\n",
        "for i,idx in enumerate(random_idxs):\n",
        "    # Obtengo los 5 documentos más similares utilizando similitud coseno\n",
        "    mostsim_idx,mostsim_cat = get_similar_documents(X_train,newsgroups_train,y_train,idx,N=5)\n",
        "    dict_similares[f\"{idx}\"] = {\n",
        "        \"idx\": mostsim_idx,\n",
        "        \"cat\": mostsim_cat\n",
        "    }\n",
        "    print(\"\\n\")\n",
        "    print(\"-\"*80)\n",
        "    print(f\"***** DOCUMENTO {i}. idx={idx}. Categoria: {newsgroups_train.target_names[y_train[idx]]} **********************\")\n",
        "    print(f\"***** Similares (indices): {mostsim_idx}\")\n",
        "    print(f\"***** Similares (categoría): {mostsim_cat}\")\n",
        "    print(\"-\"*80)\n",
        "    contenido_documento = newsgroups_train.data[idx]\n",
        "     # Se limitan los caracteres del texto ya que con pocas palabras se entiende de qué trata\n",
        "     #  el documento y mejora mucho la visualización en el notebook.\n",
        "    contenido_documento = crop_text(contenido_documento,limite_texto)\n",
        "    print(contenido_documento)\n",
        "    print(\"-\"*80)"
      ]
    },
    {
      "cell_type": "markdown",
      "metadata": {},
      "source": [
        "- Puede observarse que los documentos similares pertenecen casi todos a la misma categoría que el documento principal en cuestión.\n",
        "- Veamos ahora el texto de cada documento similar, para cada uno de los 5 documentos elegidos al azar:"
      ]
    },
    {
      "cell_type": "markdown",
      "metadata": {},
      "source": [
        "### Documento 1"
      ]
    },
    {
      "cell_type": "code",
      "execution_count": 267,
      "metadata": {},
      "outputs": [],
      "source": [
        "# Funcion auxiliar para imprimir más rápido detalles de documentos similares\n",
        "def imprimir_similares(document):\n",
        "    document_idx = random_idxs[document-1]\n",
        "    print(f\"El documento {document} pertenece a la categoría {newsgroups_train.target_names[y_train[document_idx]]}\\n\")\n",
        "    for i,idx in enumerate(dict_similares[f\"{document_idx}\"][\"idx\"]):\n",
        "        cat = dict_similares[f\"{document_idx}\"][\"cat\"][i]\n",
        "        print(\"-\"*80)\n",
        "        print(f\"** Texto del documento similar. Idx: {idx} Categoría: {newsgroups_train.target_names[y_train[idx]]}\")\n",
        "        print(\"-\"*80)\n",
        "        print(crop_text(newsgroups_train.data[idx],300))\n",
        "        print(\"-\"*80)\n",
        "        print(\"\\n\")\n"
      ]
    },
    {
      "cell_type": "code",
      "execution_count": 268,
      "metadata": {},
      "outputs": [
        {
          "name": "stdout",
          "output_type": "stream",
          "text": [
            "El documento 1 pertenece a la categoría sci.med\n",
            "\n",
            "--------------------------------------------------------------------------------\n",
            "** Texto del documento similar. Idx: 218 Categoría: sci.med\n",
            "--------------------------------------------------------------------------------\n",
            "\n",
            "There is no contradiction here. It is essential in the sense that your\n",
            "body needs it. It is non-essential in the sense that your body can\n",
            "produce enough of it without supplement.\n",
            "--------------------------------------------------------------------------------\n",
            "\n",
            "\n",
            "--------------------------------------------------------------------------------\n",
            "** Texto del documento similar. Idx: 9056 Categoría: sci.med\n",
            "--------------------------------------------------------------------------------\n",
            "=\n",
            "=> Now here is a new one: vomiting. My guess is that MSG becomes the number one\n",
            "=> suspect of any problem. In this case. it might be just food poisoning. But\n",
            "=> if you heard things about MSG, you may think it must be it.\n",
            "=\n",
            "=----------\n",
            "=\n",
            "=Yeah, it might, if you only read the part you quoted.  Yo...\n",
            "--------------------------------------------------------------------------------\n",
            "\n",
            "\n",
            "--------------------------------------------------------------------------------\n",
            "** Texto del documento similar. Idx: 8441 Categoría: sci.med\n",
            "--------------------------------------------------------------------------------\n",
            "=I think that's the correct spelling..\n",
            "=\tI am looking for any information/supplies that will allow\n",
            "=do-it-yourselfers to take Krillean Pictures. I'm thinking\n",
            "=that education suppliers for schools might have a appartus for\n",
            "=sale, but I don't know any of the companies. Any info is greatly\n",
            "=apprecia...\n",
            "--------------------------------------------------------------------------------\n",
            "\n",
            "\n",
            "--------------------------------------------------------------------------------\n",
            "** Texto del documento similar. Idx: 1593 Categoría: sci.med\n",
            "--------------------------------------------------------------------------------\n",
            "=Surprise surprise, different people react differently to different things. One\n",
            "=slightly off the subject case in point. My brother got stung by a bee. I know\n",
            "=he is allergic to bee stings, but that his reaction is severe localized\n",
            "=swelling, not anaphylactic shock. I could not convince the docto...\n",
            "--------------------------------------------------------------------------------\n",
            "\n",
            "\n",
            "--------------------------------------------------------------------------------\n",
            "** Texto del documento similar. Idx: 8572 Categoría: comp.windows.x\n",
            "--------------------------------------------------------------------------------\n",
            "How can I get the font family, weight and slant from an\n",
            "instance of a widget? Using initFontContext(), getNextFont()\n",
            "and freeFontContext() I can get the size of the font (and a\n",
            "bunch of other stuff concerning the font) but nowhere have\n",
            "I found family, weight and slant. Assume that I do not have\n",
            "a...\n",
            "--------------------------------------------------------------------------------\n",
            "\n",
            "\n"
          ]
        }
      ],
      "source": [
        "imprimir_similares(document=1)"
      ]
    },
    {
      "cell_type": "markdown",
      "metadata": {},
      "source": [
        "### Documento 2"
      ]
    },
    {
      "cell_type": "code",
      "execution_count": 269,
      "metadata": {},
      "outputs": [
        {
          "name": "stdout",
          "output_type": "stream",
          "text": [
            "El documento 2 pertenece a la categoría rec.autos\n",
            "\n",
            "--------------------------------------------------------------------------------\n",
            "** Texto del documento similar. Idx: 2697 Categoría: rec.autos\n",
            "--------------------------------------------------------------------------------\n",
            "\n",
            "You'll have fun looking for the rear-end gears on an SHO--the Taurus\n",
            "is a front-wheel-drive vehicle...\n",
            "\n",
            "I went back and checked the article again; The SHO Wagon is quicker\n",
            "than the SHO automatic, but significantly slower than the REAL SHO.\n",
            "\n",
            "Why anyone would order an SHO with an automatic transmi...\n",
            "--------------------------------------------------------------------------------\n",
            "\n",
            "\n",
            "--------------------------------------------------------------------------------\n",
            "** Texto del documento similar. Idx: 1123 Categoría: rec.autos\n",
            "--------------------------------------------------------------------------------\n",
            "\n",
            "\tI was hoping for something like \"The chassis exhibits X \n",
            "degrees of flex when subjected to forces of more than Y units.\n",
            "Forces of more than Y units begin to manifest at Z miles per hour.\"\n",
            "\n",
            "\tNot \"Well, gee, it wasn't designed to go fast because, uhh,\n",
            "well, gee, it wasn't designed to go fast.  It...\n",
            "--------------------------------------------------------------------------------\n",
            "\n",
            "\n",
            "--------------------------------------------------------------------------------\n",
            "** Texto del documento similar. Idx: 877 Categoría: rec.autos\n",
            "--------------------------------------------------------------------------------\n",
            "\n",
            "[stuff about autobahn and safety of sho at speed deleted]\n",
            "\n",
            "The Mustang is a much worse case of design irresponsibility than the\n",
            "SHO. \n",
            "\n",
            "Its hard to predicatbaly drift a stock Mustang because\n",
            "of the suspension.\n",
            "\n",
            "\n",
            "Yes. When i think Mustang, I think school-bus +  F16 motor. In\n",
            "my mind the Mustang sh...\n",
            "--------------------------------------------------------------------------------\n",
            "\n",
            "\n",
            "--------------------------------------------------------------------------------\n",
            "** Texto del documento similar. Idx: 1777 Categoría: rec.autos\n",
            "--------------------------------------------------------------------------------\n",
            "\t\t\t\t\t\t\t^^^^\n",
            "\t\t\t\t\t\tRears also vented\n",
            "\n",
            "\n",
            "Then you shouldn't've done it. Try answering the damn question.\n",
            "I am well aware of the fact that there was no mention of the SC\n",
            "in there.\n",
            "\n",
            "\n",
            "Well, my point was that the SC and the SHO both have very similar\n",
            "characteristics (front and rear disks (ABS on the SHO...\n",
            "--------------------------------------------------------------------------------\n",
            "\n",
            "\n",
            "--------------------------------------------------------------------------------\n",
            "** Texto del documento similar. Idx: 11152 Categoría: rec.autos\n",
            "--------------------------------------------------------------------------------\n",
            "\n",
            "\n",
            "My whole point was not to say that the cars *couldn't* go that fast,\n",
            "but that they *shouldn't* go that fast.  A family sedan designed to be\n",
            "operable at 85mph doesn't suddenly become operable at 130mph because\n",
            "you added some plastic aero effects, slightly wider tires, and a much\n",
            "larger engine.  ...\n",
            "--------------------------------------------------------------------------------\n",
            "\n",
            "\n"
          ]
        }
      ],
      "source": [
        "imprimir_similares(document=2)"
      ]
    },
    {
      "cell_type": "markdown",
      "metadata": {},
      "source": [
        "### Documento 3"
      ]
    },
    {
      "cell_type": "code",
      "execution_count": 270,
      "metadata": {},
      "outputs": [
        {
          "name": "stdout",
          "output_type": "stream",
          "text": [
            "El documento 3 pertenece a la categoría rec.sport.baseball\n",
            "\n",
            "--------------------------------------------------------------------------------\n",
            "** Texto del documento similar. Idx: 1606 Categoría: rec.sport.baseball\n",
            "--------------------------------------------------------------------------------\n",
            "\n",
            "\n",
            "\n",
            "It's not a cliche, and (unlike your comments below) it's not a tautology.\n",
            "It needn't have been true.  If every pitcher in baseball were essentially\n",
            "the same in quality (i.e. if the variance of pitching ability were much\n",
            "smaller than the variance of batting ability), then scoring runs would be\n",
            "...\n",
            "--------------------------------------------------------------------------------\n",
            "\n",
            "\n",
            "--------------------------------------------------------------------------------\n",
            "** Texto del documento similar. Idx: 6032 Categoría: rec.sport.baseball\n",
            "--------------------------------------------------------------------------------\n",
            "The O's just lost to the Rangers a few minutes ago I was not too happy about\n",
            "the pitching of Rick Sutcliffe (6 runs in 6 innings, 5 in the 3?) This puts\n",
            "me in remembering the 1990 O's season. After '89 we didn't do much over\n",
            "winter and we wound up in 5th. Now I know that Mussina, McDonald, and Rh...\n",
            "--------------------------------------------------------------------------------\n",
            "\n",
            "\n",
            "--------------------------------------------------------------------------------\n",
            "** Texto del documento similar. Idx: 4146 Categoría: rec.sport.baseball\n",
            "--------------------------------------------------------------------------------\n",
            "I can't believe this, Howe has an ERA in the 80's He is improving!!!\n",
            "\n",
            "\n",
            "--------------------------------------------------------------------------------\n",
            "\n",
            "\n",
            "--------------------------------------------------------------------------------\n",
            "** Texto del documento similar. Idx: 10627 Categoría: rec.sport.baseball\n",
            "--------------------------------------------------------------------------------\n",
            "I would e-mail this to you, but my mailserver doesn't recognize you or\n",
            "something.\n",
            "\n",
            "Anyway, the worst pitcher on the Yanks. If you mean currently on the team,\n",
            "then I have to go with Scott \"I'm a schizophrenic...No, I'm NOT!\"\n",
            "Kamienicki. Sure, occasionally the guy can pitch well for 5 or 6 innings,...\n",
            "--------------------------------------------------------------------------------\n",
            "\n",
            "\n",
            "--------------------------------------------------------------------------------\n",
            "** Texto del documento similar. Idx: 5639 Categoría: rec.sport.baseball\n",
            "--------------------------------------------------------------------------------\n",
            "Bunker & McNally were later.\n",
            "\n",
            "Pappas, Estrada, Steve Barber, and . . . ?\n",
            "--------------------------------------------------------------------------------\n",
            "\n",
            "\n"
          ]
        }
      ],
      "source": [
        "imprimir_similares(document=3)"
      ]
    },
    {
      "cell_type": "markdown",
      "metadata": {},
      "source": [
        "### Documento 4"
      ]
    },
    {
      "cell_type": "code",
      "execution_count": 271,
      "metadata": {},
      "outputs": [
        {
          "name": "stdout",
          "output_type": "stream",
          "text": [
            "El documento 4 pertenece a la categoría talk.politics.guns\n",
            "\n",
            "--------------------------------------------------------------------------------\n",
            "** Texto del documento similar. Idx: 4271 Categoría: talk.politics.misc\n",
            "--------------------------------------------------------------------------------\n",
            "THE WHITE HOUSE\n",
            "\n",
            "                    Office of the Press Secretary\n",
            "______________________________________________________________\n",
            "For Immediate Release                             April 13, 1993     \n",
            "\n",
            "\t     \n",
            "                      REMARKS BY THE PRESIDENT,\n",
            "               SECRETARY OF EDUCATION RIC...\n",
            "--------------------------------------------------------------------------------\n",
            "\n",
            "\n",
            "--------------------------------------------------------------------------------\n",
            "** Texto del documento similar. Idx: 9623 Categoría: talk.politics.mideast\n",
            "--------------------------------------------------------------------------------\n",
            "Accounts of Anti-Armenian Human Right Violations in Azerbaijan #012\n",
            "                 Prelude to Current Events in Nagorno-Karabakh\n",
            "\n",
            "        +---------------------------------------------------------+\n",
            "        |                                                         |\n",
            "        |  I saw a naked girl...\n",
            "--------------------------------------------------------------------------------\n",
            "\n",
            "\n",
            "--------------------------------------------------------------------------------\n",
            "** Texto del documento similar. Idx: 6894 Categoría: talk.politics.guns\n",
            "--------------------------------------------------------------------------------\n",
            "Here is a press release from the White House.\n",
            "\n",
            " President Clinton's Remarks On Waco With Q/A\n",
            " To: National Desk\n",
            " Contact: White House Office of the Press Secretary, 202-456-2100\n",
            "\n",
            "   WASHINGTON, April 20 -- Following are remarks by President \n",
            "Clinton in a question and answer session with the press...\n",
            "--------------------------------------------------------------------------------\n",
            "\n",
            "\n",
            "--------------------------------------------------------------------------------\n",
            "** Texto del documento similar. Idx: 5826 Categoría: soc.religion.christian\n",
            "--------------------------------------------------------------------------------\n",
            "A listmember (D Andrew Killie, I think) wrote, in response to the\n",
            "suggestion that genocide may sometimes be the will of God:\n",
            "\n",
            " > Any God who works that way is indescribably evil,\n",
            " > and unworthy of my worship or faith.\n",
            "\n",
            "Nobuya \"Higgy\" Higashiyama replied (as, in substance, did others):\n",
            "\n",
            " > Where ...\n",
            "--------------------------------------------------------------------------------\n",
            "\n",
            "\n",
            "--------------------------------------------------------------------------------\n",
            "** Texto del documento similar. Idx: 3596 Categoría: talk.politics.misc\n",
            "--------------------------------------------------------------------------------\n",
            "THE WHITE HOUSE\n",
            "\n",
            "                    Office of the Press Secretary\n",
            "_________________________________________________________________\n",
            "For Immediate Release                             April 14, 1993     \n",
            "\n",
            "\t     \n",
            "                       REMARKS BY THE PRESIDENT\n",
            "                      AT SUMMER JOBS C...\n",
            "--------------------------------------------------------------------------------\n",
            "\n",
            "\n"
          ]
        }
      ],
      "source": [
        "imprimir_similares(document=4)"
      ]
    },
    {
      "cell_type": "markdown",
      "metadata": {},
      "source": [
        "### Documento 5"
      ]
    },
    {
      "cell_type": "code",
      "execution_count": 272,
      "metadata": {},
      "outputs": [
        {
          "name": "stdout",
          "output_type": "stream",
          "text": [
            "El documento 5 pertenece a la categoría comp.windows.x\n",
            "\n",
            "--------------------------------------------------------------------------------\n",
            "** Texto del documento similar. Idx: 4614 Categoría: comp.windows.x\n",
            "--------------------------------------------------------------------------------\n",
            "Archive-name: x-faq/part5\n",
            "Last-modified: 1993/04/04\n",
            "\n",
            "----------------------------------------------------------------------\n",
            "Subject: 119)  I'm writing a widget and can't use a float as a resource value.\n",
            "\n",
            "Float resources are not portable; the size of the value may be larger than\n",
            "the size of an XtP...\n",
            "--------------------------------------------------------------------------------\n",
            "\n",
            "\n",
            "--------------------------------------------------------------------------------\n",
            "** Texto del documento similar. Idx: 7967 Categoría: comp.windows.x\n",
            "--------------------------------------------------------------------------------\n",
            "Archive-name: x-faq/part1\n",
            "Last-modified: 1993/04/04\n",
            "\n",
            "This article and several following contain the answers to some Frequently Asked \n",
            "Questions (FAQ) often seen in comp.windows.x. It is posted to help reduce \n",
            "volume in this newsgroup and to provide hard-to-find information of general \n",
            "interest.\n",
            "\n",
            "...\n",
            "--------------------------------------------------------------------------------\n",
            "\n",
            "\n",
            "--------------------------------------------------------------------------------\n",
            "** Texto del documento similar. Idx: 7972 Categoría: comp.windows.x\n",
            "--------------------------------------------------------------------------------\n",
            "Archive-name: x-faq/part4\n",
            "Last-modified: 1993/04/04\n",
            "\n",
            "----------------------------------------------------------------------\n",
            "Subject:  80)! Where can I get an X-based plotting program?\n",
            "\n",
            "These usually are available from uucp sites such as uunet or other sites as\n",
            "marked; please consult the archie se...\n",
            "--------------------------------------------------------------------------------\n",
            "\n",
            "\n",
            "--------------------------------------------------------------------------------\n",
            "** Texto del documento similar. Idx: 6151 Categoría: comp.windows.x\n",
            "--------------------------------------------------------------------------------\n",
            "Archive-name: x-faq/part2\n",
            "Last-modified: 1993/04/04\n",
            "\n",
            "----------------------------------------------------------------------\n",
            "Subject:  24)! How do I make a screendump or print my application?\n",
            "\n",
            "\tThe xwd client in the X11 distributions can be used to select a window \n",
            "or the background. It produces a...\n",
            "--------------------------------------------------------------------------------\n",
            "\n",
            "\n",
            "--------------------------------------------------------------------------------\n",
            "** Texto del documento similar. Idx: 7496 Categoría: comp.windows.x\n",
            "--------------------------------------------------------------------------------\n",
            "Archive-name: x-faq/speedups\n",
            "Last-modified: 1993/4/15\n",
            "\n",
            "- - - - - - - - - - - - - - - - - - - - - - - - - - - - - - - - - - - -\n",
            "\tHOW TO MAXIMIZE THE PERFORMANCE OF X -- monthly posting\n",
            "- - - - - - - - - - - - - - - - - - - - - - - - - - - - - - - - - - - -\n",
            "\t    Compiled by Art Mulder (art@cs.ualbe...\n",
            "--------------------------------------------------------------------------------\n",
            "\n",
            "\n"
          ]
        }
      ],
      "source": [
        "imprimir_similares(document=5)"
      ]
    },
    {
      "cell_type": "markdown",
      "metadata": {},
      "source": [
        "- Nuevamente se observa que no solo la categoría de los documentos obtenidos con similitud coseno coincide, sino que la temática es parecida.\n",
        "- Por ejemplo, para el documento 5 todos los mails similares pertenecen a la categoría \"comp.window\" y se tratan sobre preguntas de software o del sistema operativo."
      ]
    },
    {
      "cell_type": "markdown",
      "metadata": {},
      "source": [
        "## **2**. Entrenar modelos de clasificación Naïve Bayes para maximizar el desempeño de clasificación\n",
        "(f1-score macro) en el conjunto de datos de test. Considerar cambiar parámteros\n",
        "de instanciación del vectorizador y los modelos y probar modelos de Naïve Bayes Multinomial\n",
        "y ComplementNB."
      ]
    },
    {
      "cell_type": "code",
      "execution_count": 292,
      "metadata": {},
      "outputs": [],
      "source": [
        "# Obtención de datos del dataset\n",
        "newsgroups_train = fetch_20newsgroups(subset='train', remove=('headers', 'footers', 'quotes'))\n",
        "newsgroups_test = fetch_20newsgroups(subset='test', remove=('headers', 'footers', 'quotes'))\n",
        "\n",
        "# Función auxiliar para guardar métricas\n",
        "def almacenar_metricas(clasificador,vectorizador,f1_score,existing_df=None):\n",
        "    \"\"\"Almacena métricas en un dataframe para facilitar su visualización.\"\"\"\n",
        "    df = pd.DataFrame({\n",
        "                            \"Clasificador\":[clasificador],\n",
        "                            \"Vectorizador\": [vectorizador],\n",
        "                            \"F1-score\": [f1_score]\n",
        "                            })\n",
        "    if existing_df is None:\n",
        "        return df\n",
        "\n",
        "    df_ = pd.concat([existing_df,df],ignore_index=True)\n",
        "    return df_"
      ]
    },
    {
      "cell_type": "markdown",
      "metadata": {},
      "source": [
        "### 2.1 Naive Bayes MultinomialNB y vectorizador TF-IDF con parámetros por defecto"
      ]
    },
    {
      "cell_type": "code",
      "execution_count": 293,
      "metadata": {},
      "outputs": [
        {
          "data": {
            "text/plain": [
              "0.5854345727938506"
            ]
          },
          "execution_count": 293,
          "metadata": {},
          "output_type": "execute_result"
        }
      ],
      "source": [
        "# Vectorización TF-IDF\n",
        "tfidfvect = TfidfVectorizer()\n",
        "X_train = tfidfvect.fit_transform(newsgroups_train.data)\n",
        "y_train = newsgroups_train.target\n",
        "X_test = tfidfvect.transform(newsgroups_test.data)\n",
        "y_test = newsgroups_test.target\n",
        "\n",
        "# Clasificador: Naive Bayes Multinomial NB\n",
        "clf = MultinomialNB()\n",
        "clf.fit(X_train, y_train)\n",
        "X_test = tfidfvect.transform(newsgroups_test.data)\n",
        "y_test = newsgroups_test.target\n",
        "y_pred =  clf.predict(X_test)\n",
        "score = f1_score(y_test, y_pred, average='macro')\n",
        "score"
      ]
    },
    {
      "cell_type": "code",
      "execution_count": 294,
      "metadata": {},
      "outputs": [
        {
          "data": {
            "text/html": [
              "<div>\n",
              "<style scoped>\n",
              "    .dataframe tbody tr th:only-of-type {\n",
              "        vertical-align: middle;\n",
              "    }\n",
              "\n",
              "    .dataframe tbody tr th {\n",
              "        vertical-align: top;\n",
              "    }\n",
              "\n",
              "    .dataframe thead th {\n",
              "        text-align: right;\n",
              "    }\n",
              "</style>\n",
              "<table border=\"1\" class=\"dataframe\">\n",
              "  <thead>\n",
              "    <tr style=\"text-align: right;\">\n",
              "      <th></th>\n",
              "      <th>Clasificador</th>\n",
              "      <th>Vectorizador</th>\n",
              "      <th>F1-score</th>\n",
              "    </tr>\n",
              "  </thead>\n",
              "  <tbody>\n",
              "    <tr>\n",
              "      <th>0</th>\n",
              "      <td>MultinomialNB</td>\n",
              "      <td>TF-IDF con parámetros por defecto</td>\n",
              "      <td>0.585435</td>\n",
              "    </tr>\n",
              "  </tbody>\n",
              "</table>\n",
              "</div>"
            ],
            "text/plain": [
              "    Clasificador                       Vectorizador  F1-score\n",
              "0  MultinomialNB  TF-IDF con parámetros por defecto  0.585435"
            ]
          },
          "metadata": {},
          "output_type": "display_data"
        }
      ],
      "source": [
        "# Almacenamiento y muestra de métricas\n",
        "df_metricas = almacenar_metricas(\n",
        "        clasificador=\"MultinomialNB\",\n",
        "        vectorizador=\"TF-IDF con parámetros por defecto\",\n",
        "        f1_score=score\n",
        "        )\n",
        "\n",
        "display(df_metricas)"
      ]
    },
    {
      "cell_type": "markdown",
      "metadata": {},
      "source": [
        "### 2.2 Naive Bayes MultinomialNB con parámetros por defecto y modificando parámetros de instanciación del vectorizador TF-IDF\n",
        "- Para el vectorizador TF-IDF se modifican los parámetros:\n",
        "    - min_df: Frecuencia mínima en la que debe aparecer un término para ser considerado. Se elige 0.1% , ya que se quieren eliminar términos muy raros que aparezcan una sola vez, pero podría haber términos que aparezcan con poca frecuencia y aporten mucha información. \n",
        "    - max_df: Frecuencia máxima de apareción de un término. Se elige 90% para eliminar del vocabulario artículos u otros elementos que no aportan información.\n",
        "    - strip_accents: 'ascii' para remover todos los acentos y llevarlos a su caracter ASCII más cercano. Como el lenguaje de los documentos es inglés, este parámetro no debería afectar casi a ningún término."
      ]
    },
    {
      "cell_type": "code",
      "execution_count": 295,
      "metadata": {},
      "outputs": [
        {
          "data": {
            "text/plain": [
              "0.6145475022611062"
            ]
          },
          "execution_count": 295,
          "metadata": {},
          "output_type": "execute_result"
        }
      ],
      "source": [
        "# Vectorización TF-IDF\n",
        "tfidfvect = TfidfVectorizer(min_df=(0.1/100),max_df=0.9,strip_accents='ascii')\n",
        "X_train = tfidfvect.fit_transform(newsgroups_train.data)\n",
        "y_train = newsgroups_train.target\n",
        "X_test = tfidfvect.transform(newsgroups_test.data)\n",
        "y_test = newsgroups_test.target\n",
        "\n",
        "# Clasificador: Naive Bayes Multinomial NB\n",
        "clf = MultinomialNB()\n",
        "clf.fit(X_train, y_train)\n",
        "X_test = tfidfvect.transform(newsgroups_test.data)\n",
        "y_test = newsgroups_test.target\n",
        "y_pred =  clf.predict(X_test)\n",
        "score = f1_score(y_test, y_pred, average='macro')\n",
        "score"
      ]
    },
    {
      "cell_type": "code",
      "execution_count": 296,
      "metadata": {},
      "outputs": [
        {
          "data": {
            "text/html": [
              "<div>\n",
              "<style scoped>\n",
              "    .dataframe tbody tr th:only-of-type {\n",
              "        vertical-align: middle;\n",
              "    }\n",
              "\n",
              "    .dataframe tbody tr th {\n",
              "        vertical-align: top;\n",
              "    }\n",
              "\n",
              "    .dataframe thead th {\n",
              "        text-align: right;\n",
              "    }\n",
              "</style>\n",
              "<table border=\"1\" class=\"dataframe\">\n",
              "  <thead>\n",
              "    <tr style=\"text-align: right;\">\n",
              "      <th></th>\n",
              "      <th>Clasificador</th>\n",
              "      <th>Vectorizador</th>\n",
              "      <th>F1-score</th>\n",
              "    </tr>\n",
              "  </thead>\n",
              "  <tbody>\n",
              "    <tr>\n",
              "      <th>0</th>\n",
              "      <td>MultinomialNB</td>\n",
              "      <td>TF-IDF con parámetros por defecto</td>\n",
              "      <td>0.585435</td>\n",
              "    </tr>\n",
              "    <tr>\n",
              "      <th>1</th>\n",
              "      <td>MultinomialNB</td>\n",
              "      <td>TF-IDF con min_df=0.1%, max_df=90% y strip_acc...</td>\n",
              "      <td>0.614548</td>\n",
              "    </tr>\n",
              "  </tbody>\n",
              "</table>\n",
              "</div>"
            ],
            "text/plain": [
              "    Clasificador                                       Vectorizador  F1-score\n",
              "0  MultinomialNB                  TF-IDF con parámetros por defecto  0.585435\n",
              "1  MultinomialNB  TF-IDF con min_df=0.1%, max_df=90% y strip_acc...  0.614548"
            ]
          },
          "execution_count": 296,
          "metadata": {},
          "output_type": "execute_result"
        }
      ],
      "source": [
        "# Almacenamiento y muestra de métricas\n",
        "df_metricas = almacenar_metricas(\n",
        "        clasificador=\"MultinomialNB\",\n",
        "        vectorizador=\"TF-IDF con min_df=0.1%, max_df=90% y strip_accents='ascii'\",\n",
        "        f1_score=score,\n",
        "        existing_df=df_metricas\n",
        "        )\n",
        "\n",
        "df_metricas"
      ]
    },
    {
      "cell_type": "markdown",
      "metadata": {},
      "source": [
        "### 2.3 Idem 2.2 pero utilizando clasificador Naive Bayes ComplementNB\n",
        "\n",
        "- Vectorizador: mismo que en punto 2.2.\n",
        "- Se utiliza clasificador Naive Bayes ComplementNB con alpha = 0 y alpha = 1.0 (valor por defecto), para ver el efecto de la suavización"
      ]
    },
    {
      "cell_type": "code",
      "execution_count": 297,
      "metadata": {},
      "outputs": [],
      "source": [
        "# Vectorización TF-IDF del punto 2.2\n",
        "tfidfvect = TfidfVectorizer(min_df=(0.1/100),max_df=0.9,strip_accents='ascii')\n",
        "X_train = tfidfvect.fit_transform(newsgroups_train.data)\n",
        "y_train = newsgroups_train.target\n",
        "X_test = tfidfvect.transform(newsgroups_test.data)\n",
        "y_test = newsgroups_test.target"
      ]
    },
    {
      "cell_type": "code",
      "execution_count": 298,
      "metadata": {},
      "outputs": [
        {
          "name": "stderr",
          "output_type": "stream",
          "text": [
            "C:\\Users\\lsaraco\\AppData\\Local\\Packages\\PythonSoftwareFoundation.Python.3.11_qbz5n2kfra8p0\\LocalCache\\local-packages\\Python311\\site-packages\\sklearn\\naive_bayes.py:624: FutureWarning: The default value for `force_alpha` will change to `True` in 1.4. To suppress this warning, manually set the value of `force_alpha`.\n",
            "  warnings.warn(\n",
            "C:\\Users\\lsaraco\\AppData\\Local\\Packages\\PythonSoftwareFoundation.Python.3.11_qbz5n2kfra8p0\\LocalCache\\local-packages\\Python311\\site-packages\\sklearn\\naive_bayes.py:633: UserWarning: alpha too small will result in numeric errors, setting alpha = 1.0e-10. Use `force_alpha=True` to keep alpha unchanged.\n",
            "  warnings.warn(\n"
          ]
        },
        {
          "data": {
            "text/plain": [
              "0.6536621880859208"
            ]
          },
          "execution_count": 298,
          "metadata": {},
          "output_type": "execute_result"
        }
      ],
      "source": [
        "# Clasificador: Naive Bayes ComplementNB con alpha=0\n",
        "clf = ComplementNB(alpha=0)\n",
        "clf.fit(X_train, y_train)\n",
        "X_test = tfidfvect.transform(newsgroups_test.data)\n",
        "y_test = newsgroups_test.target\n",
        "y_pred =  clf.predict(X_test)\n",
        "score = f1_score(y_test, y_pred, average='macro')\n",
        "score"
      ]
    },
    {
      "cell_type": "code",
      "execution_count": 299,
      "metadata": {},
      "outputs": [
        {
          "data": {
            "text/html": [
              "<div>\n",
              "<style scoped>\n",
              "    .dataframe tbody tr th:only-of-type {\n",
              "        vertical-align: middle;\n",
              "    }\n",
              "\n",
              "    .dataframe tbody tr th {\n",
              "        vertical-align: top;\n",
              "    }\n",
              "\n",
              "    .dataframe thead th {\n",
              "        text-align: right;\n",
              "    }\n",
              "</style>\n",
              "<table border=\"1\" class=\"dataframe\">\n",
              "  <thead>\n",
              "    <tr style=\"text-align: right;\">\n",
              "      <th></th>\n",
              "      <th>Clasificador</th>\n",
              "      <th>Vectorizador</th>\n",
              "      <th>F1-score</th>\n",
              "    </tr>\n",
              "  </thead>\n",
              "  <tbody>\n",
              "    <tr>\n",
              "      <th>0</th>\n",
              "      <td>MultinomialNB</td>\n",
              "      <td>TF-IDF con parámetros por defecto</td>\n",
              "      <td>0.585435</td>\n",
              "    </tr>\n",
              "    <tr>\n",
              "      <th>1</th>\n",
              "      <td>MultinomialNB</td>\n",
              "      <td>TF-IDF con min_df=0.1%, max_df=90% y strip_acc...</td>\n",
              "      <td>0.614548</td>\n",
              "    </tr>\n",
              "    <tr>\n",
              "      <th>2</th>\n",
              "      <td>ComplementNB con alpha=0</td>\n",
              "      <td>TF-IDF con min_df=0.1%, max_df=90% y strip_acc...</td>\n",
              "      <td>0.653662</td>\n",
              "    </tr>\n",
              "  </tbody>\n",
              "</table>\n",
              "</div>"
            ],
            "text/plain": [
              "               Clasificador  \\\n",
              "0             MultinomialNB   \n",
              "1             MultinomialNB   \n",
              "2  ComplementNB con alpha=0   \n",
              "\n",
              "                                        Vectorizador  F1-score  \n",
              "0                  TF-IDF con parámetros por defecto  0.585435  \n",
              "1  TF-IDF con min_df=0.1%, max_df=90% y strip_acc...  0.614548  \n",
              "2  TF-IDF con min_df=0.1%, max_df=90% y strip_acc...  0.653662  "
            ]
          },
          "metadata": {},
          "output_type": "display_data"
        }
      ],
      "source": [
        "# Almacenamiento y muestra de métricas\n",
        "df_metricas = almacenar_metricas(\n",
        "        clasificador=\"ComplementNB con alpha=0\",\n",
        "        vectorizador=\"TF-IDF con min_df=0.1%, max_df=90% y strip_accents='ascii'\",\n",
        "        f1_score=score,\n",
        "        existing_df=df_metricas\n",
        "        )\n",
        "\n",
        "display(df_metricas)"
      ]
    },
    {
      "cell_type": "markdown",
      "metadata": {},
      "source": [
        "Con alpha=1"
      ]
    },
    {
      "cell_type": "code",
      "execution_count": 300,
      "metadata": {},
      "outputs": [
        {
          "data": {
            "text/plain": [
              "0.6603254297989471"
            ]
          },
          "execution_count": 300,
          "metadata": {},
          "output_type": "execute_result"
        }
      ],
      "source": [
        "# Clasificador: Naive Bayes ComplementNB con alpha=0\n",
        "clf = ComplementNB(alpha=1)\n",
        "clf.fit(X_train, y_train)\n",
        "X_test = tfidfvect.transform(newsgroups_test.data)\n",
        "y_test = newsgroups_test.target\n",
        "y_pred =  clf.predict(X_test)\n",
        "score = f1_score(y_test, y_pred, average='macro')\n",
        "score"
      ]
    },
    {
      "cell_type": "code",
      "execution_count": 301,
      "metadata": {},
      "outputs": [
        {
          "data": {
            "text/html": [
              "<div>\n",
              "<style scoped>\n",
              "    .dataframe tbody tr th:only-of-type {\n",
              "        vertical-align: middle;\n",
              "    }\n",
              "\n",
              "    .dataframe tbody tr th {\n",
              "        vertical-align: top;\n",
              "    }\n",
              "\n",
              "    .dataframe thead th {\n",
              "        text-align: right;\n",
              "    }\n",
              "</style>\n",
              "<table border=\"1\" class=\"dataframe\">\n",
              "  <thead>\n",
              "    <tr style=\"text-align: right;\">\n",
              "      <th></th>\n",
              "      <th>Clasificador</th>\n",
              "      <th>Vectorizador</th>\n",
              "      <th>F1-score</th>\n",
              "    </tr>\n",
              "  </thead>\n",
              "  <tbody>\n",
              "    <tr>\n",
              "      <th>0</th>\n",
              "      <td>MultinomialNB</td>\n",
              "      <td>TF-IDF con parámetros por defecto</td>\n",
              "      <td>0.585435</td>\n",
              "    </tr>\n",
              "    <tr>\n",
              "      <th>1</th>\n",
              "      <td>MultinomialNB</td>\n",
              "      <td>TF-IDF con min_df=0.1%, max_df=90% y strip_acc...</td>\n",
              "      <td>0.614548</td>\n",
              "    </tr>\n",
              "    <tr>\n",
              "      <th>2</th>\n",
              "      <td>ComplementNB con alpha=0</td>\n",
              "      <td>TF-IDF con min_df=0.1%, max_df=90% y strip_acc...</td>\n",
              "      <td>0.653662</td>\n",
              "    </tr>\n",
              "    <tr>\n",
              "      <th>3</th>\n",
              "      <td>ComplementNB con alpha=1</td>\n",
              "      <td>TF-IDF con min_df=0.1%, max_df=90% y strip_acc...</td>\n",
              "      <td>0.660325</td>\n",
              "    </tr>\n",
              "  </tbody>\n",
              "</table>\n",
              "</div>"
            ],
            "text/plain": [
              "               Clasificador  \\\n",
              "0             MultinomialNB   \n",
              "1             MultinomialNB   \n",
              "2  ComplementNB con alpha=0   \n",
              "3  ComplementNB con alpha=1   \n",
              "\n",
              "                                        Vectorizador  F1-score  \n",
              "0                  TF-IDF con parámetros por defecto  0.585435  \n",
              "1  TF-IDF con min_df=0.1%, max_df=90% y strip_acc...  0.614548  \n",
              "2  TF-IDF con min_df=0.1%, max_df=90% y strip_acc...  0.653662  \n",
              "3  TF-IDF con min_df=0.1%, max_df=90% y strip_acc...  0.660325  "
            ]
          },
          "metadata": {},
          "output_type": "display_data"
        }
      ],
      "source": [
        "# Almacenamiento y muestra de métricas\n",
        "df_metricas = almacenar_metricas(\n",
        "        clasificador=\"ComplementNB con alpha=1\",\n",
        "        vectorizador=\"TF-IDF con min_df=0.1%, max_df=90% y strip_accents='ascii'\",\n",
        "        f1_score=score,\n",
        "        existing_df=df_metricas\n",
        "        )\n",
        "\n",
        "display(df_metricas)"
      ]
    },
    {
      "cell_type": "markdown",
      "metadata": {},
      "source": [
        "## **3**. Transponer la matriz documento-término. \n",
        "\n",
        "De esa manera se obtiene una matriz\n",
        "término-documento que puede ser interpretada como una colección de vectorización de palabras.\n",
        "Estudiar ahora similaridad entre palabras tomando 5 palabras y estudiando sus 5 más similares. **La elección de palabras no debe ser al azar para evitar la aparición de términos poco interpretables, elegirlas \"manualmente\"**."
      ]
    },
    {
      "cell_type": "code",
      "execution_count": 302,
      "metadata": {},
      "outputs": [
        {
          "data": {
            "text/plain": [
              "<9349x11314 sparse matrix of type '<class 'numpy.float64'>'\n",
              "\twith 923727 stored elements in Compressed Sparse Column format>"
            ]
          },
          "execution_count": 302,
          "metadata": {},
          "output_type": "execute_result"
        }
      ],
      "source": [
        "# Se toma el conjunto de entrenamiento como la matriz documento-terminos, ya que es bastante grande (11314 documentos)\n",
        "doc_term_matrix = X_train\n",
        "term_doc_matrix = X_train.T\n",
        "term_doc_matrix"
      ]
    },
    {
      "cell_type": "markdown",
      "metadata": {},
      "source": [
        "Para la vectirización se usará el vectorizador del punto 2.2 (tfidf con parámetros min_df, max_df y strip_accents)"
      ]
    },
    {
      "cell_type": "code",
      "execution_count": 303,
      "metadata": {},
      "outputs": [],
      "source": [
        "tfidfvect = TfidfVectorizer(min_df=(0.1/100),max_df=0.9,strip_accents='ascii')\n",
        "tfidfvect.fit_transform(newsgroups_train.data)\n",
        "idx2word = {v: k for k,v in tfidfvect.vocabulary_.items()}"
      ]
    },
    {
      "cell_type": "code",
      "execution_count": 304,
      "metadata": {},
      "outputs": [
        {
          "name": "stdout",
          "output_type": "stream",
          "text": [
            "La palabra 'car' se encuentra en la fila 1679 de la variable term_doc_matrix.\n",
            "La palabra 'radio' se encuentra en la fila 6830 de la variable term_doc_matrix.\n",
            "La palabra 'health' se encuentra en la fila 4109 de la variable term_doc_matrix.\n",
            "La palabra 'transistor' se encuentra en la fila 8604 de la variable term_doc_matrix.\n",
            "La palabra 'president' se encuentra en la fila 6545 de la variable term_doc_matrix.\n"
          ]
        }
      ],
      "source": [
        "# Lista de palabras con las que se estudiará su similaridad:\n",
        "words_list = [\n",
        "                \"car\",\n",
        "                \"radio\",\n",
        "                \"health\",\n",
        "                \"transistor\",\n",
        "                \"president\"\n",
        "              ]\n",
        "\n",
        "for w in words_list:\n",
        "    print(f\"La palabra '{w}' se encuentra en la fila {tfidfvect.vocabulary_[w]} de la variable term_doc_matrix.\")\n"
      ]
    },
    {
      "cell_type": "code",
      "execution_count": 305,
      "metadata": {},
      "outputs": [
        {
          "name": "stdout",
          "output_type": "stream",
          "text": [
            "** Las 5 palabras más similares a 'car' según similitud coseno son:\n",
            "\t - cars\n",
            "\t - dealer\n",
            "\t - civic\n",
            "\t - owner\n",
            "\t - the\n",
            "** Las 5 palabras más similares a 'radio' según similitud coseno son:\n",
            "\t - shack\n",
            "\t - amateur\n",
            "\t - ham\n",
            "\t - tuned\n",
            "\t - handbook\n",
            "** Las 5 palabras más similares a 'health' según similitud coseno son:\n",
            "\t - care\n",
            "\t - insurance\n",
            "\t - medical\n",
            "\t - medicine\n",
            "\t - underlying\n",
            "** Las 5 palabras más similares a 'transistor' según similitud coseno son:\n",
            "\t - diode\n",
            "\t - flip\n",
            "\t - thermal\n",
            "\t - dense\n",
            "\t - fuse\n",
            "** Las 5 palabras más similares a 'president' según similitud coseno son:\n",
            "\t - secretary\n",
            "\t - clinton\n",
            "\t - edt\n",
            "\t - vice\n",
            "\t - meets\n"
          ]
        }
      ],
      "source": [
        "# Obtengo 5 más similares de cada palabra\n",
        "for w in words_list:\n",
        "    print(f\"** Las 5 palabras más similares a '{w}' según similitud coseno son:\")\n",
        "    cossim = cosine_similarity(term_doc_matrix[tfidfvect.vocabulary_[w]], term_doc_matrix)[0]\n",
        "    words_sim_idx = np.argsort(cossim)[::-1][1:(5+1)]\n",
        "    for i in words_sim_idx:\n",
        "        print(f\"\\t - {idx2word[i]}\")"
      ]
    },
    {
      "cell_type": "markdown",
      "metadata": {},
      "source": [
        "### Conclusiones del punto 3:\n",
        "\n",
        "- Si bien algunas de las palabras similares a la palabra principal no tienen tanto sentido, la mayoría de ellas sí, o pertenecen al mismo contexto.\n",
        "- Por ejemplo, para el caso de 'car', tiene sentido que la más similar sea 'cars'. 'Owner' también tiene sentido, ya que seguramente la palabra 'car' está acompañada de 'owner' en varios documentos.\n",
        "- En el caso de 'radio', su relación más fuerte es con 'shack', probablemente porque en varios documentos se hable de 'radio shack', la tienda estadounidense.\n",
        "- Tomando otro caso, por ejemplo 'transistor', vemos que los términos similares pertenecen todos al ámbito de la electrónica."
      ]
    }
  ],
  "metadata": {
    "colab": {
      "provenance": []
    },
    "kernelspec": {
      "display_name": "Python 3",
      "name": "python3"
    },
    "language_info": {
      "codemirror_mode": {
        "name": "ipython",
        "version": 3
      },
      "file_extension": ".py",
      "mimetype": "text/x-python",
      "name": "python",
      "nbconvert_exporter": "python",
      "pygments_lexer": "ipython3",
      "version": "3.11.9"
    }
  },
  "nbformat": 4,
  "nbformat_minor": 0
}
