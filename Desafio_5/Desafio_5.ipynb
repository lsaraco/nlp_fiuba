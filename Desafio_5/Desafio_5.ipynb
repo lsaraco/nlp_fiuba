{
  "cells": [
    {
      "cell_type": "markdown",
      "metadata": {
        "id": "G63Jpt-wYcJ3"
      },
      "source": [
        "<img src=\"https://github.com/hernancontigiani/ceia_memorias_especializacion/raw/master/Figures/logoFIUBA.jpg\" width=\"500\" align=\"center\">\n",
        "\n",
        "\n",
        "# Procesamiento de lenguaje natural\n",
        "\n",
        "## Sentiment Analysis usando BERT y transfer learning\n",
        "\n",
        "- Leandro Saraco\n",
        "- Octubre 2024\n"
      ]
    },
    {
      "cell_type": "code",
      "execution_count": 1,
      "metadata": {
        "execution": {
          "iopub.execute_input": "2024-10-15T22:35:53.661230Z",
          "iopub.status.busy": "2024-10-15T22:35:53.660767Z",
          "iopub.status.idle": "2024-10-15T22:35:53.667380Z",
          "shell.execute_reply": "2024-10-15T22:35:53.665910Z",
          "shell.execute_reply.started": "2024-10-15T22:35:53.661185Z"
        },
        "id": "tJcER8ZkWQbq",
        "trusted": true
      },
      "outputs": [
        {
          "name": "stderr",
          "output_type": "stream",
          "text": [
            "2024-10-17 12:41:53.194368: E external/local_xla/xla/stream_executor/cuda/cuda_fft.cc:485] Unable to register cuFFT factory: Attempting to register factory for plugin cuFFT when one has already been registered\n",
            "2024-10-17 12:41:53.216475: E external/local_xla/xla/stream_executor/cuda/cuda_dnn.cc:8454] Unable to register cuDNN factory: Attempting to register factory for plugin cuDNN when one has already been registered\n",
            "2024-10-17 12:41:53.222925: E external/local_xla/xla/stream_executor/cuda/cuda_blas.cc:1452] Unable to register cuBLAS factory: Attempting to register factory for plugin cuBLAS when one has already been registered\n",
            "2024-10-17 12:41:53.239750: I tensorflow/core/platform/cpu_feature_guard.cc:210] This TensorFlow binary is optimized to use available CPU instructions in performance-critical operations.\n",
            "To enable the following instructions: AVX2 FMA, in other operations, rebuild TensorFlow with the appropriate compiler flags.\n",
            "2024-10-17 12:41:54.376384: W tensorflow/compiler/tf2tensorrt/utils/py_utils.cc:38] TF-TRT Warning: Could not find TensorRT\n",
            "/home/idk/git/ceia/nlp_fiuba/.venv/lib/python3.12/site-packages/tqdm/auto.py:21: TqdmWarning: IProgress not found. Please update jupyter and ipywidgets. See https://ipywidgets.readthedocs.io/en/stable/user_install.html\n",
            "  from .autonotebook import tqdm as notebook_tqdm\n"
          ]
        }
      ],
      "source": [
        "import tensorflow\n",
        "import seaborn as sns\n",
        "import numpy as np\n",
        "import matplotlib.pyplot as plt\n",
        "from transformers import TFBertModel"
      ]
    },
    {
      "cell_type": "markdown",
      "metadata": {
        "id": "8PnkXO8IWQbq"
      },
      "source": [
        "### Definiendo modelo"
      ]
    },
    {
      "cell_type": "code",
      "execution_count": 2,
      "metadata": {
        "colab": {
          "base_uri": "https://localhost:8080/",
          "height": 292,
          "referenced_widgets": [
            "ff732dbc73dc4af3b71322cbd35d9dfa",
            "ffa9d1d14ae24ff8b528169ec02af2a2",
            "a765598396b34e1a85e96f853f13b4f2",
            "aace0bd0fd3d4f409d042d2031e3799e",
            "f68c5d9dc4344d30a15a9e7a8e8cba2a",
            "dd01c757b8474b99b9e26e2ff7644380",
            "a62d1a510bb24d8697f95d57a4c2888c",
            "ce6ed28cf93f49cb8eef694f01d6b1a9",
            "275a8c7642084e70888d455e09081471",
            "73502547b64f405690704884a093d71f",
            "a554d23de93b442f9f402cd0eaabe3fb",
            "ec60f5a5aad54069a623f7fac958aff5",
            "b6de4a59e62f49e28177fc2b8be69344",
            "ee7ed5cf38db4a1fb6bebe4b991cf706",
            "97a2721df97f4e87a669b63a616be55f",
            "f2e02d08223843c98a6ef42c5e40b0cd",
            "4659c078b5de43948cb3f073cf4eedb1",
            "386e0dea77ed41f6b2223051c9aca74a",
            "cd8f9da685a54bb68c1a7d3aac714486",
            "f520972122fa4a83862650efbb048f8d",
            "e95b7f7fbd054af09b4e59f25ed3dd23",
            "f4e70203ab614263adb50fcd8f9acc10"
          ]
        },
        "execution": {
          "iopub.execute_input": "2024-10-15T22:30:16.809497Z",
          "iopub.status.busy": "2024-10-15T22:30:16.808795Z",
          "iopub.status.idle": "2024-10-15T22:30:23.032795Z",
          "shell.execute_reply": "2024-10-15T22:30:23.031572Z",
          "shell.execute_reply.started": "2024-10-15T22:30:16.809445Z"
        },
        "id": "yPu9rVCHWQbr",
        "outputId": "719b5ad9-ed34-49e3-9966-c64e7c944374",
        "trusted": true
      },
      "outputs": [
        {
          "name": "stderr",
          "output_type": "stream",
          "text": [
            "2024-10-17 12:41:57.323560: W tensorflow/core/common_runtime/gpu/gpu_device.cc:2343] Cannot dlopen some GPU libraries. Please make sure the missing libraries mentioned above are installed properly if you would like to use GPU. Follow the guide at https://www.tensorflow.org/install/gpu for how to download and setup the required libraries for your platform.\n",
            "Skipping registering GPU devices...\n",
            "Some weights of the PyTorch model were not used when initializing the TF 2.0 model TFBertModel: ['cls.predictions.transform.dense.weight', 'cls.predictions.transform.LayerNorm.weight', 'cls.seq_relationship.weight', 'cls.predictions.bias', 'cls.predictions.transform.LayerNorm.bias', 'cls.predictions.transform.dense.bias', 'cls.seq_relationship.bias']\n",
            "- This IS expected if you are initializing TFBertModel from a PyTorch model trained on another task or with another architecture (e.g. initializing a TFBertForSequenceClassification model from a BertForPreTraining model).\n",
            "- This IS NOT expected if you are initializing TFBertModel from a PyTorch model that you expect to be exactly identical (e.g. initializing a TFBertForSequenceClassification model from a BertForSequenceClassification model).\n",
            "All the weights of TFBertModel were initialized from the PyTorch model.\n",
            "If your task is similar to the task the model of the checkpoint was trained on, you can already use TFBertModel for predictions without further training.\n",
            "Some weights of the PyTorch model were not used when initializing the TF 2.0 model TFBertModel: ['cls.predictions.transform.dense.weight', 'cls.predictions.transform.LayerNorm.weight', 'cls.seq_relationship.weight', 'cls.predictions.bias', 'cls.predictions.transform.LayerNorm.bias', 'cls.predictions.transform.dense.bias', 'cls.seq_relationship.bias']\n",
            "- This IS expected if you are initializing TFBertModel from a PyTorch model trained on another task or with another architecture (e.g. initializing a TFBertForSequenceClassification model from a BertForPreTraining model).\n",
            "- This IS NOT expected if you are initializing TFBertModel from a PyTorch model that you expect to be exactly identical (e.g. initializing a TFBertForSequenceClassification model from a BertForSequenceClassification model).\n",
            "All the weights of TFBertModel were initialized from the PyTorch model.\n",
            "If your task is similar to the task the model of the checkpoint was trained on, you can already use TFBertModel for predictions without further training.\n"
          ]
        }
      ],
      "source": [
        "# Para el primer modelo\n",
        "bert_model = TFBertModel.from_pretrained(\"bert-base-uncased\")\n",
        "\n",
        "# Para el segundo modelo usando dos capas fully connected\n",
        "bert_model_2 = TFBertModel.from_pretrained(\"bert-base-uncased\")"
      ]
    },
    {
      "cell_type": "code",
      "execution_count": 3,
      "metadata": {
        "execution": {
          "iopub.execute_input": "2024-10-15T22:30:23.036016Z",
          "iopub.status.busy": "2024-10-15T22:30:23.035609Z",
          "iopub.status.idle": "2024-10-15T22:30:23.041621Z",
          "shell.execute_reply": "2024-10-15T22:30:23.040175Z",
          "shell.execute_reply.started": "2024-10-15T22:30:23.035974Z"
        },
        "id": "tdb9--ZAWQbt",
        "trusted": true
      },
      "outputs": [],
      "source": [
        "max_length = 180\n",
        "output_shape = 3"
      ]
    },
    {
      "cell_type": "code",
      "execution_count": 4,
      "metadata": {
        "execution": {
          "iopub.execute_input": "2024-10-15T22:30:23.044896Z",
          "iopub.status.busy": "2024-10-15T22:30:23.043089Z",
          "iopub.status.idle": "2024-10-15T22:30:45.614499Z",
          "shell.execute_reply": "2024-10-15T22:30:45.613273Z",
          "shell.execute_reply.started": "2024-10-15T22:30:23.044843Z"
        },
        "id": "3_Rl8PlsWQbt",
        "trusted": true
      },
      "outputs": [],
      "source": [
        "bert_model.bert.trainable = False\n",
        "\n",
        "input_ids = tensorflow.keras.layers.Input(shape=(max_length,), dtype=tensorflow.int32, name='input_ids')\n",
        "attention_mask = tensorflow.keras.layers.Input(shape=(max_length,), dtype=tensorflow.int32, name='attention_mask')\n",
        "\n",
        "outputs = bert_model(input_ids, attention_mask=attention_mask)\n",
        "\n",
        "pooled_output = outputs.pooler_output\n",
        "\n",
        "x = tensorflow.keras.layers.Dropout(0.2)(pooled_output)\n",
        "output = tensorflow.keras.layers.Dense(output_shape, activation='softmax')(x)\n",
        "\n",
        "model = tensorflow.keras.Model(inputs=[input_ids, attention_mask], outputs=output)\n",
        "\n",
        "model.compile(optimizer='adam',\n",
        "              loss='categorical_crossentropy',\n",
        "              metrics=['accuracy',tensorflow.keras.metrics.F1Score(average='macro')])"
      ]
    },
    {
      "cell_type": "code",
      "execution_count": 5,
      "metadata": {
        "colab": {
          "base_uri": "https://localhost:8080/"
        },
        "execution": {
          "iopub.execute_input": "2024-10-15T22:30:45.617244Z",
          "iopub.status.busy": "2024-10-15T22:30:45.616255Z",
          "iopub.status.idle": "2024-10-15T22:30:45.682040Z",
          "shell.execute_reply": "2024-10-15T22:30:45.680593Z",
          "shell.execute_reply.started": "2024-10-15T22:30:45.617172Z"
        },
        "id": "E9-y0mkTWQbv",
        "outputId": "032faeff-770e-45d9-d52e-d1d5aff19263",
        "trusted": true
      },
      "outputs": [
        {
          "name": "stdout",
          "output_type": "stream",
          "text": [
            "Model: \"model\"\n",
            "__________________________________________________________________________________________________\n",
            " Layer (type)                Output Shape                 Param #   Connected to                  \n",
            "==================================================================================================\n",
            " input_ids (InputLayer)      [(None, 180)]                0         []                            \n",
            "                                                                                                  \n",
            " attention_mask (InputLayer  [(None, 180)]                0         []                            \n",
            " )                                                                                                \n",
            "                                                                                                  \n",
            " tf_bert_model (TFBertModel  TFBaseModelOutputWithPooli   1094822   ['input_ids[0][0]',           \n",
            " )                           ngAndCrossAttentions(last_   40         'attention_mask[0][0]']      \n",
            "                             hidden_state=(None, 180, 7                                           \n",
            "                             68),                                                                 \n",
            "                              pooler_output=(None, 768)                                           \n",
            "                             , past_key_values=None, hi                                           \n",
            "                             dden_states=None, attentio                                           \n",
            "                             ns=None, cross_attentions=                                           \n",
            "                             None)                                                                \n",
            "                                                                                                  \n",
            " dropout_37 (Dropout)        (None, 768)                  0         ['tf_bert_model[0][1]']       \n",
            "                                                                                                  \n",
            " dense (Dense)               (None, 3)                    2307      ['dropout_37[0][0]']          \n",
            "                                                                                                  \n",
            "==================================================================================================\n",
            "Total params: 109484547 (417.65 MB)\n",
            "Trainable params: 2307 (9.01 KB)\n",
            "Non-trainable params: 109482240 (417.64 MB)\n",
            "__________________________________________________________________________________________________\n"
          ]
        }
      ],
      "source": [
        "model.summary()"
      ]
    },
    {
      "cell_type": "code",
      "execution_count": 3,
      "metadata": {
        "execution": {
          "iopub.execute_input": "2024-10-15T22:30:45.683674Z",
          "iopub.status.busy": "2024-10-15T22:30:45.683273Z",
          "iopub.status.idle": "2024-10-15T22:30:45.692291Z",
          "shell.execute_reply": "2024-10-15T22:30:45.690881Z",
          "shell.execute_reply.started": "2024-10-15T22:30:45.683637Z"
        },
        "id": "cjQ7q6N7CL_J",
        "trusted": true
      },
      "outputs": [],
      "source": [
        "def plot_train_metrics(history):\n",
        "    epoch_count = range(1, len(history.history['accuracy']) + 1)\n",
        "    sns.lineplot(x=epoch_count,  y=history.history['accuracy'], label='train')\n",
        "    sns.lineplot(x=epoch_count,  y=history.history['val_accuracy'], label='valid')\n",
        "    plt.show()"
      ]
    },
    {
      "cell_type": "markdown",
      "metadata": {
        "id": "hU2-H3K1YzJ8"
      },
      "source": [
        "### Datos\n",
        "Utilizaremos como dataset críticas de Google Apps en formato csv."
      ]
    },
    {
      "cell_type": "code",
      "execution_count": 7,
      "metadata": {
        "colab": {
          "base_uri": "https://localhost:8080/"
        },
        "execution": {
          "iopub.execute_input": "2024-10-15T22:30:45.694517Z",
          "iopub.status.busy": "2024-10-15T22:30:45.693965Z",
          "iopub.status.idle": "2024-10-15T22:31:04.029756Z",
          "shell.execute_reply": "2024-10-15T22:31:04.028148Z",
          "shell.execute_reply.started": "2024-10-15T22:30:45.694461Z"
        },
        "id": "QBjUqdvpvLUG",
        "outputId": "1e40701a-9213-4c2c-90e5-6a938178f807",
        "trusted": true
      },
      "outputs": [],
      "source": [
        "# # Descargar la carpeta de dataset - DESCOMENTAR si no están descargados los archivos\n",
        "# !curl -L -o 'apps.csv' 'https://drive.google.com/u/0/uc?id=1S6qMioqPJjyBLpLVz4gmRTnJHnjitnuV&export=download&confirm=t'\n",
        "# !curl -L -o 'reviews.csv' 'https://drive.google.com/u/0/uc?id=1zdmewp7ayS4js4VtrJEHzAheSW-5NBZv&export=download&confirm=t'"
      ]
    },
    {
      "cell_type": "code",
      "execution_count": 5,
      "metadata": {
        "colab": {
          "base_uri": "https://localhost:8080/",
          "height": 452
        },
        "execution": {
          "iopub.execute_input": "2024-10-15T22:34:25.022042Z",
          "iopub.status.busy": "2024-10-15T22:34:25.021610Z",
          "iopub.status.idle": "2024-10-15T22:34:25.188875Z",
          "shell.execute_reply": "2024-10-15T22:34:25.187512Z",
          "shell.execute_reply.started": "2024-10-15T22:34:25.022000Z"
        },
        "id": "KPlBX0wV8gv9",
        "outputId": "c0383945-5414-43ca-b6c6-d14dc5000b42",
        "trusted": true
      },
      "outputs": [
        {
          "data": {
            "text/html": [
              "<div>\n",
              "<style scoped>\n",
              "    .dataframe tbody tr th:only-of-type {\n",
              "        vertical-align: middle;\n",
              "    }\n",
              "\n",
              "    .dataframe tbody tr th {\n",
              "        vertical-align: top;\n",
              "    }\n",
              "\n",
              "    .dataframe thead th {\n",
              "        text-align: right;\n",
              "    }\n",
              "</style>\n",
              "<table border=\"1\" class=\"dataframe\">\n",
              "  <thead>\n",
              "    <tr style=\"text-align: right;\">\n",
              "      <th></th>\n",
              "      <th>userName</th>\n",
              "      <th>userImage</th>\n",
              "      <th>content</th>\n",
              "      <th>score</th>\n",
              "      <th>thumbsUpCount</th>\n",
              "      <th>reviewCreatedVersion</th>\n",
              "      <th>at</th>\n",
              "      <th>replyContent</th>\n",
              "      <th>repliedAt</th>\n",
              "      <th>sortOrder</th>\n",
              "      <th>appId</th>\n",
              "    </tr>\n",
              "  </thead>\n",
              "  <tbody>\n",
              "    <tr>\n",
              "      <th>13475</th>\n",
              "      <td>chi mak</td>\n",
              "      <td>https://lh3.googleusercontent.com/a-/AOh14GgHt...</td>\n",
              "      <td>Do not download this app. There are Ads everyt...</td>\n",
              "      <td>1</td>\n",
              "      <td>0</td>\n",
              "      <td>NaN</td>\n",
              "      <td>2020-02-27 14:25:28</td>\n",
              "      <td>Hi, we avoided this solution for as long as it...</td>\n",
              "      <td>2020-02-28 09:27:12</td>\n",
              "      <td>newest</td>\n",
              "      <td>com.appgenix.bizcal</td>\n",
              "    </tr>\n",
              "    <tr>\n",
              "      <th>2085</th>\n",
              "      <td>Susan Petrie</td>\n",
              "      <td>https://lh3.googleusercontent.com/-7Q2cI4hvC6A...</td>\n",
              "      <td>Only began using it but seems intuitive to use...</td>\n",
              "      <td>4</td>\n",
              "      <td>0</td>\n",
              "      <td>15.0.3</td>\n",
              "      <td>2019-11-25 11:56:58</td>\n",
              "      <td>NaN</td>\n",
              "      <td>NaN</td>\n",
              "      <td>most_relevant</td>\n",
              "      <td>com.todoist</td>\n",
              "    </tr>\n",
              "    <tr>\n",
              "      <th>6803</th>\n",
              "      <td>Rod Goree</td>\n",
              "      <td>https://lh3.googleusercontent.com/a-/AOh14Gi_K...</td>\n",
              "      <td>Liked the setup so much that I quickly became ...</td>\n",
              "      <td>4</td>\n",
              "      <td>10</td>\n",
              "      <td>1.5.11</td>\n",
              "      <td>2020-02-18 17:33:24</td>\n",
              "      <td>NaN</td>\n",
              "      <td>NaN</td>\n",
              "      <td>most_relevant</td>\n",
              "      <td>com.oristats.habitbull</td>\n",
              "    </tr>\n",
              "    <tr>\n",
              "      <th>3713</th>\n",
              "      <td>Ian McClaskey</td>\n",
              "      <td>https://lh3.googleusercontent.com/a-/AOh14Gict...</td>\n",
              "      <td>This app is completely unusable on my Note10+ ...</td>\n",
              "      <td>1</td>\n",
              "      <td>0</td>\n",
              "      <td>NaN</td>\n",
              "      <td>2020-02-24 21:02:27</td>\n",
              "      <td>Hi Ian, sorry about that, the issue with the c...</td>\n",
              "      <td>2020-02-27 23:54:19</td>\n",
              "      <td>newest</td>\n",
              "      <td>com.habitrpg.android.habitica</td>\n",
              "    </tr>\n",
              "    <tr>\n",
              "      <th>11760</th>\n",
              "      <td>GIRISH. K GIRI</td>\n",
              "      <td>https://lh3.googleusercontent.com/a-/AOh14Ghh7...</td>\n",
              "      <td>Nice app</td>\n",
              "      <td>4</td>\n",
              "      <td>0</td>\n",
              "      <td>2.6.5</td>\n",
              "      <td>2019-09-10 18:54:37</td>\n",
              "      <td>NaN</td>\n",
              "      <td>NaN</td>\n",
              "      <td>newest</td>\n",
              "      <td>com.gmail.jmartindev.timetune</td>\n",
              "    </tr>\n",
              "  </tbody>\n",
              "</table>\n",
              "</div>"
            ],
            "text/plain": [
              "             userName                                          userImage  \\\n",
              "13475         chi mak  https://lh3.googleusercontent.com/a-/AOh14GgHt...   \n",
              "2085     Susan Petrie  https://lh3.googleusercontent.com/-7Q2cI4hvC6A...   \n",
              "6803        Rod Goree  https://lh3.googleusercontent.com/a-/AOh14Gi_K...   \n",
              "3713    Ian McClaskey  https://lh3.googleusercontent.com/a-/AOh14Gict...   \n",
              "11760  GIRISH. K GIRI  https://lh3.googleusercontent.com/a-/AOh14Ghh7...   \n",
              "\n",
              "                                                 content  score  \\\n",
              "13475  Do not download this app. There are Ads everyt...      1   \n",
              "2085   Only began using it but seems intuitive to use...      4   \n",
              "6803   Liked the setup so much that I quickly became ...      4   \n",
              "3713   This app is completely unusable on my Note10+ ...      1   \n",
              "11760                                           Nice app      4   \n",
              "\n",
              "       thumbsUpCount reviewCreatedVersion                   at  \\\n",
              "13475              0                  NaN  2020-02-27 14:25:28   \n",
              "2085               0               15.0.3  2019-11-25 11:56:58   \n",
              "6803              10               1.5.11  2020-02-18 17:33:24   \n",
              "3713               0                  NaN  2020-02-24 21:02:27   \n",
              "11760              0                2.6.5  2019-09-10 18:54:37   \n",
              "\n",
              "                                            replyContent            repliedAt  \\\n",
              "13475  Hi, we avoided this solution for as long as it...  2020-02-28 09:27:12   \n",
              "2085                                                 NaN                  NaN   \n",
              "6803                                                 NaN                  NaN   \n",
              "3713   Hi Ian, sorry about that, the issue with the c...  2020-02-27 23:54:19   \n",
              "11760                                                NaN                  NaN   \n",
              "\n",
              "           sortOrder                          appId  \n",
              "13475         newest            com.appgenix.bizcal  \n",
              "2085   most_relevant                    com.todoist  \n",
              "6803   most_relevant         com.oristats.habitbull  \n",
              "3713          newest  com.habitrpg.android.habitica  \n",
              "11760         newest  com.gmail.jmartindev.timetune  "
            ]
          },
          "execution_count": 5,
          "metadata": {},
          "output_type": "execute_result"
        }
      ],
      "source": [
        "import pandas as pd\n",
        "# Armar el dataset\n",
        "df = pd.read_csv('reviews.csv')\n",
        "df.sample(5)"
      ]
    },
    {
      "cell_type": "code",
      "execution_count": 6,
      "metadata": {
        "colab": {
          "base_uri": "https://localhost:8080/"
        },
        "execution": {
          "iopub.execute_input": "2024-10-15T22:33:31.460653Z",
          "iopub.status.busy": "2024-10-15T22:33:31.460221Z",
          "iopub.status.idle": "2024-10-15T22:33:31.467179Z",
          "shell.execute_reply": "2024-10-15T22:33:31.465833Z",
          "shell.execute_reply.started": "2024-10-15T22:33:31.460611Z"
        },
        "id": "loFa9OgIROfi",
        "outputId": "fffcd8e5-bcfc-430b-f004-e8f849a42867",
        "trusted": true
      },
      "outputs": [
        {
          "name": "stdout",
          "output_type": "stream",
          "text": [
            "Cantidad de críticas: 15746\n"
          ]
        }
      ],
      "source": [
        "print(\"Cantidad de críticas:\", len(df))"
      ]
    },
    {
      "cell_type": "code",
      "execution_count": 7,
      "metadata": {
        "colab": {
          "base_uri": "https://localhost:8080/",
          "height": 553
        },
        "execution": {
          "iopub.execute_input": "2024-10-15T22:33:31.469503Z",
          "iopub.status.busy": "2024-10-15T22:33:31.468989Z",
          "iopub.status.idle": "2024-10-15T22:33:31.742789Z",
          "shell.execute_reply": "2024-10-15T22:33:31.741011Z",
          "shell.execute_reply.started": "2024-10-15T22:33:31.469446Z"
        },
        "id": "fpwgmwN4W549",
        "outputId": "ea9a6f7e-eaca-45e7-9d55-484d4244226e",
        "trusted": true
      },
      "outputs": [
        {
          "name": "stderr",
          "output_type": "stream",
          "text": [
            "/tmp/ipykernel_2991223/1617978975.py:2: FutureWarning: \n",
            "\n",
            "Passing `palette` without assigning `hue` is deprecated and will be removed in v0.14.0. Assign the `x` variable to `hue` and set `legend=False` for the same effect.\n",
            "\n",
            "  sns.countplot(x=df.score,palette='Set2')\n"
          ]
        },
        {
          "data": {
            "text/plain": [
              "<Axes: xlabel='score', ylabel='count'>"
            ]
          },
          "execution_count": 7,
          "metadata": {},
          "output_type": "execute_result"
        },
        {
          "data": {
            "image/png": "[encoded data removed]",
            "text/plain": [
              "<Figure size 640x480 with 1 Axes>"
            ]
          },
          "metadata": {},
          "output_type": "display_data"
        }
      ],
      "source": [
        "# ¿Cómo están balanceados los datos?\n",
        "sns.countplot(x=df.score,palette='Set2')"
      ]
    },
    {
      "cell_type": "markdown",
      "metadata": {
        "id": "BCO209z59D7C"
      },
      "source": [
        "## Limpieza de datos"
      ]
    },
    {
      "cell_type": "code",
      "execution_count": 9,
      "metadata": {
        "colab": {
          "base_uri": "https://localhost:8080/",
          "height": 556
        },
        "execution": {
          "iopub.execute_input": "2024-10-15T22:34:59.525746Z",
          "iopub.status.busy": "2024-10-15T22:34:59.525267Z",
          "iopub.status.idle": "2024-10-15T22:34:59.540801Z",
          "shell.execute_reply": "2024-10-15T22:34:59.539165Z",
          "shell.execute_reply.started": "2024-10-15T22:34:59.525694Z"
        },
        "id": "dE572tLfXKCX",
        "outputId": "0aa5d99d-20c6-4e7b-fb8d-f3a6a8c368d7",
        "trusted": true
      },
      "outputs": [
        {
          "data": {
            "text/html": [
              "<div>\n",
              "<style scoped>\n",
              "    .dataframe tbody tr th:only-of-type {\n",
              "        vertical-align: middle;\n",
              "    }\n",
              "\n",
              "    .dataframe tbody tr th {\n",
              "        vertical-align: top;\n",
              "    }\n",
              "\n",
              "    .dataframe thead th {\n",
              "        text-align: right;\n",
              "    }\n",
              "</style>\n",
              "<table border=\"1\" class=\"dataframe\">\n",
              "  <thead>\n",
              "    <tr style=\"text-align: right;\">\n",
              "      <th></th>\n",
              "      <th>userName</th>\n",
              "      <th>userImage</th>\n",
              "      <th>content</th>\n",
              "      <th>score</th>\n",
              "      <th>thumbsUpCount</th>\n",
              "      <th>reviewCreatedVersion</th>\n",
              "      <th>at</th>\n",
              "      <th>replyContent</th>\n",
              "      <th>repliedAt</th>\n",
              "      <th>sortOrder</th>\n",
              "      <th>appId</th>\n",
              "      <th>sentiment</th>\n",
              "    </tr>\n",
              "  </thead>\n",
              "  <tbody>\n",
              "    <tr>\n",
              "      <th>11400</th>\n",
              "      <td>Avis Ejerenwa</td>\n",
              "      <td>https://lh3.googleusercontent.com/a-/AOh14GgWy...</td>\n",
              "      <td>This is a very cool app, and thus have the rat...</td>\n",
              "      <td>3</td>\n",
              "      <td>0</td>\n",
              "      <td>2.7.1</td>\n",
              "      <td>2020-02-03 16:55:04</td>\n",
              "      <td>Hi, please contact us at timetuneapp@gmail.com...</td>\n",
              "      <td>2020-02-03 19:25:44</td>\n",
              "      <td>newest</td>\n",
              "      <td>com.gmail.jmartindev.timetune</td>\n",
              "      <td>1</td>\n",
              "    </tr>\n",
              "    <tr>\n",
              "      <th>12788</th>\n",
              "      <td>Connie Mascelli</td>\n",
              "      <td>https://lh3.googleusercontent.com/-t12_w2PhwNk...</td>\n",
              "      <td>easy to use</td>\n",
              "      <td>3</td>\n",
              "      <td>0</td>\n",
              "      <td>2.0.0</td>\n",
              "      <td>2019-12-16 12:58:26</td>\n",
              "      <td>Hi Connie, really glad you're finding my app u...</td>\n",
              "      <td>2019-12-16 13:44:23</td>\n",
              "      <td>newest</td>\n",
              "      <td>com.tasks.android</td>\n",
              "      <td>1</td>\n",
              "    </tr>\n",
              "    <tr>\n",
              "      <th>8456</th>\n",
              "      <td>Lu La</td>\n",
              "      <td>https://lh3.googleusercontent.com/a-/AOh14Ghc2...</td>\n",
              "      <td>My prior app isnt any more and they automatica...</td>\n",
              "      <td>1</td>\n",
              "      <td>2</td>\n",
              "      <td>2.10.147</td>\n",
              "      <td>2020-03-11 07:25:35</td>\n",
              "      <td>NaN</td>\n",
              "      <td>NaN</td>\n",
              "      <td>most_relevant</td>\n",
              "      <td>com.microsoft.todos</td>\n",
              "      <td>0</td>\n",
              "    </tr>\n",
              "    <tr>\n",
              "      <th>7329</th>\n",
              "      <td>Tuukka Rinkinen</td>\n",
              "      <td>https://lh3.googleusercontent.com/a-/AOh14GhRZ...</td>\n",
              "      <td>Ok concept, but just takes way too much effort...</td>\n",
              "      <td>2</td>\n",
              "      <td>0</td>\n",
              "      <td>2.12.0</td>\n",
              "      <td>2020-03-27 21:09:27</td>\n",
              "      <td>Thanks for the feedback.\\nI'll try to make app...</td>\n",
              "      <td>2020-03-30 17:39:10</td>\n",
              "      <td>newest</td>\n",
              "      <td>com.levor.liferpgtasks</td>\n",
              "      <td>0</td>\n",
              "    </tr>\n",
              "    <tr>\n",
              "      <th>15206</th>\n",
              "      <td>A Google user</td>\n",
              "      <td>https://lh3.googleusercontent.com/EGemoI2NTXmT...</td>\n",
              "      <td>helpful but not too much</td>\n",
              "      <td>3</td>\n",
              "      <td>0</td>\n",
              "      <td>NaN</td>\n",
              "      <td>2017-05-22 07:04:00</td>\n",
              "      <td>NaN</td>\n",
              "      <td>NaN</td>\n",
              "      <td>newest</td>\n",
              "      <td>com.appxy.planner</td>\n",
              "      <td>1</td>\n",
              "    </tr>\n",
              "  </tbody>\n",
              "</table>\n",
              "</div>"
            ],
            "text/plain": [
              "              userName                                          userImage  \\\n",
              "11400    Avis Ejerenwa  https://lh3.googleusercontent.com/a-/AOh14GgWy...   \n",
              "12788  Connie Mascelli  https://lh3.googleusercontent.com/-t12_w2PhwNk...   \n",
              "8456             Lu La  https://lh3.googleusercontent.com/a-/AOh14Ghc2...   \n",
              "7329   Tuukka Rinkinen  https://lh3.googleusercontent.com/a-/AOh14GhRZ...   \n",
              "15206    A Google user  https://lh3.googleusercontent.com/EGemoI2NTXmT...   \n",
              "\n",
              "                                                 content  score  \\\n",
              "11400  This is a very cool app, and thus have the rat...      3   \n",
              "12788                                        easy to use      3   \n",
              "8456   My prior app isnt any more and they automatica...      1   \n",
              "7329   Ok concept, but just takes way too much effort...      2   \n",
              "15206                           helpful but not too much      3   \n",
              "\n",
              "       thumbsUpCount reviewCreatedVersion                   at  \\\n",
              "11400              0                2.7.1  2020-02-03 16:55:04   \n",
              "12788              0                2.0.0  2019-12-16 12:58:26   \n",
              "8456               2             2.10.147  2020-03-11 07:25:35   \n",
              "7329               0               2.12.0  2020-03-27 21:09:27   \n",
              "15206              0                  NaN  2017-05-22 07:04:00   \n",
              "\n",
              "                                            replyContent            repliedAt  \\\n",
              "11400  Hi, please contact us at timetuneapp@gmail.com...  2020-02-03 19:25:44   \n",
              "12788  Hi Connie, really glad you're finding my app u...  2019-12-16 13:44:23   \n",
              "8456                                                 NaN                  NaN   \n",
              "7329   Thanks for the feedback.\\nI'll try to make app...  2020-03-30 17:39:10   \n",
              "15206                                                NaN                  NaN   \n",
              "\n",
              "           sortOrder                          appId  sentiment  \n",
              "11400         newest  com.gmail.jmartindev.timetune          1  \n",
              "12788         newest              com.tasks.android          1  \n",
              "8456   most_relevant            com.microsoft.todos          0  \n",
              "7329          newest         com.levor.liferpgtasks          0  \n",
              "15206         newest              com.appxy.planner          1  "
            ]
          },
          "execution_count": 9,
          "metadata": {},
          "output_type": "execute_result"
        }
      ],
      "source": [
        "# Balancear los datos\n",
        "df['sentiment'] = df.score.apply(lambda x: 0 if x <=2 else 1 if x == 3 else 2)\n",
        "class_names = ['negative', 'neutral', 'positive']\n",
        "df.sample(5)"
      ]
    },
    {
      "cell_type": "code",
      "execution_count": 10,
      "metadata": {
        "colab": {
          "base_uri": "https://localhost:8080/",
          "height": 571
        },
        "execution": {
          "iopub.execute_input": "2024-10-15T22:35:16.111266Z",
          "iopub.status.busy": "2024-10-15T22:35:16.110803Z",
          "iopub.status.idle": "2024-10-15T22:35:16.426373Z",
          "shell.execute_reply": "2024-10-15T22:35:16.424675Z",
          "shell.execute_reply.started": "2024-10-15T22:35:16.111226Z"
        },
        "id": "gpz0sNGnXahV",
        "outputId": "6df3dff7-8cb4-4594-c773-55b7e4b615c7",
        "trusted": true
      },
      "outputs": [
        {
          "name": "stderr",
          "output_type": "stream",
          "text": [
            "/tmp/ipykernel_2991223/1249906356.py:1: FutureWarning: \n",
            "\n",
            "Passing `palette` without assigning `hue` is deprecated and will be removed in v0.14.0. Assign the `x` variable to `hue` and set `legend=False` for the same effect.\n",
            "\n",
            "  ax = sns.countplot(x=df.sentiment,palette='Set2')\n",
            "/tmp/ipykernel_2991223/1249906356.py:3: UserWarning: set_ticklabels() should only be used with a fixed number of ticks, i.e. after set_ticks() or using a FixedLocator.\n",
            "  ax.set_xticklabels(class_names)\n"
          ]
        },
        {
          "data": {
            "text/plain": [
              "[Text(0, 0, 'negative'), Text(1, 0, 'neutral'), Text(2, 0, 'positive')]"
            ]
          },
          "execution_count": 10,
          "metadata": {},
          "output_type": "execute_result"
        },
        {
          "data": {
            "image/png": "[encoded data removed]",
            "text/plain": [
              "<Figure size 640x480 with 1 Axes>"
            ]
          },
          "metadata": {},
          "output_type": "display_data"
        }
      ],
      "source": [
        "ax = sns.countplot(x=df.sentiment,palette='Set2')\n",
        "plt.xlabel('review sentiment')\n",
        "ax.set_xticklabels(class_names)"
      ]
    },
    {
      "cell_type": "code",
      "execution_count": 11,
      "metadata": {
        "colab": {
          "base_uri": "https://localhost:8080/"
        },
        "execution": {
          "iopub.execute_input": "2024-10-15T22:35:58.410961Z",
          "iopub.status.busy": "2024-10-15T22:35:58.410523Z",
          "iopub.status.idle": "2024-10-15T22:35:58.419745Z",
          "shell.execute_reply": "2024-10-15T22:35:58.418405Z",
          "shell.execute_reply.started": "2024-10-15T22:35:58.410920Z"
        },
        "id": "KaRGx3pW9fyx",
        "outputId": "43f9113d-3c7f-459d-d2c2-8a4ae5bb12b5",
        "trusted": true
      },
      "outputs": [
        {
          "name": "stdout",
          "output_type": "stream",
          "text": [
            "sentences shape: (15746,)\n"
          ]
        },
        {
          "data": {
            "text/plain": [
              "array([\"Update: After getting a response from the developer I would change my rating to 0 stars if possible. These guys hide behind confusing and opaque terms and refuse to budge at all. I'm so annoyed that my money has been lost to them! Really terrible customer experience. Original: Be very careful when signing up for a free trial of this app. If you happen to go over they automatically charge you for a full years subscription and refuse to refund. Terrible customer experience and the app is just OK.\",\n",
              "       'Used it for a fair amount of time without any problems. Suddenly then asked me to create an account or log using Google or FB. I used my Google one only to discover everything was gone!',\n",
              "       \"Your app sucks now!!!!! Used to be good but now doesn't update until I physically open it up and then close it then scroll and then it finally shows what I want to put on the list!!!!!! And I FRIGGEN paid for this garbage!!!!!!!\"],\n",
              "      dtype=object)"
            ]
          },
          "execution_count": 11,
          "metadata": {},
          "output_type": "execute_result"
        }
      ],
      "source": [
        "sentences = df['content'].values\n",
        "print(\"sentences shape:\", sentences.shape)\n",
        "sentences[:3]"
      ]
    },
    {
      "cell_type": "code",
      "execution_count": 12,
      "metadata": {
        "colab": {
          "base_uri": "https://localhost:8080/",
          "height": 541
        },
        "execution": {
          "iopub.execute_input": "2024-10-15T22:36:00.094705Z",
          "iopub.status.busy": "2024-10-15T22:36:00.093258Z",
          "iopub.status.idle": "2024-10-15T22:36:00.856666Z",
          "shell.execute_reply": "2024-10-15T22:36:00.854656Z",
          "shell.execute_reply.started": "2024-10-15T22:36:00.094642Z"
        },
        "id": "PXdyAh6NYpSx",
        "outputId": "4810a8be-3a33-47a4-f937-7dc1e3e8961d",
        "trusted": true
      },
      "outputs": [
        {
          "name": "stdout",
          "output_type": "stream",
          "text": [
            "Median: 139.0\n"
          ]
        },
        {
          "data": {
            "text/plain": [
              "<seaborn.axisgrid.FacetGrid at 0x7fe87076a060>"
            ]
          },
          "execution_count": 12,
          "metadata": {},
          "output_type": "execute_result"
        },
        {
          "data": {
            "image/png": "[encoded data removed]",
            "text/plain": [
              "<Figure size 500x500 with 1 Axes>"
            ]
          },
          "metadata": {},
          "output_type": "display_data"
        }
      ],
      "source": [
        "sentence_lens = []\n",
        "\n",
        "for sentence in sentences:\n",
        "  sentence_lens.append(len(sentence))\n",
        "\n",
        "print(\"Median:\", np.median(sentence_lens))\n",
        "sns.displot(sentence_lens)"
      ]
    },
    {
      "cell_type": "code",
      "execution_count": 13,
      "metadata": {
        "execution": {
          "iopub.execute_input": "2024-10-15T22:36:05.974547Z",
          "iopub.status.busy": "2024-10-15T22:36:05.973873Z",
          "iopub.status.idle": "2024-10-15T22:36:06.079804Z",
          "shell.execute_reply": "2024-10-15T22:36:06.078230Z",
          "shell.execute_reply.started": "2024-10-15T22:36:05.974402Z"
        },
        "id": "wAgW57dCWQb3",
        "trusted": true
      },
      "outputs": [],
      "source": [
        "from tensorflow.keras.utils import to_categorical"
      ]
    },
    {
      "cell_type": "code",
      "execution_count": 14,
      "metadata": {
        "colab": {
          "base_uri": "https://localhost:8080/"
        },
        "execution": {
          "iopub.execute_input": "2024-10-15T22:36:07.315990Z",
          "iopub.status.busy": "2024-10-15T22:36:07.315513Z",
          "iopub.status.idle": "2024-10-15T22:36:07.326719Z",
          "shell.execute_reply": "2024-10-15T22:36:07.325193Z",
          "shell.execute_reply.started": "2024-10-15T22:36:07.315938Z"
        },
        "id": "c26zJ7qUAV4F",
        "outputId": "fca558dc-9e75-4f3c-e488-a08002404a81",
        "trusted": true
      },
      "outputs": [
        {
          "name": "stdout",
          "output_type": "stream",
          "text": [
            "y shape: (15746,)\n",
            "[[1. 0. 0.]\n",
            " [1. 0. 0.]\n",
            " [1. 0. 0.]]\n",
            "output shape: 3\n"
          ]
        }
      ],
      "source": [
        "y = df['sentiment'].values\n",
        "print(\"y shape:\", y.shape)\n",
        "y = to_categorical(y)\n",
        "print(y[:3])\n",
        "output_shape = y.shape[1]\n",
        "print(\"output shape:\", output_shape)"
      ]
    },
    {
      "cell_type": "markdown",
      "metadata": {
        "id": "qvoZ8YlK0vOQ"
      },
      "source": [
        "## 1 - Data generator\n"
      ]
    },
    {
      "cell_type": "code",
      "execution_count": 15,
      "metadata": {
        "execution": {
          "iopub.execute_input": "2024-10-15T22:36:09.157902Z",
          "iopub.status.busy": "2024-10-15T22:36:09.157343Z",
          "iopub.status.idle": "2024-10-15T22:36:09.164458Z",
          "shell.execute_reply": "2024-10-15T22:36:09.162860Z",
          "shell.execute_reply.started": "2024-10-15T22:36:09.157852Z"
        },
        "id": "o683seLSWQb3",
        "trusted": true
      },
      "outputs": [],
      "source": [
        "from transformers import InputExample, InputFeatures  # Métodos para transformar el dataset\n",
        "from transformers import BertTokenizer\n",
        "import numpy as np"
      ]
    },
    {
      "cell_type": "code",
      "execution_count": 16,
      "metadata": {
        "colab": {
          "base_uri": "https://localhost:8080/",
          "height": 168,
          "referenced_widgets": [
            "f0ff135cdb00416e92736bc3101795b7",
            "9315a4ea5007451ca6495e2015e504ac",
            "e692ba9ab81f43b7a7e33b8f24973361",
            "586cd56cd68b41f893c4bbcdb6cb5da5",
            "31d6dd11e1b14fba9974dab1e5d7996d",
            "fae7935a75c142e4b7b8ecf5421e7703",
            "743d44e2c85042759dbbedce7fce3c7f",
            "4832cb08090448af921036d70c3ade3b",
            "d2f01f8458844a78a41bf6e95892d6e3",
            "f23d80f61b254d1690643f89b11acdd4",
            "5c88b950763e418fb4f023eefa4b31d2",
            "24a10bb49fdb40ea8ae52d2f2d2fe1bf",
            "ae6f56871dbb43c88cdd2478d7a9b49f",
            "61ef1ef9eb7a440ba7122089174fdf2d",
            "5df28f85d21d4977b85eeaaf9b3580d2",
            "b4e519deb7744ac2a688bff0b34b389f",
            "82601c7efe274d50bd815f4e8106fcc4",
            "0ddbe0d1d1e14190a562fbfbed1d55c5",
            "0a861b919a1b4516a915b7f3b098abf9",
            "f4ff20e430e149099ff70b10458579a8",
            "4f939b13a9d14c8c8503d1d3c45bd1ac",
            "41f1868322f34c69b806da3c1aeb699d",
            "dfa58076c2294e8ea4a27471704ff007",
            "3b697af730894e299ea05a2fec81ea55",
            "d0e23c3d815148c1b68e2125148eaed5",
            "70b234318fca425ab4f8dfa8784834de",
            "3646eae10cd74f8bad15bb3ce6596409",
            "6feac9ee1a5344ba952ed60a22120473",
            "eb5182bf944f4b6f9c68a83b7f696017",
            "2ffc184a3cff429a8e2e62296319b540",
            "37464a41c44d4d288b6d1129a456b8ed",
            "5dbadb7241d94ad69148df4601b0c5ec",
            "2a4ab17e711d4b2997a2c9be3aa35930"
          ]
        },
        "execution": {
          "iopub.execute_input": "2024-10-15T22:36:10.723703Z",
          "iopub.status.busy": "2024-10-15T22:36:10.723258Z",
          "iopub.status.idle": "2024-10-15T22:36:11.364078Z",
          "shell.execute_reply": "2024-10-15T22:36:11.362674Z",
          "shell.execute_reply.started": "2024-10-15T22:36:10.723665Z"
        },
        "id": "aB7DG8XqWQb4",
        "outputId": "562171e9-9fac-4179-d16c-ecda5885d0fc",
        "trusted": true
      },
      "outputs": [],
      "source": [
        "# Muy importante que para tensorflow los modelos Bert deben empezar con \"TF\"\n",
        "# de lo contrario estaremos utilizando un modelo para pytorch\n",
        "\n",
        "# Descargamos el modelo base de BERT más liviano y su correspondiente tokenizer\n",
        "bert_tokenizer = BertTokenizer.from_pretrained(\"bert-base-uncased\")"
      ]
    },
    {
      "cell_type": "code",
      "execution_count": 17,
      "metadata": {
        "execution": {
          "iopub.execute_input": "2024-10-15T22:36:12.899472Z",
          "iopub.status.busy": "2024-10-15T22:36:12.899009Z",
          "iopub.status.idle": "2024-10-15T22:36:12.928176Z",
          "shell.execute_reply": "2024-10-15T22:36:12.926856Z",
          "shell.execute_reply.started": "2024-10-15T22:36:12.899429Z"
        },
        "id": "rYnD8msegnSI",
        "trusted": true
      },
      "outputs": [],
      "source": [
        "# Del dataset original accederemos a los datos por índices (idx)\n",
        "# mezclados aleatoriamente\n",
        "from sklearn.model_selection import train_test_split\n",
        "indices = np.arange(len(sentences))\n",
        "idx_train_val, idx_test = train_test_split(indices, test_size=0.2, random_state=42)\n",
        "idx_train, idx_val = train_test_split(idx_train_val, test_size=0.2, random_state=42)"
      ]
    },
    {
      "cell_type": "code",
      "execution_count": 18,
      "metadata": {
        "colab": {
          "base_uri": "https://localhost:8080/"
        },
        "execution": {
          "iopub.execute_input": "2024-10-15T22:36:16.012747Z",
          "iopub.status.busy": "2024-10-15T22:36:16.012266Z",
          "iopub.status.idle": "2024-10-15T22:36:16.020063Z",
          "shell.execute_reply": "2024-10-15T22:36:16.018643Z",
          "shell.execute_reply.started": "2024-10-15T22:36:16.012705Z"
        },
        "id": "5Hm0jGD-j32e",
        "outputId": "43f0384e-9a73-40b7-e73d-b5452278a50e",
        "trusted": true
      },
      "outputs": [
        {
          "name": "stdout",
          "output_type": "stream",
          "text": [
            "10076 2520 3150\n"
          ]
        }
      ],
      "source": [
        "print(idx_train.shape[0], idx_val.shape[0], idx_test.shape[0])"
      ]
    },
    {
      "cell_type": "code",
      "execution_count": 19,
      "metadata": {
        "execution": {
          "iopub.execute_input": "2024-10-15T22:36:17.468054Z",
          "iopub.status.busy": "2024-10-15T22:36:17.467588Z",
          "iopub.status.idle": "2024-10-15T22:36:17.483049Z",
          "shell.execute_reply": "2024-10-15T22:36:17.481445Z",
          "shell.execute_reply.started": "2024-10-15T22:36:17.468002Z"
        },
        "id": "MMfyhfKqfs6G",
        "trusted": true
      },
      "outputs": [],
      "source": [
        "\n",
        "def convert_data_to_examples(text, labels, idx_train, idx_val):\n",
        "    # Armamos un \"InputExample\" para los datos de entrenamiento y validación\n",
        "    train_InputExamples = [InputExample(guid=None, # Globally unique ID for bookkeeping, unused in this case\n",
        "                                                          text_a = text[i],\n",
        "                                                          text_b = None,\n",
        "                                                          label = labels[i]) for i in idx_train]\n",
        "\n",
        "    validation_InputExamples = [InputExample(guid=None, # Globally unique ID for bookkeeping, unused in this case\n",
        "                                                          text_a = text[i],\n",
        "                                                          text_b = None,\n",
        "                                                          label = labels[i]) for i in idx_val]\n",
        "\n",
        "    return train_InputExamples, validation_InputExamples\n",
        "\n",
        "\n",
        "def convert_examples_to_tf_dataset(examples, bert_tokenizer, max_length=512):\n",
        "    # Transformamos los datos de entrada en tensorres de:\n",
        "    # input_ids --> token id\n",
        "    # attention_mask\n",
        "    # token type\n",
        "    features = []\n",
        "\n",
        "    for e in examples:\n",
        "        # Documentation is really strong for this method, so please take a look at it\n",
        "        input_dict = bert_tokenizer.encode_plus(\n",
        "            e.text_a,\n",
        "            add_special_tokens=True,\n",
        "            max_length=max_length, # truncates if len(s) > max_length\n",
        "            return_token_type_ids=False,\n",
        "            return_attention_mask=True,\n",
        "            padding='max_length', # pads to the right by default # CHECK THIS for pad_to_max_length\n",
        "            truncation=True\n",
        "        )\n",
        "\n",
        "        input_ids, attention_mask = (input_dict[\"input_ids\"], input_dict['attention_mask'])\n",
        "\n",
        "        features.append(\n",
        "            InputFeatures(\n",
        "                input_ids=input_ids, attention_mask=attention_mask, label=e.label\n",
        "            )\n",
        "        )\n",
        "\n",
        "    def gen():\n",
        "    # Función generadora para no levantar todos los datos en un instante\n",
        "        for f in features:\n",
        "            yield (\n",
        "                {\n",
        "                    \"input_ids\": f.input_ids,\n",
        "                    \"attention_mask\": f.attention_mask,\n",
        "                },\n",
        "                f.label,\n",
        "            )\n",
        "\n",
        "    return tensorflow.data.Dataset.from_generator(\n",
        "        # Tensorflow dataset generator (basado en el generador y en el esquema de datos definido)\n",
        "        gen,\n",
        "        ({\"input_ids\": tensorflow.int32, \"attention_mask\": tensorflow.int32}, tensorflow.float32),\n",
        "        (\n",
        "            {\n",
        "                \"input_ids\": tensorflow.TensorShape([None]),\n",
        "                \"attention_mask\": tensorflow.TensorShape([None]),\n",
        "            },\n",
        "            tensorflow.TensorShape([output_shape]),\n",
        "        ),\n",
        "    )"
      ]
    },
    {
      "cell_type": "code",
      "execution_count": 20,
      "metadata": {
        "execution": {
          "iopub.execute_input": "2024-10-15T22:36:19.654362Z",
          "iopub.status.busy": "2024-10-15T22:36:19.653694Z",
          "iopub.status.idle": "2024-10-15T22:36:32.855785Z",
          "shell.execute_reply": "2024-10-15T22:36:32.854106Z",
          "shell.execute_reply.started": "2024-10-15T22:36:19.654287Z"
        },
        "id": "VXrlV-xPiebq",
        "trusted": true
      },
      "outputs": [],
      "source": [
        "train_InputExamples, validation_InputExamples = convert_data_to_examples(sentences, y, idx_train, idx_val)\n",
        "\n",
        "train_data = convert_examples_to_tf_dataset(list(train_InputExamples), bert_tokenizer, max_length=max_length)\n",
        "# shuffle 100 --> mezcla los datos y los lee a de 100 unidades\n",
        "# batch 32 --> ejecuta una epoca de entrenamiento de a 32 unidades\n",
        "train_data = train_data.shuffle(100).batch(32)\n",
        "\n",
        "validation_data = convert_examples_to_tf_dataset(list(validation_InputExamples), bert_tokenizer, max_length=max_length)\n",
        "validation_data = validation_data.batch(32)"
      ]
    },
    {
      "cell_type": "code",
      "execution_count": 21,
      "metadata": {
        "execution": {
          "iopub.execute_input": "2024-10-15T22:36:32.858960Z",
          "iopub.status.busy": "2024-10-15T22:36:32.858515Z",
          "iopub.status.idle": "2024-10-15T22:36:36.473657Z",
          "shell.execute_reply": "2024-10-15T22:36:36.472224Z",
          "shell.execute_reply.started": "2024-10-15T22:36:32.858918Z"
        },
        "id": "aQV1WrdKFJnF",
        "trusted": true
      },
      "outputs": [],
      "source": [
        "pred_sentences = [sentences[i] for i in idx_test]\n",
        "tf_batch = bert_tokenizer(pred_sentences, max_length=max_length, padding=True, truncation=True, return_tensors='tf')"
      ]
    },
    {
      "cell_type": "code",
      "execution_count": 22,
      "metadata": {
        "execution": {
          "iopub.execute_input": "2024-10-15T22:36:36.476125Z",
          "iopub.status.busy": "2024-10-15T22:36:36.475365Z",
          "iopub.status.idle": "2024-10-15T22:36:36.482806Z",
          "shell.execute_reply": "2024-10-15T22:36:36.481485Z",
          "shell.execute_reply.started": "2024-10-15T22:36:36.476068Z"
        },
        "id": "ZUBLlpH0GAVE",
        "trusted": true
      },
      "outputs": [],
      "source": [
        "X_test = [tf_batch['input_ids'],\n",
        "          tf_batch['attention_mask']]"
      ]
    },
    {
      "cell_type": "code",
      "execution_count": 23,
      "metadata": {
        "execution": {
          "iopub.execute_input": "2024-10-15T22:36:36.507559Z",
          "iopub.status.busy": "2024-10-15T22:36:36.506910Z",
          "iopub.status.idle": "2024-10-15T22:36:36.515262Z",
          "shell.execute_reply": "2024-10-15T22:36:36.514137Z",
          "shell.execute_reply.started": "2024-10-15T22:36:36.507502Z"
        },
        "id": "3E-z51xls0lH",
        "trusted": true
      },
      "outputs": [],
      "source": [
        "y_test = y[idx_test]"
      ]
    },
    {
      "cell_type": "markdown",
      "metadata": {
        "id": "kNinUuS6nqRJ"
      },
      "source": [
        "## 2 - BERT multiclass classification"
      ]
    },
    {
      "cell_type": "code",
      "execution_count": 31,
      "metadata": {
        "colab": {
          "base_uri": "https://localhost:8080/"
        },
        "execution": {
          "iopub.execute_input": "2024-10-15T22:37:26.864147Z",
          "iopub.status.busy": "2024-10-15T22:37:26.863694Z",
          "iopub.status.idle": "2024-10-15T22:39:41.305363Z",
          "shell.execute_reply": "2024-10-15T22:39:41.303261Z",
          "shell.execute_reply.started": "2024-10-15T22:37:26.864105Z"
        },
        "id": "aQKTqv20j5kA",
        "outputId": "c2bac102-a65b-4e4e-a131-da719520d19b",
        "trusted": true
      },
      "outputs": [
        {
          "name": "stdout",
          "output_type": "stream",
          "text": [
            "Epoch 1/8\n"
          ]
        },
        {
          "name": "stdout",
          "output_type": "stream",
          "text": [
            "    315/Unknown - 1874s 6s/step - loss: 1.1163 - accuracy: 0.3951 - f1_score: 0.3900"
          ]
        },
        {
          "name": "stderr",
          "output_type": "stream",
          "text": [
            "2024-10-16 11:41:30.424130: I tensorflow/core/framework/local_rendezvous.cc:404] Local rendezvous is aborting with status: OUT_OF_RANGE: End of sequence\n",
            "\t [[{{node IteratorGetNext}}]]\n",
            "2024-10-16 11:48:18.303474: I tensorflow/core/framework/local_rendezvous.cc:404] Local rendezvous is aborting with status: OUT_OF_RANGE: End of sequence\n",
            "\t [[{{node IteratorGetNext}}]]\n"
          ]
        },
        {
          "name": "stdout",
          "output_type": "stream",
          "text": [
            "315/315 [==============================] - 2282s 7s/step - loss: 1.1163 - accuracy: 0.3951 - f1_score: 0.3900 - val_loss: 1.0207 - val_accuracy: 0.4492 - val_f1_score: 0.3732\n",
            "Epoch 2/8\n",
            "315/315 [==============================] - 2280s 7s/step - loss: 1.0360 - accuracy: 0.4634 - f1_score: 0.4550 - val_loss: 0.9603 - val_accuracy: 0.5413 - val_f1_score: 0.4780\n",
            "Epoch 3/8\n",
            "315/315 [==============================] - 2234s 7s/step - loss: 0.9993 - accuracy: 0.4993 - f1_score: 0.4882 - val_loss: 0.9488 - val_accuracy: 0.5385 - val_f1_score: 0.4540\n",
            "Epoch 4/8\n",
            "315/315 [==============================] - 2226s 7s/step - loss: 0.9761 - accuracy: 0.5193 - f1_score: 0.5090 - val_loss: 0.9457 - val_accuracy: 0.5508 - val_f1_score: 0.4523\n",
            "Epoch 5/8\n",
            "315/315 [==============================] - 2227s 7s/step - loss: 0.9686 - accuracy: 0.5159 - f1_score: 0.5057 - val_loss: 0.8930 - val_accuracy: 0.5722 - val_f1_score: 0.5514\n",
            "Epoch 6/8\n",
            "315/315 [==============================] - 2226s 7s/step - loss: 0.9427 - accuracy: 0.5428 - f1_score: 0.5320 - val_loss: 0.9087 - val_accuracy: 0.5476 - val_f1_score: 0.5077\n",
            "Epoch 7/8\n",
            "315/315 [==============================] - 2227s 7s/step - loss: 0.9383 - accuracy: 0.5405 - f1_score: 0.5303 - val_loss: 0.9046 - val_accuracy: 0.5556 - val_f1_score: 0.4722\n",
            "Epoch 8/8\n",
            "315/315 [==============================] - 2226s 7s/step - loss: 0.9384 - accuracy: 0.5420 - f1_score: 0.5311 - val_loss: 0.8833 - val_accuracy: 0.5841 - val_f1_score: 0.5844\n"
          ]
        }
      ],
      "source": [
        "history1 = model.fit(train_data, epochs=8, validation_data=validation_data)"
      ]
    },
    {
      "cell_type": "code",
      "execution_count": 32,
      "metadata": {
        "colab": {
          "base_uri": "https://localhost:8080/",
          "height": 430
        },
        "execution": {
          "iopub.status.busy": "2024-10-15T22:33:32.570884Z",
          "iopub.status.idle": "2024-10-15T22:33:32.571573Z",
          "shell.execute_reply": "2024-10-15T22:33:32.571186Z",
          "shell.execute_reply.started": "2024-10-15T22:33:32.571164Z"
        },
        "id": "qj2dAl-tnxY-",
        "outputId": "6df87e4a-c79e-4848-f693-a83a74024504",
        "trusted": true
      },
      "outputs": [
        {
          "data": {
            "image/png": "[encoded data removed]",
            "text/plain": [
              "<Figure size 640x480 with 1 Axes>"
            ]
          },
          "metadata": {},
          "output_type": "display_data"
        }
      ],
      "source": [
        "plot_train_metrics(history1)"
      ]
    },
    {
      "cell_type": "code",
      "execution_count": 33,
      "metadata": {
        "colab": {
          "base_uri": "https://localhost:8080/"
        },
        "execution": {
          "iopub.status.busy": "2024-10-15T22:33:32.574160Z",
          "iopub.status.idle": "2024-10-15T22:33:32.574661Z",
          "shell.execute_reply": "2024-10-15T22:33:32.574469Z",
          "shell.execute_reply.started": "2024-10-15T22:33:32.574447Z"
        },
        "id": "HILK90qzn-kL",
        "outputId": "478e55d0-f0bc-4e81-d404-92a76dfdbc2e",
        "trusted": true
      },
      "outputs": [
        {
          "name": "stdout",
          "output_type": "stream",
          "text": [
            "99/99 [==============================] - 505s 5s/step\n"
          ]
        },
        {
          "data": {
            "text/plain": [
              "array([[0.4271959 , 0.43560147, 0.13720249],\n",
              "       [0.36863434, 0.38839856, 0.24296708],\n",
              "       [0.1742802 , 0.44935337, 0.37636644]], dtype=float32)"
            ]
          },
          "execution_count": 33,
          "metadata": {},
          "output_type": "execute_result"
        }
      ],
      "source": [
        "y_hat_prob = model.predict(X_test)\n",
        "y_hat_prob[:3]"
      ]
    },
    {
      "cell_type": "code",
      "execution_count": 34,
      "metadata": {
        "execution": {
          "iopub.status.busy": "2024-10-15T22:33:32.576017Z",
          "iopub.status.idle": "2024-10-15T22:33:32.576654Z",
          "shell.execute_reply": "2024-10-15T22:33:32.576326Z",
          "shell.execute_reply.started": "2024-10-15T22:33:32.576278Z"
        },
        "id": "kwSvM4-koOdz",
        "trusted": true
      },
      "outputs": [],
      "source": [
        "y_hat = np.argmax(y_hat_prob, axis=1)"
      ]
    },
    {
      "cell_type": "code",
      "execution_count": 35,
      "metadata": {
        "colab": {
          "base_uri": "https://localhost:8080/"
        },
        "execution": {
          "iopub.status.busy": "2024-10-15T22:33:32.579280Z",
          "iopub.status.idle": "2024-10-15T22:33:32.580160Z",
          "shell.execute_reply": "2024-10-15T22:33:32.579893Z",
          "shell.execute_reply.started": "2024-10-15T22:33:32.579863Z"
        },
        "id": "tSNbyLNYwdqQ",
        "outputId": "31f0eec4-38da-49c8-9265-647a8eed8ae4",
        "trusted": true
      },
      "outputs": [
        {
          "name": "stdout",
          "output_type": "stream",
          "text": [
            "99/99 [==============================] - 506s 5s/step - loss: 0.8890 - accuracy: 0.5752 - f1_score: 0.5712\n"
          ]
        },
        {
          "data": {
            "text/plain": [
              "0.5752381086349487"
            ]
          },
          "execution_count": 35,
          "metadata": {},
          "output_type": "execute_result"
        }
      ],
      "source": [
        "# Calcular la exactitud (accuracy)\n",
        "scores = model.evaluate(X_test, y_test)\n",
        "scores[1]"
      ]
    },
    {
      "cell_type": "code",
      "execution_count": 36,
      "metadata": {
        "colab": {
          "base_uri": "https://localhost:8080/",
          "height": 449
        },
        "execution": {
          "iopub.status.busy": "2024-10-15T22:33:32.582459Z",
          "iopub.status.idle": "2024-10-15T22:33:32.582922Z",
          "shell.execute_reply": "2024-10-15T22:33:32.582736Z",
          "shell.execute_reply.started": "2024-10-15T22:33:32.582715Z"
        },
        "id": "mGzdpPfcwlRL",
        "outputId": "78cfdd4b-a516-4dd7-c5fa-2ab621bea3dc",
        "trusted": true
      },
      "outputs": [
        {
          "data": {
            "image/png": "[encoded data removed]",
            "text/plain": [
              "<Figure size 640x480 with 2 Axes>"
            ]
          },
          "metadata": {},
          "output_type": "display_data"
        }
      ],
      "source": [
        "from sklearn.metrics import confusion_matrix, ConfusionMatrixDisplay\n",
        "cm = confusion_matrix(y_test.argmax(axis=1), y_hat)\n",
        "unique_labels = np.unique(y_test.argmax(axis=1))\n",
        "cmd = ConfusionMatrixDisplay(cm, display_labels=unique_labels)\n",
        "cmd.plot(cmap=plt.cm.Blues)\n",
        "plt.show()"
      ]
    },
    {
      "cell_type": "markdown",
      "metadata": {
        "id": "0ugxcD9s9o8l"
      },
      "source": [
        "## 3 - BERT Fine tuning"
      ]
    },
    {
      "cell_type": "code",
      "execution_count": 37,
      "metadata": {
        "colab": {
          "base_uri": "https://localhost:8080/"
        },
        "execution": {
          "iopub.status.busy": "2024-10-15T22:33:32.584714Z",
          "iopub.status.idle": "2024-10-15T22:33:32.585410Z",
          "shell.execute_reply": "2024-10-15T22:33:32.585074Z",
          "shell.execute_reply.started": "2024-10-15T22:33:32.585041Z"
        },
        "id": "5SyRhGOAsTM5",
        "outputId": "b27b8ce0-ed64-4e44-b3eb-3510e936fabb",
        "trusted": true
      },
      "outputs": [
        {
          "name": "stdout",
          "output_type": "stream",
          "text": [
            "Model: \"model\"\n",
            "__________________________________________________________________________________________________\n",
            " Layer (type)                Output Shape                 Param #   Connected to                  \n",
            "==================================================================================================\n",
            " input_ids (InputLayer)      [(None, 180)]                0         []                            \n",
            "                                                                                                  \n",
            " attention_mask (InputLayer  [(None, 180)]                0         []                            \n",
            " )                                                                                                \n",
            "                                                                                                  \n",
            " tf_bert_model (TFBertModel  TFBaseModelOutputWithPooli   1094822   ['input_ids[0][0]',           \n",
            " )                           ngAndCrossAttentions(last_   40         'attention_mask[0][0]']      \n",
            "                             hidden_state=(None, 180, 7                                           \n",
            "                             68),                                                                 \n",
            "                              pooler_output=(None, 768)                                           \n",
            "                             , past_key_values=None, hi                                           \n",
            "                             dden_states=None, attentio                                           \n",
            "                             ns=None, cross_attentions=                                           \n",
            "                             None)                                                                \n",
            "                                                                                                  \n",
            " dropout_37 (Dropout)        (None, 768)                  0         ['tf_bert_model[0][1]']       \n",
            "                                                                                                  \n",
            " dense (Dense)               (None, 3)                    2307      ['dropout_37[0][0]']          \n",
            "                                                                                                  \n",
            "==================================================================================================\n",
            "Total params: 109484547 (417.65 MB)\n",
            "Trainable params: 109484547 (417.65 MB)\n",
            "Non-trainable params: 0 (0.00 Byte)\n",
            "__________________________________________________________________________________________________\n"
          ]
        }
      ],
      "source": [
        "from tensorflow import optimizers\n",
        "\n",
        "model2 = model\n",
        "\n",
        "# Colocar todas las layers como entrenables\n",
        "for layer in model.layers:\n",
        "  layer.trainable = True\n",
        "\n",
        "# Como es fine tunning se recomiendo utiliza al menos un learning rate 100 veces\n",
        "# menor\n",
        "model2.compile(optimizer=optimizers.Adam(learning_rate=1e-5),\n",
        "              loss='categorical_crossentropy',\n",
        "              metrics=['accuracy'])\n",
        "\n",
        "model2.summary()"
      ]
    },
    {
      "cell_type": "code",
      "execution_count": 38,
      "metadata": {
        "colab": {
          "base_uri": "https://localhost:8080/"
        },
        "execution": {
          "iopub.status.busy": "2024-10-15T22:33:32.586754Z",
          "iopub.status.idle": "2024-10-15T22:33:32.587373Z",
          "shell.execute_reply": "2024-10-15T22:33:32.587072Z",
          "shell.execute_reply.started": "2024-10-15T22:33:32.587041Z"
        },
        "id": "-TDb4gKKtW1r",
        "outputId": "e8adbc44-2b84-4b09-934d-627099bc56ca",
        "trusted": true
      },
      "outputs": [
        {
          "name": "stdout",
          "output_type": "stream",
          "text": [
            "Epoch 1/8\n"
          ]
        },
        {
          "name": "stdout",
          "output_type": "stream",
          "text": [
            "    315/Unknown - 5242s 17s/step - loss: 0.7487 - accuracy: 0.6535"
          ]
        },
        {
          "name": "stderr",
          "output_type": "stream",
          "text": [
            "2024-10-16 18:00:45.569662: I tensorflow/core/framework/local_rendezvous.cc:404] Local rendezvous is aborting with status: OUT_OF_RANGE: End of sequence\n",
            "\t [[{{node IteratorGetNext}}]]\n"
          ]
        },
        {
          "name": "stdout",
          "output_type": "stream",
          "text": [
            "315/315 [==============================] - 5653s 18s/step - loss: 0.7487 - accuracy: 0.6535 - val_loss: 0.6648 - val_accuracy: 0.7056\n",
            "Epoch 2/8\n",
            "315/315 [==============================] - 5679s 18s/step - loss: 0.6027 - accuracy: 0.7303 - val_loss: 0.6328 - val_accuracy: 0.7214\n",
            "Epoch 3/8\n",
            "315/315 [==============================] - 6541s 21s/step - loss: 0.4781 - accuracy: 0.8025 - val_loss: 0.6492 - val_accuracy: 0.7560\n",
            "Epoch 4/8\n",
            "315/315 [==============================] - 6135s 19s/step - loss: 0.3333 - accuracy: 0.8659 - val_loss: 0.7084 - val_accuracy: 0.7802\n",
            "Epoch 5/8\n",
            "315/315 [==============================] - 5925s 19s/step - loss: 0.2137 - accuracy: 0.9179 - val_loss: 0.7781 - val_accuracy: 0.8016\n",
            "Epoch 6/8\n",
            "315/315 [==============================] - 5885s 19s/step - loss: 0.1517 - accuracy: 0.9430 - val_loss: 0.8502 - val_accuracy: 0.8163\n",
            "Epoch 7/8\n",
            "315/315 [==============================] - 5883s 19s/step - loss: 0.1183 - accuracy: 0.9533 - val_loss: 0.9570 - val_accuracy: 0.8099\n",
            "Epoch 8/8\n",
            "315/315 [==============================] - 5848s 19s/step - loss: 0.0953 - accuracy: 0.9620 - val_loss: 1.0588 - val_accuracy: 0.8187\n"
          ]
        }
      ],
      "source": [
        "history2 = model2.fit(train_data, epochs=8, validation_data=validation_data)"
      ]
    },
    {
      "cell_type": "code",
      "execution_count": 39,
      "metadata": {
        "colab": {
          "base_uri": "https://localhost:8080/",
          "height": 430
        },
        "execution": {
          "iopub.status.busy": "2024-10-15T22:33:32.588880Z",
          "iopub.status.idle": "2024-10-15T22:33:32.589582Z",
          "shell.execute_reply": "2024-10-15T22:33:32.589277Z",
          "shell.execute_reply.started": "2024-10-15T22:33:32.589245Z"
        },
        "id": "vpwwEaxgyI34",
        "outputId": "694173d1-0d90-444f-f31b-3888c780626a",
        "trusted": true
      },
      "outputs": [
        {
          "data": {
            "image/png": "[encoded data removed]",
            "text/plain": [
              "<Figure size 640x480 with 1 Axes>"
            ]
          },
          "metadata": {},
          "output_type": "display_data"
        }
      ],
      "source": [
        "plot_train_metrics(history2)"
      ]
    },
    {
      "cell_type": "code",
      "execution_count": 40,
      "metadata": {
        "colab": {
          "base_uri": "https://localhost:8080/"
        },
        "execution": {
          "iopub.status.busy": "2024-10-15T22:33:32.591768Z",
          "iopub.status.idle": "2024-10-15T22:33:32.592449Z",
          "shell.execute_reply": "2024-10-15T22:33:32.592106Z",
          "shell.execute_reply.started": "2024-10-15T22:33:32.592074Z"
        },
        "id": "tNooXBNxyN04",
        "outputId": "4cd4269e-c49d-4298-e7e0-25281915b863",
        "trusted": true
      },
      "outputs": [
        {
          "name": "stdout",
          "output_type": "stream",
          "text": [
            "99/99 [==============================] - 510s 5s/step\n"
          ]
        },
        {
          "data": {
            "text/plain": [
              "array([[1.5247336e-01, 8.2454044e-01, 2.2986177e-02],\n",
              "       [9.9905938e-01, 9.4048667e-04, 1.7029151e-07],\n",
              "       [1.5644053e-03, 9.9144924e-01, 6.9863419e-03]], dtype=float32)"
            ]
          },
          "execution_count": 40,
          "metadata": {},
          "output_type": "execute_result"
        }
      ],
      "source": [
        "y_hat_prob2 = model2.predict(X_test)\n",
        "y_hat_prob2[:3]"
      ]
    },
    {
      "cell_type": "code",
      "execution_count": 41,
      "metadata": {
        "execution": {
          "iopub.status.busy": "2024-10-15T22:33:32.594081Z",
          "iopub.status.idle": "2024-10-15T22:33:32.594757Z",
          "shell.execute_reply": "2024-10-15T22:33:32.594515Z",
          "shell.execute_reply.started": "2024-10-15T22:33:32.594449Z"
        },
        "id": "f43_zEHZyRV2",
        "trusted": true
      },
      "outputs": [],
      "source": [
        "y_hat2 = np.argmax(y_hat_prob2, axis=1)"
      ]
    },
    {
      "cell_type": "code",
      "execution_count": 42,
      "metadata": {
        "colab": {
          "base_uri": "https://localhost:8080/"
        },
        "execution": {
          "iopub.status.busy": "2024-10-15T22:33:32.596841Z",
          "iopub.status.idle": "2024-10-15T22:33:32.597484Z",
          "shell.execute_reply": "2024-10-15T22:33:32.597184Z",
          "shell.execute_reply.started": "2024-10-15T22:33:32.597155Z"
        },
        "id": "pN-fE34KyYlp",
        "outputId": "fc303e3c-9f7a-468f-b64d-8816e1805027",
        "trusted": true
      },
      "outputs": [
        {
          "name": "stdout",
          "output_type": "stream",
          "text": [
            "99/99 [==============================] - 510s 5s/step - loss: 1.0158 - accuracy: 0.8181\n"
          ]
        },
        {
          "data": {
            "text/plain": [
              "0.8180952668190002"
            ]
          },
          "execution_count": 42,
          "metadata": {},
          "output_type": "execute_result"
        }
      ],
      "source": [
        "# Calcular la exactitud (accuracy)\n",
        "scores = model2.evaluate(X_test, y_test)\n",
        "scores[1]"
      ]
    },
    {
      "cell_type": "code",
      "execution_count": 43,
      "metadata": {
        "colab": {
          "base_uri": "https://localhost:8080/",
          "height": 455
        },
        "execution": {
          "iopub.status.busy": "2024-10-15T22:33:32.599472Z",
          "iopub.status.idle": "2024-10-15T22:33:32.600081Z",
          "shell.execute_reply": "2024-10-15T22:33:32.599807Z",
          "shell.execute_reply.started": "2024-10-15T22:33:32.599776Z"
        },
        "id": "drV-U5LOyZuB",
        "outputId": "33e50e6c-bf94-4efb-c7eb-a9ddff2fc624",
        "trusted": true
      },
      "outputs": [
        {
          "data": {
            "image/png": "[encoded data removed]",
            "text/plain": [
              "<Figure size 640x480 with 2 Axes>"
            ]
          },
          "metadata": {},
          "output_type": "display_data"
        }
      ],
      "source": [
        "cm = confusion_matrix(y_test.argmax(axis=1), y_hat2)\n",
        "unique_labels = np.unique(y_test.argmax(axis=1))\n",
        "cmd = ConfusionMatrixDisplay(cm, display_labels=unique_labels)\n",
        "cmd.plot(cmap=plt.cm.Blues)\n",
        "plt.show()"
      ]
    },
    {
      "cell_type": "markdown",
      "metadata": {
        "id": "P9oKmUU7z1HN"
      },
      "source": [
        "## Salvar el modelo"
      ]
    },
    {
      "cell_type": "code",
      "execution_count": 52,
      "metadata": {
        "execution": {
          "iopub.status.busy": "2024-10-15T22:33:32.601810Z",
          "iopub.status.idle": "2024-10-15T22:33:32.602269Z",
          "shell.execute_reply": "2024-10-15T22:33:32.602060Z",
          "shell.execute_reply.started": "2024-10-15T22:33:32.602040Z"
        },
        "id": "GdL89sAc0FaN",
        "trusted": true
      },
      "outputs": [],
      "source": [
        "model.save_weights('bert_weights_before_fine_tunning.h5')\n",
        "model2.save_weights('bert_weights.h5')"
      ]
    },
    {
      "cell_type": "code",
      "execution_count": 45,
      "metadata": {
        "colab": {
          "base_uri": "https://localhost:8080/",
          "height": 34
        },
        "execution": {
          "iopub.status.busy": "2024-10-15T22:33:32.605129Z",
          "iopub.status.idle": "2024-10-15T22:33:32.605789Z",
          "shell.execute_reply": "2024-10-15T22:33:32.605508Z",
          "shell.execute_reply.started": "2024-10-15T22:33:32.605468Z"
        },
        "id": "Lk4S4D-H188y",
        "outputId": "a0f5b3fc-83fa-49ff-bb7f-45fa3337e747",
        "trusted": true
      },
      "outputs": [],
      "source": [
        "# Descargar los pesos a nuestra PC - Descomentar esto solo en caso de usar google Colab\n",
        "# Solo es necesario si se desea repetir el uso de este modelo en el futuro\n",
        "# from google.colab import files\n",
        "# files.download('bert_weights.h5')"
      ]
    },
    {
      "cell_type": "markdown",
      "metadata": {
        "id": "JEweoQu6AXT1"
      },
      "source": [
        "## Levantar el modelo"
      ]
    },
    {
      "cell_type": "code",
      "execution_count": 46,
      "metadata": {
        "execution": {
          "iopub.status.busy": "2024-10-15T22:33:32.607106Z",
          "iopub.status.idle": "2024-10-15T22:33:32.607750Z",
          "shell.execute_reply": "2024-10-15T22:33:32.607458Z",
          "shell.execute_reply.started": "2024-10-15T22:33:32.607427Z"
        },
        "id": "qEyo5kAx-1yx",
        "trusted": true
      },
      "outputs": [],
      "source": [
        "LOAD_MODEL = False\n",
        "\n",
        "if LOAD_MODEL:\n",
        "\n",
        "    bert_model3 = TFBertModel.from_pretrained(\"bert-base-uncased\")\n",
        "\n",
        "    input_ids = tensorflow.keras.layers.Input(shape=(max_length,), dtype=tensorflow.int32, name='input_ids')\n",
        "\n",
        "    # attention_mask - is a binary mask which tells BERT which tokens to attend and which not to attend.\n",
        "    # Encoder will add the 0 tokens to the some sequence which smaller than MAX_SEQUENCE_LENGTH,\n",
        "    # and attention_mask, in this case, tells BERT where is the token from the original data and where is 0 pad token:\n",
        "    attention_mask = tensorflow.keras.layers.Input((max_length,), dtype=tensorflow.int32, name='attention_mask')\n",
        "\n",
        "    # Get the pooled_output (embedding que representa toda la entrada)\n",
        "    output = bert_model3([input_ids, attention_mask])[1]\n",
        "\n",
        "    # We can also add dropout as regularization technique:\n",
        "    output = tensorflow.keras.layers.Dropout(rate=0.2)(output)\n",
        "\n",
        "    # Se puede agregar más capas Densas en el medio si se desea\n",
        "\n",
        "    # Provide number of classes to the final layer:\n",
        "    output = tensorflow.keras.layers.Dense(output_shape, activation='softmax')(output)\n",
        "\n",
        "    # Final model:\n",
        "    model3 = tensorflow.keras.models.Model(inputs=[input_ids, attention_mask], outputs=output)"
      ]
    },
    {
      "cell_type": "code",
      "execution_count": 47,
      "metadata": {
        "execution": {
          "iopub.status.busy": "2024-10-15T22:33:32.609844Z",
          "iopub.status.idle": "2024-10-15T22:33:32.610500Z",
          "shell.execute_reply": "2024-10-15T22:33:32.610184Z",
          "shell.execute_reply.started": "2024-10-15T22:33:32.610153Z"
        },
        "id": "RIoUIPR8-rwB",
        "trusted": true
      },
      "outputs": [],
      "source": [
        "if LOAD_MODEL:\n",
        "    model3.load_weights('bert_weights.h5')\n",
        "else:\n",
        "    model3 = model2 #Reusar el modelo de la etapa anterior"
      ]
    },
    {
      "cell_type": "markdown",
      "metadata": {
        "id": "OYN9aJGYA-d2"
      },
      "source": [
        "## Ensayo"
      ]
    },
    {
      "cell_type": "code",
      "execution_count": 48,
      "metadata": {
        "execution": {
          "iopub.status.busy": "2024-10-15T22:33:32.612749Z",
          "iopub.status.idle": "2024-10-15T22:33:32.613435Z",
          "shell.execute_reply": "2024-10-15T22:33:32.613111Z",
          "shell.execute_reply.started": "2024-10-15T22:33:32.613079Z"
        },
        "id": "9ML7P5X8BAJe",
        "trusted": true
      },
      "outputs": [
        {
          "name": "stdout",
          "output_type": "stream",
          "text": [
            "Inputs ids: tf.Tensor(\n",
            "[[  101  1045  2293  2023 10439   999   102     0     0     0     0     0\n",
            "      0     0     0     0     0     0     0     0     0     0     0     0\n",
            "      0     0     0     0     0     0     0     0     0     0     0     0\n",
            "      0     0     0     0     0     0     0     0     0     0     0     0\n",
            "      0     0     0     0     0     0     0     0     0     0     0     0\n",
            "      0     0     0     0     0     0     0     0     0     0     0     0\n",
            "      0     0     0     0     0     0     0     0     0     0     0     0\n",
            "      0     0     0     0     0     0     0     0     0     0     0     0\n",
            "      0     0     0     0     0     0     0     0     0     0     0     0\n",
            "      0     0     0     0     0     0     0     0     0     0     0     0\n",
            "      0     0     0     0     0     0     0     0     0     0     0     0\n",
            "      0     0     0     0     0     0     0     0     0     0     0     0\n",
            "      0     0     0     0     0     0     0     0     0     0     0     0\n",
            "      0     0     0     0     0     0     0     0     0     0     0     0\n",
            "      0     0     0     0     0     0     0     0     0     0     0     0]], shape=(1, 180), dtype=int32)\n",
            "Attention mask: tf.Tensor(\n",
            "[[1 1 1 1 1 1 1 0 0 0 0 0 0 0 0 0 0 0 0 0 0 0 0 0 0 0 0 0 0 0 0 0 0 0 0 0\n",
            "  0 0 0 0 0 0 0 0 0 0 0 0 0 0 0 0 0 0 0 0 0 0 0 0 0 0 0 0 0 0 0 0 0 0 0 0\n",
            "  0 0 0 0 0 0 0 0 0 0 0 0 0 0 0 0 0 0 0 0 0 0 0 0 0 0 0 0 0 0 0 0 0 0 0 0\n",
            "  0 0 0 0 0 0 0 0 0 0 0 0 0 0 0 0 0 0 0 0 0 0 0 0 0 0 0 0 0 0 0 0 0 0 0 0\n",
            "  0 0 0 0 0 0 0 0 0 0 0 0 0 0 0 0 0 0 0 0 0 0 0 0 0 0 0 0 0 0 0 0 0 0 0 0]], shape=(1, 180), dtype=int32)\n"
          ]
        },
        {
          "name": "stderr",
          "output_type": "stream",
          "text": [
            "/home/idk/git/ceia/nlp_fiuba/.venv/lib/python3.12/site-packages/transformers/tokenization_utils_base.py:2829: FutureWarning: The `pad_to_max_length` argument is deprecated and will be removed in a future version, use `padding=True` or `padding='longest'` to pad to the longest sequence in the batch, or use `padding='max_length'` to pad to a max length. In this case, you can give a specific length with `max_length` (e.g. `max_length=45`) or leave max_length to None to pad to the maximal input size of the model (e.g. 512 for Bert).\n",
            "  warnings.warn(\n"
          ]
        }
      ],
      "source": [
        "text = \"I love this app!\"\n",
        "\n",
        "#tf_batch = bert_tokenizer(text, max_length=max_length, padding=True, truncation=True, return_tensors='tf')\n",
        "\n",
        "tf_batch = bert_tokenizer.encode_plus(\n",
        "    text,\n",
        "    add_special_tokens=True,\n",
        "    max_length=max_length, # truncates if len(s) > max_length\n",
        "    return_token_type_ids=False,\n",
        "    return_attention_mask=True,\n",
        "    pad_to_max_length=True, # pads to the right by default # CHECK THIS for pad_to_max_length\n",
        "    truncation=True,\n",
        "    return_tensors='tf'\n",
        ")\n",
        "\n",
        "print(\"Inputs ids:\", tf_batch['input_ids'])\n",
        "print(\"Attention mask:\", tf_batch['attention_mask'])"
      ]
    },
    {
      "cell_type": "code",
      "execution_count": 49,
      "metadata": {
        "execution": {
          "iopub.status.busy": "2024-10-15T22:33:32.615689Z",
          "iopub.status.idle": "2024-10-15T22:33:32.616371Z",
          "shell.execute_reply": "2024-10-15T22:33:32.616049Z",
          "shell.execute_reply.started": "2024-10-15T22:33:32.616018Z"
        },
        "id": "VVOTfMhHBURv",
        "trusted": true
      },
      "outputs": [],
      "source": [
        "X_ensayo = [tf_batch['input_ids'],\n",
        "          tf_batch['attention_mask']]"
      ]
    },
    {
      "cell_type": "code",
      "execution_count": 50,
      "metadata": {
        "execution": {
          "iopub.status.busy": "2024-10-15T22:33:32.617875Z",
          "iopub.status.idle": "2024-10-15T22:33:32.618435Z",
          "shell.execute_reply": "2024-10-15T22:33:32.618153Z",
          "shell.execute_reply.started": "2024-10-15T22:33:32.618129Z"
        },
        "id": "HWFX-xFcBDRV",
        "trusted": true
      },
      "outputs": [
        {
          "name": "stdout",
          "output_type": "stream",
          "text": [
            "1/1 [==============================] - 0s 484ms/step\n",
            "Clasificación: positive\n"
          ]
        },
        {
          "name": "stderr",
          "output_type": "stream",
          "text": [
            "/tmp/ipykernel_717006/2431970867.py:3: DeprecationWarning: Conversion of an array with ndim > 0 to a scalar is deprecated, and will error in future. Ensure you extract a single element from your array before performing this operation. (Deprecated NumPy 1.25.)\n",
            "  print(\"Clasificación:\", class_names[int(y_prob)])\n"
          ]
        }
      ],
      "source": [
        "y_prob_ensayo = model3.predict(X_ensayo)\n",
        "y_prob = np.argmax(y_prob_ensayo, axis=1)\n",
        "print(\"Clasificación:\", class_names[int(y_prob)])"
      ]
    },
    {
      "cell_type": "markdown",
      "metadata": {},
      "source": [
        "- Vemos que el modelo clasifica correctamente \"I love this app!\" como positiva"
      ]
    },
    {
      "cell_type": "markdown",
      "metadata": {
        "id": "BkP5JNP1Y7x0"
      },
      "source": [
        "## Alternativa: agregando otra capa fully connected"
      ]
    },
    {
      "cell_type": "code",
      "execution_count": 4,
      "metadata": {
        "id": "Rx994VSoZ80k"
      },
      "outputs": [],
      "source": [
        "bert_model_2.bert.trainable = False\n",
        "\n",
        "input_ids = tensorflow.keras.layers.Input(shape=(max_length,), dtype=tensorflow.int32, name='input_ids')\n",
        "attention_mask = tensorflow.keras.layers.Input(shape=(max_length,), dtype=tensorflow.int32, name='attention_mask')\n",
        "\n",
        "outputs = bert_model_2 (input_ids, attention_mask=attention_mask)\n",
        "\n",
        "pooled_output = outputs.pooler_output\n",
        "\n",
        "# Primera capa dropout + FC\n",
        "dp1 = tensorflow.keras.layers.Dropout(0.2)(pooled_output)\n",
        "x1 = tensorflow.keras.layers.Dense(64, activation='relu')(dp1)\n",
        "\n",
        "# Segunda capa dropout + FC\n",
        "dp2 = tensorflow.keras.layers.Dropout(0.1)(x1)\n",
        "x2 = tensorflow.keras.layers.Dense(output_shape, activation='softmax')(dp2)\n",
        "\n",
        "model_double_fc = tensorflow.keras.Model(inputs=[input_ids, attention_mask], outputs=x2)\n",
        "\n",
        "model_double_fc.compile(optimizer='adam',\n",
        "              loss='categorical_crossentropy',\n",
        "              metrics=['accuracy',tensorflow.keras.metrics.F1Score(average='macro')])"
      ]
    },
    {
      "cell_type": "markdown",
      "metadata": {
        "id": "8nL825Wsjdsj"
      },
      "source": [
        "### Entrenamiento\n"
      ]
    },
    {
      "cell_type": "code",
      "execution_count": null,
      "metadata": {},
      "outputs": [
        {
          "name": "stdout",
          "output_type": "stream",
          "text": [
            "Epoch 1/8\n"
          ]
        },
        {
          "name": "stderr",
          "output_type": "stream",
          "text": [
            "WARNING: All log messages before absl::InitializeLog() is called are written to STDERR\n",
            "I0000 00:00:1729185682.192193     113 service.cc:145] XLA service 0x78247471ac80 initialized for platform CUDA (this does not guarantee that XLA will be used). Devices:\n",
            "I0000 00:00:1729185682.192242     113 service.cc:153]   StreamExecutor device (0): Tesla T4, Compute Capability 7.5\n",
            "I0000 00:00:1729185682.192245     113 service.cc:153]   StreamExecutor device (1): Tesla T4, Compute Capability 7.5\n",
            "I0000 00:00:1729185682.398173     113 device_compiler.h:188] Compiled cluster using XLA!  This line is logged at most once for the lifetime of the process.\n"
          ]
        },
        {
          "name": "stdout",
          "output_type": "stream",
          "text": [
            "315/315 [==============================] - 224s 560ms/step - loss: 1.0948 - accuracy: 0.3878 - f1_score: 0.3503 - val_loss: 1.0394 - val_accuracy: 0.5119 - val_f1_score: 0.4154\n",
            "Epoch 2/8\n",
            "315/315 [==============================] - 169s 537ms/step - loss: 1.0283 - accuracy: 0.4618 - f1_score: 0.4165 - val_loss: 0.9904 - val_accuracy: 0.4607 - val_f1_score: 0.3893\n",
            "Epoch 3/8\n",
            "315/315 [==============================] - 169s 538ms/step - loss: 0.9873 - accuracy: 0.4945 - f1_score: 0.4588 - val_loss: 0.9673 - val_accuracy: 0.4929 - val_f1_score: 0.4172\n",
            "Epoch 4/8\n",
            "315/315 [==============================] - 169s 537ms/step - loss: 0.9655 - accuracy: 0.5117 - f1_score: 0.4815 - val_loss: 0.9363 - val_accuracy: 0.5413 - val_f1_score: 0.4864\n",
            "Epoch 5/8\n",
            "315/315 [==============================] - 169s 537ms/step - loss: 0.9648 - accuracy: 0.5128 - f1_score: 0.4712 - val_loss: 0.9158 - val_accuracy: 0.5401 - val_f1_score: 0.4994\n",
            "Epoch 6/8\n",
            "315/315 [==============================] - 170s 538ms/step - loss: 0.9532 - accuracy: 0.5145 - f1_score: 0.4809 - val_loss: 0.8919 - val_accuracy: 0.5587 - val_f1_score: 0.5362\n",
            "Epoch 7/8\n",
            "315/315 [==============================] - 169s 537ms/step - loss: 0.9464 - accuracy: 0.5275 - f1_score: 0.5072 - val_loss: 0.9031 - val_accuracy: 0.5655 - val_f1_score: 0.5344\n",
            "Epoch 8/8\n",
            "315/315 [==============================] - 169s 538ms/step - loss: 0.9413 - accuracy: 0.5308 - f1_score: 0.5081 - val_loss: 0.8946 - val_accuracy: 0.5671 - val_f1_score: 0.4997\n"
          ]
        }
      ],
      "source": [
        "history_double_fc = model_double_fc.fit(train_data, epochs=8, validation_data=validation_data)"
      ]
    },
    {
      "cell_type": "code",
      "execution_count": null,
      "metadata": {},
      "outputs": [
        {
          "name": "stderr",
          "output_type": "stream",
          "text": [
            "/opt/conda/lib/python3.10/site-packages/seaborn/_oldcore.py:1119: FutureWarning: use_inf_as_na option is deprecated and will be removed in a future version. Convert inf values to NaN before operating instead.\n",
            "  with pd.option_context('mode.use_inf_as_na', True):\n",
            "/opt/conda/lib/python3.10/site-packages/seaborn/_oldcore.py:1119: FutureWarning: use_inf_as_na option is deprecated and will be removed in a future version. Convert inf values to NaN before operating instead.\n",
            "  with pd.option_context('mode.use_inf_as_na', True):\n",
            "/opt/conda/lib/python3.10/site-packages/seaborn/_oldcore.py:1119: FutureWarning: use_inf_as_na option is deprecated and will be removed in a future version. Convert inf values to NaN before operating instead.\n",
            "  with pd.option_context('mode.use_inf_as_na', True):\n",
            "/opt/conda/lib/python3.10/site-packages/seaborn/_oldcore.py:1119: FutureWarning: use_inf_as_na option is deprecated and will be removed in a future version. Convert inf values to NaN before operating instead.\n",
            "  with pd.option_context('mode.use_inf_as_na', True):\n"
          ]
        },
        {
          "data": {
            "image/png": "[encoded data removed]",
            "text/plain": [
              "<Figure size 640x480 with 1 Axes>"
            ]
          },
          "metadata": {},
          "output_type": "display_data"
        }
      ],
      "source": [
        "plot_train_metrics(history_double_fc)"
      ]
    },
    {
      "cell_type": "markdown",
      "metadata": {
        "id": "EhCTSHzzkAPi"
      },
      "source": [
        "### Métricas"
      ]
    },
    {
      "cell_type": "markdown",
      "metadata": {
        "id": "R0Dim9oPkF_W"
      },
      "source": [
        "Evaluación"
      ]
    },
    {
      "cell_type": "code",
      "execution_count": null,
      "metadata": {},
      "outputs": [
        {
          "name": "stdout",
          "output_type": "stream",
          "text": [
            "99/99 [==============================] - 51s 409ms/step\n",
            "99/99 [==============================] - 51s 408ms/step - loss: 0.8932 - accuracy: 0.5778 - f1_score: 0.5166\n"
          ]
        },
        {
          "data": {
            "text/plain": [
              "0.5777778029441833"
            ]
          },
          "metadata": {},
          "output_type": "display_data"
        }
      ],
      "source": [
        "# Obtener probabilidades usando el nuevo modelo\n",
        "y_hat_prob = model_double_fc.predict(X_test)\n",
        "y_hat_prob[:3]\n",
        "y_hat = np.argmax(y_hat_prob, axis=1)\n",
        "\n",
        "# Calcular la exactitud (accuracy)\n",
        "scores = model_double_fc.evaluate(X_test, y_test)\n",
        "scores[1]"
      ]
    },
    {
      "cell_type": "markdown",
      "metadata": {
        "id": "E_cVgi5lkCzV"
      },
      "source": [
        "Matriz de confusión"
      ]
    },
    {
      "cell_type": "code",
      "execution_count": null,
      "metadata": {},
      "outputs": [
        {
          "data": {
            "image/png": "[encoded data removed]",
            "text/plain": [
              "<Figure size 640x480 with 2 Axes>"
            ]
          },
          "metadata": {},
          "output_type": "display_data"
        }
      ],
      "source": [
        "from sklearn.metrics import confusion_matrix, ConfusionMatrixDisplay\n",
        "cm = confusion_matrix(y_test.argmax(axis=1), y_hat)\n",
        "unique_labels = np.unique(y_test.argmax(axis=1))\n",
        "cmd = ConfusionMatrixDisplay(cm, display_labels=unique_labels)\n",
        "cmd.plot(cmap=plt.cm.Blues)\n",
        "plt.show()"
      ]
    },
    {
      "cell_type": "markdown",
      "metadata": {
        "id": "ISBQVl_nkXaJ"
      },
      "source": [
        "### Fine tuning"
      ]
    },
    {
      "cell_type": "code",
      "execution_count": null,
      "metadata": {},
      "outputs": [
        {
          "name": "stdout",
          "output_type": "stream",
          "text": [
            "Model: \"model\"\n",
            "__________________________________________________________________________________________________\n",
            " Layer (type)                Output Shape                 Param #   Connected to                  \n",
            "==================================================================================================\n",
            " input_ids (InputLayer)      [(None, 180)]                0         []                            \n",
            "                                                                                                  \n",
            " attention_mask (InputLayer  [(None, 180)]                0         []                            \n",
            " )                                                                                                \n",
            "                                                                                                  \n",
            " tf_bert_model (TFBertModel  TFBaseModelOutputWithPooli   1094822   ['input_ids[0][0]',           \n",
            " )                           ngAndCrossAttentions(last_   40         'attention_mask[0][0]']      \n",
            "                             hidden_state=(None, 180, 7                                           \n",
            "                             68),                                                                 \n",
            "                              pooler_output=(None, 768)                                           \n",
            "                             , past_key_values=None, hi                                           \n",
            "                             dden_states=None, attentio                                           \n",
            "                             ns=None, cross_attentions=                                           \n",
            "                             None)                                                                \n",
            "                                                                                                  \n",
            " dropout_37 (Dropout)        (None, 768)                  0         ['tf_bert_model[0][1]']       \n",
            "                                                                                                  \n",
            " dense (Dense)               (None, 64)                   49216     ['dropout_37[0][0]']          \n",
            "                                                                                                  \n",
            " dropout_38 (Dropout)        (None, 64)                   0         ['dense[0][0]']               \n",
            "                                                                                                  \n",
            " dense_1 (Dense)             (None, 3)                    195       ['dropout_38[0][0]']          \n",
            "                                                                                                  \n",
            "==================================================================================================\n",
            "Total params: 109531651 (417.83 MB)\n",
            "Trainable params: 109531651 (417.83 MB)\n",
            "Non-trainable params: 0 (0.00 Byte)\n",
            "__________________________________________________________________________________________________\n"
          ]
        }
      ],
      "source": [
        "from tensorflow import optimizers\n",
        "\n",
        "model_double_fc_FT = model_double_fc\n",
        "\n",
        "# Colocar todas las layers como entrenables\n",
        "for layer in model_double_fc_FT.layers:\n",
        "  layer.trainable = True\n",
        "\n",
        "# Como es fine tunning se recomiendo utiliza al menos un learning rate 100 veces\n",
        "# menor\n",
        "model_double_fc_FT.compile(optimizer=optimizers.Adam(learning_rate=1e-5),\n",
        "              loss='categorical_crossentropy',\n",
        "              metrics=['accuracy'])\n",
        "\n",
        "model_double_fc_FT.summary()"
      ]
    },
    {
      "cell_type": "code",
      "execution_count": null,
      "metadata": {},
      "outputs": [
        {
          "name": "stdout",
          "output_type": "stream",
          "text": [
            "Epoch 1/8\n",
            "315/315 [==============================] - 459s 1s/step - loss: 0.7758 - accuracy: 0.6372 - val_loss: 0.6967 - val_accuracy: 0.6722\n",
            "Epoch 2/8\n",
            "315/315 [==============================] - 390s 1s/step - loss: 0.6618 - accuracy: 0.6968 - val_loss: 0.6522 - val_accuracy: 0.7111\n",
            "Epoch 3/8\n",
            "315/315 [==============================] - 390s 1s/step - loss: 0.5695 - accuracy: 0.7469 - val_loss: 0.6578 - val_accuracy: 0.7401\n",
            "Epoch 4/8\n",
            "315/315 [==============================] - 390s 1s/step - loss: 0.4646 - accuracy: 0.8069 - val_loss: 0.6554 - val_accuracy: 0.7683\n",
            "Epoch 5/8\n",
            "315/315 [==============================] - 389s 1s/step - loss: 0.3609 - accuracy: 0.8592 - val_loss: 0.7256 - val_accuracy: 0.7817\n",
            "Epoch 6/8\n",
            "315/315 [==============================] - 390s 1s/step - loss: 0.2576 - accuracy: 0.9013 - val_loss: 0.8153 - val_accuracy: 0.7913\n",
            "Epoch 7/8\n",
            "315/315 [==============================] - 389s 1s/step - loss: 0.1897 - accuracy: 0.9293 - val_loss: 0.7727 - val_accuracy: 0.8000\n",
            "Epoch 8/8\n",
            "315/315 [==============================] - 389s 1s/step - loss: 0.1412 - accuracy: 0.9477 - val_loss: 0.9855 - val_accuracy: 0.8000\n"
          ]
        }
      ],
      "source": [
        "history_double_fc_FT = model_double_fc_FT.fit(train_data, epochs=8, validation_data=validation_data)"
      ]
    },
    {
      "cell_type": "code",
      "execution_count": null,
      "metadata": {},
      "outputs": [
        {
          "name": "stderr",
          "output_type": "stream",
          "text": [
            "/opt/conda/lib/python3.10/site-packages/seaborn/_oldcore.py:1119: FutureWarning: use_inf_as_na option is deprecated and will be removed in a future version. Convert inf values to NaN before operating instead.\n",
            "  with pd.option_context('mode.use_inf_as_na', True):\n",
            "/opt/conda/lib/python3.10/site-packages/seaborn/_oldcore.py:1119: FutureWarning: use_inf_as_na option is deprecated and will be removed in a future version. Convert inf values to NaN before operating instead.\n",
            "  with pd.option_context('mode.use_inf_as_na', True):\n",
            "/opt/conda/lib/python3.10/site-packages/seaborn/_oldcore.py:1119: FutureWarning: use_inf_as_na option is deprecated and will be removed in a future version. Convert inf values to NaN before operating instead.\n",
            "  with pd.option_context('mode.use_inf_as_na', True):\n",
            "/opt/conda/lib/python3.10/site-packages/seaborn/_oldcore.py:1119: FutureWarning: use_inf_as_na option is deprecated and will be removed in a future version. Convert inf values to NaN before operating instead.\n",
            "  with pd.option_context('mode.use_inf_as_na', True):\n"
          ]
        },
        {
          "data": {
            "image/png": "[encoded data removed]",
            "text/plain": [
              "<Figure size 640x480 with 1 Axes>"
            ]
          },
          "metadata": {},
          "output_type": "display_data"
        }
      ],
      "source": [
        "plot_train_metrics(history_double_fc_FT)"
      ]
    },
    {
      "cell_type": "code",
      "execution_count": null,
      "metadata": {},
      "outputs": [
        {
          "name": "stdout",
          "output_type": "stream",
          "text": [
            "99/99 [==============================] - 51s 412ms/step\n",
            "99/99 [==============================] - 51s 409ms/step - loss: 0.9193 - accuracy: 0.8190\n"
          ]
        },
        {
          "data": {
            "text/plain": [
              "0.8190476298332214"
            ]
          },
          "metadata": {},
          "output_type": "display_data"
        }
      ],
      "source": [
        "# Obtener probabilidades usando el nuevo modelo con fine tuning\n",
        "y_hat_prob = model_double_fc_FT.predict(X_test)\n",
        "y_hat_prob[:3]\n",
        "y_hat = np.argmax(y_hat_prob, axis=1)\n",
        "\n",
        "# Calcular la exactitud (accuracy)\n",
        "scores = model_double_fc_FT.evaluate(X_test, y_test)\n",
        "scores[1]"
      ]
    },
    {
      "cell_type": "markdown",
      "metadata": {
        "id": "z8zKDxBMk1Pg"
      },
      "source": [
        "Matriz de confusión"
      ]
    },
    {
      "cell_type": "code",
      "execution_count": null,
      "metadata": {},
      "outputs": [
        {
          "data": {
            "image/png": "[encoded data removed]",
            "text/plain": [
              "<Figure size 640x480 with 2 Axes>"
            ]
          },
          "metadata": {},
          "output_type": "display_data"
        }
      ],
      "source": [
        "cm = confusion_matrix(y_test.argmax(axis=1), y_hat)\n",
        "unique_labels = np.unique(y_test.argmax(axis=1))\n",
        "cmd = ConfusionMatrixDisplay(cm, display_labels=unique_labels)\n",
        "cmd.plot(cmap=plt.cm.Blues)\n",
        "plt.show()"
      ]
    },
    {
      "cell_type": "markdown",
      "metadata": {},
      "source": [
        "Guardado del modelo"
      ]
    },
    {
      "cell_type": "code",
      "execution_count": null,
      "metadata": {},
      "outputs": [],
      "source": [
        "model_double_fc.save_weights('bert_weights_2_FC_before_fine_tunning.h5')\n",
        "model_double_fc_FT.save_weights('bert_weights_2_FC.h5')"
      ]
    },
    {
      "cell_type": "markdown",
      "metadata": {
        "id": "nfjybIH0lIhl"
      },
      "source": [
        "### Ensayo"
      ]
    },
    {
      "cell_type": "code",
      "execution_count": null,
      "metadata": {
        "id": "NwEDfclNlKIi"
      },
      "outputs": [],
      "source": [
        "text = \"I love this app!\"\n",
        "\n",
        "#tf_batch = bert_tokenizer(text, max_length=max_length, padding=True, truncation=True, return_tensors='tf')\n",
        "\n",
        "tf_batch = bert_tokenizer.encode_plus(\n",
        "    text,\n",
        "    add_special_tokens=True,\n",
        "    max_length=max_length, # truncates if len(s) > max_length\n",
        "    return_token_type_ids=False,\n",
        "    return_attention_mask=True,\n",
        "    pad_to_max_length=True, # pads to the right by default # CHECK THIS for pad_to_max_length\n",
        "    truncation=True,\n",
        "    return_tensors='tf'\n",
        ")\n",
        "\n",
        "print(\"Inputs ids:\", tf_batch['input_ids'])\n",
        "print(\"Attention mask:\", tf_batch['attention_mask'])"
      ]
    },
    {
      "cell_type": "code",
      "execution_count": null,
      "metadata": {
        "id": "F0sp3h3olLgm"
      },
      "outputs": [],
      "source": [
        "X_ensayo = [tf_batch['input_ids'],\n",
        "          tf_batch['attention_mask']]"
      ]
    },
    {
      "cell_type": "code",
      "execution_count": null,
      "metadata": {},
      "outputs": [
        {
          "name": "stdout",
          "output_type": "stream",
          "text": [
            "1/1 [==============================] - 0s 68ms/step\n",
            "Clasificación: positive\n"
          ]
        },
        {
          "name": "stderr",
          "output_type": "stream",
          "text": [
            "/tmp/ipykernel_30/733052191.py:3: DeprecationWarning: Conversion of an array with ndim > 0 to a scalar is deprecated, and will error in future. Ensure you extract a single element from your array before performing this operation. (Deprecated NumPy 1.25.)\n",
            "  print(\"Clasificación:\", class_names[int(y_prob)])\n"
          ]
        }
      ],
      "source": [
        "y_prob_ensayo = model_double_fc_FT.predict(X_ensayo)\n",
        "y_prob = np.argmax(y_prob_ensayo, axis=1)\n",
        "print(\"Clasificación:\", class_names[int(y_prob)])"
      ]
    },
    {
      "cell_type": "markdown",
      "metadata": {
        "id": "s7Z1cVJelPZZ"
      },
      "source": [
        "## Comparación de modelos"
      ]
    },
    {
      "cell_type": "code",
      "execution_count": null,
      "metadata": {
        "id": "RNioPtdklR2k"
      },
      "outputs": [],
      "source": [
        "def plot_train_metrics_2(history1,history2):\n",
        "    epoch_count = range(1, len(history1.history['accuracy']) + 1)\n",
        "    # History 1\n",
        "    sns.lineplot(x=epoch_count,  y=history1.history['accuracy'], label='Test Accuracy (modelo 1)')\n",
        "    sns.lineplot(x=epoch_count,  y=history1.history['val_accuracy'], label='Validation Accuracy  (modelo 1)')\n",
        "    # History 2\n",
        "    sns.lineplot(x=epoch_count,  y=history2.history['accuracy'], label='Test Accuracy  (modelo 2)')\n",
        "    sns.lineplot(x=epoch_count,  y=history2.history['val_accuracy'], label='Validation Accuracy  (modelo 2)')\n",
        "    plt.xlabel('Epochs')\n",
        "    plt.ylabel('Accuracy')\n",
        "    plt.title('Test vs Validation Accuracy')\n",
        "    plt.legend()\n",
        "    plt.grid()\n",
        "    plt.show()"
      ]
    },
    {
      "cell_type": "code",
      "execution_count": null,
      "metadata": {},
      "outputs": [
        {
          "data": {
            "image/png": "[encoded data removed]",
            "text/plain": [
              "<Figure size 640x480 with 1 Axes>"
            ]
          },
          "metadata": {},
          "output_type": "display_data"
        }
      ],
      "source": [
        "plot_train_metrics_2(history2,history_double_fc_FT)"
      ]
    },
    {
      "cell_type": "markdown",
      "metadata": {
        "id": "IXu1W7-5LkPL"
      },
      "source": [
        "## Conclusiones"
      ]
    },
    {
      "cell_type": "markdown",
      "metadata": {},
      "source": [
        "- Utilizando BERT y transfer learning se puede obtener un clasificador preciso rápidamente.\n",
        "  - Además se parte de un pre-entrenamiento en un gran corpus de texto, utilizando atención bidireccional, lo que involucra una buena performance para compender el contexto de toda la reseña.\n",
        "  - Como contrapartida BERT tiene una carga computacional mucho mayor que un modelo de clasificación sencillo.  \n",
        "\n",
        "- Utilizando arquitecturas tipo transformers se puede tener un tamaño de contexto grande:\n",
        "  - Esto resulta beneficioso para sentiment analysis, sobre todo si el contenido emocional depende de palabras o frases que estén separadas en la secuencia.\n",
        "\n",
        "- Se puede apreciar que luego de realizar el fine tuning el modelo se ajusta mucho mejor al problema.\n",
        "\n",
        "- En ambos modelos se aprecia un leve overfitting que podría solucionarse mediante alguna técnica de regularización o ajustando la probabilidad en las capas de dropout.\n",
        "\n",
        "- A partir de las salidas de BERT se pueden agregar diferentes capas para obtener distintos resultados que se ajusten mejor a resolver el problema.\n",
        "    - En este trabajo se probaron sólo dos modelos sencillos debido a los costos computacionales de entrenar los modelos. Se podría seguir iterando hasta obtener mejores resultados.\n",
        "\n"
      ]
    }
  ],
  "metadata": {
    "accelerator": "GPU",
    "colab": {
      "provenance": [],
      "toc_visible": true
    },
    "kaggle": {
      "accelerator": "none",
      "dataSources": [],
      "dockerImageVersionId": 30786,
      "isGpuEnabled": false,
      "isInternetEnabled": true,
      "language": "python",
      "sourceType": "notebook"
    },
    "kernelspec": {
      "display_name": "Python 3",
      "language": "python",
      "name": "python3"
    },
    "language_info": {
      "codemirror_mode": {
        "name": "ipython",
        "version": 3
      },
      "file_extension": ".py",
      "mimetype": "text/x-python",
      "name": "python",
      "nbconvert_exporter": "python",
      "pygments_lexer": "ipython3",
      "version": "3.12.6"
    },
    "widgets": {
      "application/vnd.jupyter.widget-state+json": {
        "0a861b919a1b4516a915b7f3b098abf9": {
          "model_module": "@jupyter-widgets/base",
          "model_module_version": "1.2.0",
          "model_name": "LayoutModel",
          "state": {
            "_model_module": "@jupyter-widgets/base",
            "_model_module_version": "1.2.0",
            "_model_name": "LayoutModel",
            "_view_count": null,
            "_view_module": "@jupyter-widgets/base",
            "_view_module_version": "1.2.0",
            "_view_name": "LayoutView",
            "align_content": null,
            "align_items": null,
            "align_self": null,
            "border": null,
            "bottom": null,
            "display": null,
            "flex": null,
            "flex_flow": null,
            "grid_area": null,
            "grid_auto_columns": null,
            "grid_auto_flow": null,
            "grid_auto_rows": null,
            "grid_column": null,
            "grid_gap": null,
            "grid_row": null,
            "grid_template_areas": null,
            "grid_template_columns": null,
            "grid_template_rows": null,
            "height": null,
            "justify_content": null,
            "justify_items": null,
            "left": null,
            "margin": null,
            "max_height": null,
            "max_width": null,
            "min_height": null,
            "min_width": null,
            "object_fit": null,
            "object_position": null,
            "order": null,
            "overflow": null,
            "overflow_x": null,
            "overflow_y": null,
            "padding": null,
            "right": null,
            "top": null,
            "visibility": null,
            "width": null
          }
        },
        "0ddbe0d1d1e14190a562fbfbed1d55c5": {
          "model_module": "@jupyter-widgets/controls",
          "model_module_version": "1.5.0",
          "model_name": "DescriptionStyleModel",
          "state": {
            "_model_module": "@jupyter-widgets/controls",
            "_model_module_version": "1.5.0",
            "_model_name": "DescriptionStyleModel",
            "_view_count": null,
            "_view_module": "@jupyter-widgets/base",
            "_view_module_version": "1.2.0",
            "_view_name": "StyleView",
            "description_width": ""
          }
        },
        "24a10bb49fdb40ea8ae52d2f2d2fe1bf": {
          "model_module": "@jupyter-widgets/controls",
          "model_module_version": "1.5.0",
          "model_name": "HBoxModel",
          "state": {
            "_dom_classes": [],
            "_model_module": "@jupyter-widgets/controls",
            "_model_module_version": "1.5.0",
            "_model_name": "HBoxModel",
            "_view_count": null,
            "_view_module": "@jupyter-widgets/controls",
            "_view_module_version": "1.5.0",
            "_view_name": "HBoxView",
            "box_style": "",
            "children": [
              "IPY_MODEL_ae6f56871dbb43c88cdd2478d7a9b49f",
              "IPY_MODEL_61ef1ef9eb7a440ba7122089174fdf2d",
              "IPY_MODEL_5df28f85d21d4977b85eeaaf9b3580d2"
            ],
            "layout": "IPY_MODEL_b4e519deb7744ac2a688bff0b34b389f"
          }
        },
        "275a8c7642084e70888d455e09081471": {
          "model_module": "@jupyter-widgets/controls",
          "model_module_version": "1.5.0",
          "model_name": "ProgressStyleModel",
          "state": {
            "_model_module": "@jupyter-widgets/controls",
            "_model_module_version": "1.5.0",
            "_model_name": "ProgressStyleModel",
            "_view_count": null,
            "_view_module": "@jupyter-widgets/base",
            "_view_module_version": "1.2.0",
            "_view_name": "StyleView",
            "bar_color": null,
            "description_width": ""
          }
        },
        "2a4ab17e711d4b2997a2c9be3aa35930": {
          "model_module": "@jupyter-widgets/controls",
          "model_module_version": "1.5.0",
          "model_name": "DescriptionStyleModel",
          "state": {
            "_model_module": "@jupyter-widgets/controls",
            "_model_module_version": "1.5.0",
            "_model_name": "DescriptionStyleModel",
            "_view_count": null,
            "_view_module": "@jupyter-widgets/base",
            "_view_module_version": "1.2.0",
            "_view_name": "StyleView",
            "description_width": ""
          }
        },
        "2ffc184a3cff429a8e2e62296319b540": {
          "model_module": "@jupyter-widgets/base",
          "model_module_version": "1.2.0",
          "model_name": "LayoutModel",
          "state": {
            "_model_module": "@jupyter-widgets/base",
            "_model_module_version": "1.2.0",
            "_model_name": "LayoutModel",
            "_view_count": null,
            "_view_module": "@jupyter-widgets/base",
            "_view_module_version": "1.2.0",
            "_view_name": "LayoutView",
            "align_content": null,
            "align_items": null,
            "align_self": null,
            "border": null,
            "bottom": null,
            "display": null,
            "flex": null,
            "flex_flow": null,
            "grid_area": null,
            "grid_auto_columns": null,
            "grid_auto_flow": null,
            "grid_auto_rows": null,
            "grid_column": null,
            "grid_gap": null,
            "grid_row": null,
            "grid_template_areas": null,
            "grid_template_columns": null,
            "grid_template_rows": null,
            "height": null,
            "justify_content": null,
            "justify_items": null,
            "left": null,
            "margin": null,
            "max_height": null,
            "max_width": null,
            "min_height": null,
            "min_width": null,
            "object_fit": null,
            "object_position": null,
            "order": null,
            "overflow": null,
            "overflow_x": null,
            "overflow_y": null,
            "padding": null,
            "right": null,
            "top": null,
            "visibility": null,
            "width": null
          }
        },
        "31d6dd11e1b14fba9974dab1e5d7996d": {
          "model_module": "@jupyter-widgets/base",
          "model_module_version": "1.2.0",
          "model_name": "LayoutModel",
          "state": {
            "_model_module": "@jupyter-widgets/base",
            "_model_module_version": "1.2.0",
            "_model_name": "LayoutModel",
            "_view_count": null,
            "_view_module": "@jupyter-widgets/base",
            "_view_module_version": "1.2.0",
            "_view_name": "LayoutView",
            "align_content": null,
            "align_items": null,
            "align_self": null,
            "border": null,
            "bottom": null,
            "display": null,
            "flex": null,
            "flex_flow": null,
            "grid_area": null,
            "grid_auto_columns": null,
            "grid_auto_flow": null,
            "grid_auto_rows": null,
            "grid_column": null,
            "grid_gap": null,
            "grid_row": null,
            "grid_template_areas": null,
            "grid_template_columns": null,
            "grid_template_rows": null,
            "height": null,
            "justify_content": null,
            "justify_items": null,
            "left": null,
            "margin": null,
            "max_height": null,
            "max_width": null,
            "min_height": null,
            "min_width": null,
            "object_fit": null,
            "object_position": null,
            "order": null,
            "overflow": null,
            "overflow_x": null,
            "overflow_y": null,
            "padding": null,
            "right": null,
            "top": null,
            "visibility": null,
            "width": null
          }
        },
        "3646eae10cd74f8bad15bb3ce6596409": {
          "model_module": "@jupyter-widgets/base",
          "model_module_version": "1.2.0",
          "model_name": "LayoutModel",
          "state": {
            "_model_module": "@jupyter-widgets/base",
            "_model_module_version": "1.2.0",
            "_model_name": "LayoutModel",
            "_view_count": null,
            "_view_module": "@jupyter-widgets/base",
            "_view_module_version": "1.2.0",
            "_view_name": "LayoutView",
            "align_content": null,
            "align_items": null,
            "align_self": null,
            "border": null,
            "bottom": null,
            "display": null,
            "flex": null,
            "flex_flow": null,
            "grid_area": null,
            "grid_auto_columns": null,
            "grid_auto_flow": null,
            "grid_auto_rows": null,
            "grid_column": null,
            "grid_gap": null,
            "grid_row": null,
            "grid_template_areas": null,
            "grid_template_columns": null,
            "grid_template_rows": null,
            "height": null,
            "justify_content": null,
            "justify_items": null,
            "left": null,
            "margin": null,
            "max_height": null,
            "max_width": null,
            "min_height": null,
            "min_width": null,
            "object_fit": null,
            "object_position": null,
            "order": null,
            "overflow": null,
            "overflow_x": null,
            "overflow_y": null,
            "padding": null,
            "right": null,
            "top": null,
            "visibility": null,
            "width": null
          }
        },
        "37464a41c44d4d288b6d1129a456b8ed": {
          "model_module": "@jupyter-widgets/controls",
          "model_module_version": "1.5.0",
          "model_name": "ProgressStyleModel",
          "state": {
            "_model_module": "@jupyter-widgets/controls",
            "_model_module_version": "1.5.0",
            "_model_name": "ProgressStyleModel",
            "_view_count": null,
            "_view_module": "@jupyter-widgets/base",
            "_view_module_version": "1.2.0",
            "_view_name": "StyleView",
            "bar_color": null,
            "description_width": ""
          }
        },
        "386e0dea77ed41f6b2223051c9aca74a": {
          "model_module": "@jupyter-widgets/controls",
          "model_module_version": "1.5.0",
          "model_name": "DescriptionStyleModel",
          "state": {
            "_model_module": "@jupyter-widgets/controls",
            "_model_module_version": "1.5.0",
            "_model_name": "DescriptionStyleModel",
            "_view_count": null,
            "_view_module": "@jupyter-widgets/base",
            "_view_module_version": "1.2.0",
            "_view_name": "StyleView",
            "description_width": ""
          }
        },
        "3b697af730894e299ea05a2fec81ea55": {
          "model_module": "@jupyter-widgets/controls",
          "model_module_version": "1.5.0",
          "model_name": "HTMLModel",
          "state": {
            "_dom_classes": [],
            "_model_module": "@jupyter-widgets/controls",
            "_model_module_version": "1.5.0",
            "_model_name": "HTMLModel",
            "_view_count": null,
            "_view_module": "@jupyter-widgets/controls",
            "_view_module_version": "1.5.0",
            "_view_name": "HTMLView",
            "description": "",
            "description_tooltip": null,
            "layout": "IPY_MODEL_6feac9ee1a5344ba952ed60a22120473",
            "placeholder": "​",
            "style": "IPY_MODEL_eb5182bf944f4b6f9c68a83b7f696017",
            "value": "tokenizer.json: 100%"
          }
        },
        "41f1868322f34c69b806da3c1aeb699d": {
          "model_module": "@jupyter-widgets/controls",
          "model_module_version": "1.5.0",
          "model_name": "DescriptionStyleModel",
          "state": {
            "_model_module": "@jupyter-widgets/controls",
            "_model_module_version": "1.5.0",
            "_model_name": "DescriptionStyleModel",
            "_view_count": null,
            "_view_module": "@jupyter-widgets/base",
            "_view_module_version": "1.2.0",
            "_view_name": "StyleView",
            "description_width": ""
          }
        },
        "4659c078b5de43948cb3f073cf4eedb1": {
          "model_module": "@jupyter-widgets/base",
          "model_module_version": "1.2.0",
          "model_name": "LayoutModel",
          "state": {
            "_model_module": "@jupyter-widgets/base",
            "_model_module_version": "1.2.0",
            "_model_name": "LayoutModel",
            "_view_count": null,
            "_view_module": "@jupyter-widgets/base",
            "_view_module_version": "1.2.0",
            "_view_name": "LayoutView",
            "align_content": null,
            "align_items": null,
            "align_self": null,
            "border": null,
            "bottom": null,
            "display": null,
            "flex": null,
            "flex_flow": null,
            "grid_area": null,
            "grid_auto_columns": null,
            "grid_auto_flow": null,
            "grid_auto_rows": null,
            "grid_column": null,
            "grid_gap": null,
            "grid_row": null,
            "grid_template_areas": null,
            "grid_template_columns": null,
            "grid_template_rows": null,
            "height": null,
            "justify_content": null,
            "justify_items": null,
            "left": null,
            "margin": null,
            "max_height": null,
            "max_width": null,
            "min_height": null,
            "min_width": null,
            "object_fit": null,
            "object_position": null,
            "order": null,
            "overflow": null,
            "overflow_x": null,
            "overflow_y": null,
            "padding": null,
            "right": null,
            "top": null,
            "visibility": null,
            "width": null
          }
        },
        "4832cb08090448af921036d70c3ade3b": {
          "model_module": "@jupyter-widgets/base",
          "model_module_version": "1.2.0",
          "model_name": "LayoutModel",
          "state": {
            "_model_module": "@jupyter-widgets/base",
            "_model_module_version": "1.2.0",
            "_model_name": "LayoutModel",
            "_view_count": null,
            "_view_module": "@jupyter-widgets/base",
            "_view_module_version": "1.2.0",
            "_view_name": "LayoutView",
            "align_content": null,
            "align_items": null,
            "align_self": null,
            "border": null,
            "bottom": null,
            "display": null,
            "flex": null,
            "flex_flow": null,
            "grid_area": null,
            "grid_auto_columns": null,
            "grid_auto_flow": null,
            "grid_auto_rows": null,
            "grid_column": null,
            "grid_gap": null,
            "grid_row": null,
            "grid_template_areas": null,
            "grid_template_columns": null,
            "grid_template_rows": null,
            "height": null,
            "justify_content": null,
            "justify_items": null,
            "left": null,
            "margin": null,
            "max_height": null,
            "max_width": null,
            "min_height": null,
            "min_width": null,
            "object_fit": null,
            "object_position": null,
            "order": null,
            "overflow": null,
            "overflow_x": null,
            "overflow_y": null,
            "padding": null,
            "right": null,
            "top": null,
            "visibility": null,
            "width": null
          }
        },
        "4f939b13a9d14c8c8503d1d3c45bd1ac": {
          "model_module": "@jupyter-widgets/base",
          "model_module_version": "1.2.0",
          "model_name": "LayoutModel",
          "state": {
            "_model_module": "@jupyter-widgets/base",
            "_model_module_version": "1.2.0",
            "_model_name": "LayoutModel",
            "_view_count": null,
            "_view_module": "@jupyter-widgets/base",
            "_view_module_version": "1.2.0",
            "_view_name": "LayoutView",
            "align_content": null,
            "align_items": null,
            "align_self": null,
            "border": null,
            "bottom": null,
            "display": null,
            "flex": null,
            "flex_flow": null,
            "grid_area": null,
            "grid_auto_columns": null,
            "grid_auto_flow": null,
            "grid_auto_rows": null,
            "grid_column": null,
            "grid_gap": null,
            "grid_row": null,
            "grid_template_areas": null,
            "grid_template_columns": null,
            "grid_template_rows": null,
            "height": null,
            "justify_content": null,
            "justify_items": null,
            "left": null,
            "margin": null,
            "max_height": null,
            "max_width": null,
            "min_height": null,
            "min_width": null,
            "object_fit": null,
            "object_position": null,
            "order": null,
            "overflow": null,
            "overflow_x": null,
            "overflow_y": null,
            "padding": null,
            "right": null,
            "top": null,
            "visibility": null,
            "width": null
          }
        },
        "586cd56cd68b41f893c4bbcdb6cb5da5": {
          "model_module": "@jupyter-widgets/controls",
          "model_module_version": "1.5.0",
          "model_name": "HTMLModel",
          "state": {
            "_dom_classes": [],
            "_model_module": "@jupyter-widgets/controls",
            "_model_module_version": "1.5.0",
            "_model_name": "HTMLModel",
            "_view_count": null,
            "_view_module": "@jupyter-widgets/controls",
            "_view_module_version": "1.5.0",
            "_view_name": "HTMLView",
            "description": "",
            "description_tooltip": null,
            "layout": "IPY_MODEL_f23d80f61b254d1690643f89b11acdd4",
            "placeholder": "​",
            "style": "IPY_MODEL_5c88b950763e418fb4f023eefa4b31d2",
            "value": " 48.0/48.0 [00:00&lt;00:00, 3.11kB/s]"
          }
        },
        "5c88b950763e418fb4f023eefa4b31d2": {
          "model_module": "@jupyter-widgets/controls",
          "model_module_version": "1.5.0",
          "model_name": "DescriptionStyleModel",
          "state": {
            "_model_module": "@jupyter-widgets/controls",
            "_model_module_version": "1.5.0",
            "_model_name": "DescriptionStyleModel",
            "_view_count": null,
            "_view_module": "@jupyter-widgets/base",
            "_view_module_version": "1.2.0",
            "_view_name": "StyleView",
            "description_width": ""
          }
        },
        "5dbadb7241d94ad69148df4601b0c5ec": {
          "model_module": "@jupyter-widgets/base",
          "model_module_version": "1.2.0",
          "model_name": "LayoutModel",
          "state": {
            "_model_module": "@jupyter-widgets/base",
            "_model_module_version": "1.2.0",
            "_model_name": "LayoutModel",
            "_view_count": null,
            "_view_module": "@jupyter-widgets/base",
            "_view_module_version": "1.2.0",
            "_view_name": "LayoutView",
            "align_content": null,
            "align_items": null,
            "align_self": null,
            "border": null,
            "bottom": null,
            "display": null,
            "flex": null,
            "flex_flow": null,
            "grid_area": null,
            "grid_auto_columns": null,
            "grid_auto_flow": null,
            "grid_auto_rows": null,
            "grid_column": null,
            "grid_gap": null,
            "grid_row": null,
            "grid_template_areas": null,
            "grid_template_columns": null,
            "grid_template_rows": null,
            "height": null,
            "justify_content": null,
            "justify_items": null,
            "left": null,
            "margin": null,
            "max_height": null,
            "max_width": null,
            "min_height": null,
            "min_width": null,
            "object_fit": null,
            "object_position": null,
            "order": null,
            "overflow": null,
            "overflow_x": null,
            "overflow_y": null,
            "padding": null,
            "right": null,
            "top": null,
            "visibility": null,
            "width": null
          }
        },
        "5df28f85d21d4977b85eeaaf9b3580d2": {
          "model_module": "@jupyter-widgets/controls",
          "model_module_version": "1.5.0",
          "model_name": "HTMLModel",
          "state": {
            "_dom_classes": [],
            "_model_module": "@jupyter-widgets/controls",
            "_model_module_version": "1.5.0",
            "_model_name": "HTMLModel",
            "_view_count": null,
            "_view_module": "@jupyter-widgets/controls",
            "_view_module_version": "1.5.0",
            "_view_name": "HTMLView",
            "description": "",
            "description_tooltip": null,
            "layout": "IPY_MODEL_4f939b13a9d14c8c8503d1d3c45bd1ac",
            "placeholder": "​",
            "style": "IPY_MODEL_41f1868322f34c69b806da3c1aeb699d",
            "value": " 232k/232k [00:00&lt;00:00, 2.88MB/s]"
          }
        },
        "61ef1ef9eb7a440ba7122089174fdf2d": {
          "model_module": "@jupyter-widgets/controls",
          "model_module_version": "1.5.0",
          "model_name": "FloatProgressModel",
          "state": {
            "_dom_classes": [],
            "_model_module": "@jupyter-widgets/controls",
            "_model_module_version": "1.5.0",
            "_model_name": "FloatProgressModel",
            "_view_count": null,
            "_view_module": "@jupyter-widgets/controls",
            "_view_module_version": "1.5.0",
            "_view_name": "ProgressView",
            "bar_style": "success",
            "description": "",
            "description_tooltip": null,
            "layout": "IPY_MODEL_0a861b919a1b4516a915b7f3b098abf9",
            "max": 231508,
            "min": 0,
            "orientation": "horizontal",
            "style": "IPY_MODEL_f4ff20e430e149099ff70b10458579a8",
            "value": 231508
          }
        },
        "6feac9ee1a5344ba952ed60a22120473": {
          "model_module": "@jupyter-widgets/base",
          "model_module_version": "1.2.0",
          "model_name": "LayoutModel",
          "state": {
            "_model_module": "@jupyter-widgets/base",
            "_model_module_version": "1.2.0",
            "_model_name": "LayoutModel",
            "_view_count": null,
            "_view_module": "@jupyter-widgets/base",
            "_view_module_version": "1.2.0",
            "_view_name": "LayoutView",
            "align_content": null,
            "align_items": null,
            "align_self": null,
            "border": null,
            "bottom": null,
            "display": null,
            "flex": null,
            "flex_flow": null,
            "grid_area": null,
            "grid_auto_columns": null,
            "grid_auto_flow": null,
            "grid_auto_rows": null,
            "grid_column": null,
            "grid_gap": null,
            "grid_row": null,
            "grid_template_areas": null,
            "grid_template_columns": null,
            "grid_template_rows": null,
            "height": null,
            "justify_content": null,
            "justify_items": null,
            "left": null,
            "margin": null,
            "max_height": null,
            "max_width": null,
            "min_height": null,
            "min_width": null,
            "object_fit": null,
            "object_position": null,
            "order": null,
            "overflow": null,
            "overflow_x": null,
            "overflow_y": null,
            "padding": null,
            "right": null,
            "top": null,
            "visibility": null,
            "width": null
          }
        },
        "70b234318fca425ab4f8dfa8784834de": {
          "model_module": "@jupyter-widgets/controls",
          "model_module_version": "1.5.0",
          "model_name": "HTMLModel",
          "state": {
            "_dom_classes": [],
            "_model_module": "@jupyter-widgets/controls",
            "_model_module_version": "1.5.0",
            "_model_name": "HTMLModel",
            "_view_count": null,
            "_view_module": "@jupyter-widgets/controls",
            "_view_module_version": "1.5.0",
            "_view_name": "HTMLView",
            "description": "",
            "description_tooltip": null,
            "layout": "IPY_MODEL_5dbadb7241d94ad69148df4601b0c5ec",
            "placeholder": "​",
            "style": "IPY_MODEL_2a4ab17e711d4b2997a2c9be3aa35930",
            "value": " 466k/466k [00:00&lt;00:00, 22.8MB/s]"
          }
        },
        "73502547b64f405690704884a093d71f": {
          "model_module": "@jupyter-widgets/base",
          "model_module_version": "1.2.0",
          "model_name": "LayoutModel",
          "state": {
            "_model_module": "@jupyter-widgets/base",
            "_model_module_version": "1.2.0",
            "_model_name": "LayoutModel",
            "_view_count": null,
            "_view_module": "@jupyter-widgets/base",
            "_view_module_version": "1.2.0",
            "_view_name": "LayoutView",
            "align_content": null,
            "align_items": null,
            "align_self": null,
            "border": null,
            "bottom": null,
            "display": null,
            "flex": null,
            "flex_flow": null,
            "grid_area": null,
            "grid_auto_columns": null,
            "grid_auto_flow": null,
            "grid_auto_rows": null,
            "grid_column": null,
            "grid_gap": null,
            "grid_row": null,
            "grid_template_areas": null,
            "grid_template_columns": null,
            "grid_template_rows": null,
            "height": null,
            "justify_content": null,
            "justify_items": null,
            "left": null,
            "margin": null,
            "max_height": null,
            "max_width": null,
            "min_height": null,
            "min_width": null,
            "object_fit": null,
            "object_position": null,
            "order": null,
            "overflow": null,
            "overflow_x": null,
            "overflow_y": null,
            "padding": null,
            "right": null,
            "top": null,
            "visibility": null,
            "width": null
          }
        },
        "743d44e2c85042759dbbedce7fce3c7f": {
          "model_module": "@jupyter-widgets/controls",
          "model_module_version": "1.5.0",
          "model_name": "DescriptionStyleModel",
          "state": {
            "_model_module": "@jupyter-widgets/controls",
            "_model_module_version": "1.5.0",
            "_model_name": "DescriptionStyleModel",
            "_view_count": null,
            "_view_module": "@jupyter-widgets/base",
            "_view_module_version": "1.2.0",
            "_view_name": "StyleView",
            "description_width": ""
          }
        },
        "82601c7efe274d50bd815f4e8106fcc4": {
          "model_module": "@jupyter-widgets/base",
          "model_module_version": "1.2.0",
          "model_name": "LayoutModel",
          "state": {
            "_model_module": "@jupyter-widgets/base",
            "_model_module_version": "1.2.0",
            "_model_name": "LayoutModel",
            "_view_count": null,
            "_view_module": "@jupyter-widgets/base",
            "_view_module_version": "1.2.0",
            "_view_name": "LayoutView",
            "align_content": null,
            "align_items": null,
            "align_self": null,
            "border": null,
            "bottom": null,
            "display": null,
            "flex": null,
            "flex_flow": null,
            "grid_area": null,
            "grid_auto_columns": null,
            "grid_auto_flow": null,
            "grid_auto_rows": null,
            "grid_column": null,
            "grid_gap": null,
            "grid_row": null,
            "grid_template_areas": null,
            "grid_template_columns": null,
            "grid_template_rows": null,
            "height": null,
            "justify_content": null,
            "justify_items": null,
            "left": null,
            "margin": null,
            "max_height": null,
            "max_width": null,
            "min_height": null,
            "min_width": null,
            "object_fit": null,
            "object_position": null,
            "order": null,
            "overflow": null,
            "overflow_x": null,
            "overflow_y": null,
            "padding": null,
            "right": null,
            "top": null,
            "visibility": null,
            "width": null
          }
        },
        "9315a4ea5007451ca6495e2015e504ac": {
          "model_module": "@jupyter-widgets/controls",
          "model_module_version": "1.5.0",
          "model_name": "HTMLModel",
          "state": {
            "_dom_classes": [],
            "_model_module": "@jupyter-widgets/controls",
            "_model_module_version": "1.5.0",
            "_model_name": "HTMLModel",
            "_view_count": null,
            "_view_module": "@jupyter-widgets/controls",
            "_view_module_version": "1.5.0",
            "_view_name": "HTMLView",
            "description": "",
            "description_tooltip": null,
            "layout": "IPY_MODEL_fae7935a75c142e4b7b8ecf5421e7703",
            "placeholder": "​",
            "style": "IPY_MODEL_743d44e2c85042759dbbedce7fce3c7f",
            "value": "tokenizer_config.json: 100%"
          }
        },
        "97a2721df97f4e87a669b63a616be55f": {
          "model_module": "@jupyter-widgets/controls",
          "model_module_version": "1.5.0",
          "model_name": "HTMLModel",
          "state": {
            "_dom_classes": [],
            "_model_module": "@jupyter-widgets/controls",
            "_model_module_version": "1.5.0",
            "_model_name": "HTMLModel",
            "_view_count": null,
            "_view_module": "@jupyter-widgets/controls",
            "_view_module_version": "1.5.0",
            "_view_name": "HTMLView",
            "description": "",
            "description_tooltip": null,
            "layout": "IPY_MODEL_e95b7f7fbd054af09b4e59f25ed3dd23",
            "placeholder": "​",
            "style": "IPY_MODEL_f4e70203ab614263adb50fcd8f9acc10",
            "value": " 440M/440M [00:03&lt;00:00, 108MB/s]"
          }
        },
        "a554d23de93b442f9f402cd0eaabe3fb": {
          "model_module": "@jupyter-widgets/controls",
          "model_module_version": "1.5.0",
          "model_name": "DescriptionStyleModel",
          "state": {
            "_model_module": "@jupyter-widgets/controls",
            "_model_module_version": "1.5.0",
            "_model_name": "DescriptionStyleModel",
            "_view_count": null,
            "_view_module": "@jupyter-widgets/base",
            "_view_module_version": "1.2.0",
            "_view_name": "StyleView",
            "description_width": ""
          }
        },
        "a62d1a510bb24d8697f95d57a4c2888c": {
          "model_module": "@jupyter-widgets/controls",
          "model_module_version": "1.5.0",
          "model_name": "DescriptionStyleModel",
          "state": {
            "_model_module": "@jupyter-widgets/controls",
            "_model_module_version": "1.5.0",
            "_model_name": "DescriptionStyleModel",
            "_view_count": null,
            "_view_module": "@jupyter-widgets/base",
            "_view_module_version": "1.2.0",
            "_view_name": "StyleView",
            "description_width": ""
          }
        },
        "a765598396b34e1a85e96f853f13b4f2": {
          "model_module": "@jupyter-widgets/controls",
          "model_module_version": "1.5.0",
          "model_name": "FloatProgressModel",
          "state": {
            "_dom_classes": [],
            "_model_module": "@jupyter-widgets/controls",
            "_model_module_version": "1.5.0",
            "_model_name": "FloatProgressModel",
            "_view_count": null,
            "_view_module": "@jupyter-widgets/controls",
            "_view_module_version": "1.5.0",
            "_view_name": "ProgressView",
            "bar_style": "success",
            "description": "",
            "description_tooltip": null,
            "layout": "IPY_MODEL_ce6ed28cf93f49cb8eef694f01d6b1a9",
            "max": 570,
            "min": 0,
            "orientation": "horizontal",
            "style": "IPY_MODEL_275a8c7642084e70888d455e09081471",
            "value": 570
          }
        },
        "aace0bd0fd3d4f409d042d2031e3799e": {
          "model_module": "@jupyter-widgets/controls",
          "model_module_version": "1.5.0",
          "model_name": "HTMLModel",
          "state": {
            "_dom_classes": [],
            "_model_module": "@jupyter-widgets/controls",
            "_model_module_version": "1.5.0",
            "_model_name": "HTMLModel",
            "_view_count": null,
            "_view_module": "@jupyter-widgets/controls",
            "_view_module_version": "1.5.0",
            "_view_name": "HTMLView",
            "description": "",
            "description_tooltip": null,
            "layout": "IPY_MODEL_73502547b64f405690704884a093d71f",
            "placeholder": "​",
            "style": "IPY_MODEL_a554d23de93b442f9f402cd0eaabe3fb",
            "value": " 570/570 [00:00&lt;00:00, 9.81kB/s]"
          }
        },
        "ae6f56871dbb43c88cdd2478d7a9b49f": {
          "model_module": "@jupyter-widgets/controls",
          "model_module_version": "1.5.0",
          "model_name": "HTMLModel",
          "state": {
            "_dom_classes": [],
            "_model_module": "@jupyter-widgets/controls",
            "_model_module_version": "1.5.0",
            "_model_name": "HTMLModel",
            "_view_count": null,
            "_view_module": "@jupyter-widgets/controls",
            "_view_module_version": "1.5.0",
            "_view_name": "HTMLView",
            "description": "",
            "description_tooltip": null,
            "layout": "IPY_MODEL_82601c7efe274d50bd815f4e8106fcc4",
            "placeholder": "​",
            "style": "IPY_MODEL_0ddbe0d1d1e14190a562fbfbed1d55c5",
            "value": "vocab.txt: 100%"
          }
        },
        "b4e519deb7744ac2a688bff0b34b389f": {
          "model_module": "@jupyter-widgets/base",
          "model_module_version": "1.2.0",
          "model_name": "LayoutModel",
          "state": {
            "_model_module": "@jupyter-widgets/base",
            "_model_module_version": "1.2.0",
            "_model_name": "LayoutModel",
            "_view_count": null,
            "_view_module": "@jupyter-widgets/base",
            "_view_module_version": "1.2.0",
            "_view_name": "LayoutView",
            "align_content": null,
            "align_items": null,
            "align_self": null,
            "border": null,
            "bottom": null,
            "display": null,
            "flex": null,
            "flex_flow": null,
            "grid_area": null,
            "grid_auto_columns": null,
            "grid_auto_flow": null,
            "grid_auto_rows": null,
            "grid_column": null,
            "grid_gap": null,
            "grid_row": null,
            "grid_template_areas": null,
            "grid_template_columns": null,
            "grid_template_rows": null,
            "height": null,
            "justify_content": null,
            "justify_items": null,
            "left": null,
            "margin": null,
            "max_height": null,
            "max_width": null,
            "min_height": null,
            "min_width": null,
            "object_fit": null,
            "object_position": null,
            "order": null,
            "overflow": null,
            "overflow_x": null,
            "overflow_y": null,
            "padding": null,
            "right": null,
            "top": null,
            "visibility": null,
            "width": null
          }
        },
        "b6de4a59e62f49e28177fc2b8be69344": {
          "model_module": "@jupyter-widgets/controls",
          "model_module_version": "1.5.0",
          "model_name": "HTMLModel",
          "state": {
            "_dom_classes": [],
            "_model_module": "@jupyter-widgets/controls",
            "_model_module_version": "1.5.0",
            "_model_name": "HTMLModel",
            "_view_count": null,
            "_view_module": "@jupyter-widgets/controls",
            "_view_module_version": "1.5.0",
            "_view_name": "HTMLView",
            "description": "",
            "description_tooltip": null,
            "layout": "IPY_MODEL_4659c078b5de43948cb3f073cf4eedb1",
            "placeholder": "​",
            "style": "IPY_MODEL_386e0dea77ed41f6b2223051c9aca74a",
            "value": "model.safetensors: 100%"
          }
        },
        "cd8f9da685a54bb68c1a7d3aac714486": {
          "model_module": "@jupyter-widgets/base",
          "model_module_version": "1.2.0",
          "model_name": "LayoutModel",
          "state": {
            "_model_module": "@jupyter-widgets/base",
            "_model_module_version": "1.2.0",
            "_model_name": "LayoutModel",
            "_view_count": null,
            "_view_module": "@jupyter-widgets/base",
            "_view_module_version": "1.2.0",
            "_view_name": "LayoutView",
            "align_content": null,
            "align_items": null,
            "align_self": null,
            "border": null,
            "bottom": null,
            "display": null,
            "flex": null,
            "flex_flow": null,
            "grid_area": null,
            "grid_auto_columns": null,
            "grid_auto_flow": null,
            "grid_auto_rows": null,
            "grid_column": null,
            "grid_gap": null,
            "grid_row": null,
            "grid_template_areas": null,
            "grid_template_columns": null,
            "grid_template_rows": null,
            "height": null,
            "justify_content": null,
            "justify_items": null,
            "left": null,
            "margin": null,
            "max_height": null,
            "max_width": null,
            "min_height": null,
            "min_width": null,
            "object_fit": null,
            "object_position": null,
            "order": null,
            "overflow": null,
            "overflow_x": null,
            "overflow_y": null,
            "padding": null,
            "right": null,
            "top": null,
            "visibility": null,
            "width": null
          }
        },
        "ce6ed28cf93f49cb8eef694f01d6b1a9": {
          "model_module": "@jupyter-widgets/base",
          "model_module_version": "1.2.0",
          "model_name": "LayoutModel",
          "state": {
            "_model_module": "@jupyter-widgets/base",
            "_model_module_version": "1.2.0",
            "_model_name": "LayoutModel",
            "_view_count": null,
            "_view_module": "@jupyter-widgets/base",
            "_view_module_version": "1.2.0",
            "_view_name": "LayoutView",
            "align_content": null,
            "align_items": null,
            "align_self": null,
            "border": null,
            "bottom": null,
            "display": null,
            "flex": null,
            "flex_flow": null,
            "grid_area": null,
            "grid_auto_columns": null,
            "grid_auto_flow": null,
            "grid_auto_rows": null,
            "grid_column": null,
            "grid_gap": null,
            "grid_row": null,
            "grid_template_areas": null,
            "grid_template_columns": null,
            "grid_template_rows": null,
            "height": null,
            "justify_content": null,
            "justify_items": null,
            "left": null,
            "margin": null,
            "max_height": null,
            "max_width": null,
            "min_height": null,
            "min_width": null,
            "object_fit": null,
            "object_position": null,
            "order": null,
            "overflow": null,
            "overflow_x": null,
            "overflow_y": null,
            "padding": null,
            "right": null,
            "top": null,
            "visibility": null,
            "width": null
          }
        },
        "d0e23c3d815148c1b68e2125148eaed5": {
          "model_module": "@jupyter-widgets/controls",
          "model_module_version": "1.5.0",
          "model_name": "FloatProgressModel",
          "state": {
            "_dom_classes": [],
            "_model_module": "@jupyter-widgets/controls",
            "_model_module_version": "1.5.0",
            "_model_name": "FloatProgressModel",
            "_view_count": null,
            "_view_module": "@jupyter-widgets/controls",
            "_view_module_version": "1.5.0",
            "_view_name": "ProgressView",
            "bar_style": "success",
            "description": "",
            "description_tooltip": null,
            "layout": "IPY_MODEL_2ffc184a3cff429a8e2e62296319b540",
            "max": 466062,
            "min": 0,
            "orientation": "horizontal",
            "style": "IPY_MODEL_37464a41c44d4d288b6d1129a456b8ed",
            "value": 466062
          }
        },
        "d2f01f8458844a78a41bf6e95892d6e3": {
          "model_module": "@jupyter-widgets/controls",
          "model_module_version": "1.5.0",
          "model_name": "ProgressStyleModel",
          "state": {
            "_model_module": "@jupyter-widgets/controls",
            "_model_module_version": "1.5.0",
            "_model_name": "ProgressStyleModel",
            "_view_count": null,
            "_view_module": "@jupyter-widgets/base",
            "_view_module_version": "1.2.0",
            "_view_name": "StyleView",
            "bar_color": null,
            "description_width": ""
          }
        },
        "dd01c757b8474b99b9e26e2ff7644380": {
          "model_module": "@jupyter-widgets/base",
          "model_module_version": "1.2.0",
          "model_name": "LayoutModel",
          "state": {
            "_model_module": "@jupyter-widgets/base",
            "_model_module_version": "1.2.0",
            "_model_name": "LayoutModel",
            "_view_count": null,
            "_view_module": "@jupyter-widgets/base",
            "_view_module_version": "1.2.0",
            "_view_name": "LayoutView",
            "align_content": null,
            "align_items": null,
            "align_self": null,
            "border": null,
            "bottom": null,
            "display": null,
            "flex": null,
            "flex_flow": null,
            "grid_area": null,
            "grid_auto_columns": null,
            "grid_auto_flow": null,
            "grid_auto_rows": null,
            "grid_column": null,
            "grid_gap": null,
            "grid_row": null,
            "grid_template_areas": null,
            "grid_template_columns": null,
            "grid_template_rows": null,
            "height": null,
            "justify_content": null,
            "justify_items": null,
            "left": null,
            "margin": null,
            "max_height": null,
            "max_width": null,
            "min_height": null,
            "min_width": null,
            "object_fit": null,
            "object_position": null,
            "order": null,
            "overflow": null,
            "overflow_x": null,
            "overflow_y": null,
            "padding": null,
            "right": null,
            "top": null,
            "visibility": null,
            "width": null
          }
        },
        "dfa58076c2294e8ea4a27471704ff007": {
          "model_module": "@jupyter-widgets/controls",
          "model_module_version": "1.5.0",
          "model_name": "HBoxModel",
          "state": {
            "_dom_classes": [],
            "_model_module": "@jupyter-widgets/controls",
            "_model_module_version": "1.5.0",
            "_model_name": "HBoxModel",
            "_view_count": null,
            "_view_module": "@jupyter-widgets/controls",
            "_view_module_version": "1.5.0",
            "_view_name": "HBoxView",
            "box_style": "",
            "children": [
              "IPY_MODEL_3b697af730894e299ea05a2fec81ea55",
              "IPY_MODEL_d0e23c3d815148c1b68e2125148eaed5",
              "IPY_MODEL_70b234318fca425ab4f8dfa8784834de"
            ],
            "layout": "IPY_MODEL_3646eae10cd74f8bad15bb3ce6596409"
          }
        },
        "e692ba9ab81f43b7a7e33b8f24973361": {
          "model_module": "@jupyter-widgets/controls",
          "model_module_version": "1.5.0",
          "model_name": "FloatProgressModel",
          "state": {
            "_dom_classes": [],
            "_model_module": "@jupyter-widgets/controls",
            "_model_module_version": "1.5.0",
            "_model_name": "FloatProgressModel",
            "_view_count": null,
            "_view_module": "@jupyter-widgets/controls",
            "_view_module_version": "1.5.0",
            "_view_name": "ProgressView",
            "bar_style": "success",
            "description": "",
            "description_tooltip": null,
            "layout": "IPY_MODEL_4832cb08090448af921036d70c3ade3b",
            "max": 48,
            "min": 0,
            "orientation": "horizontal",
            "style": "IPY_MODEL_d2f01f8458844a78a41bf6e95892d6e3",
            "value": 48
          }
        },
        "e95b7f7fbd054af09b4e59f25ed3dd23": {
          "model_module": "@jupyter-widgets/base",
          "model_module_version": "1.2.0",
          "model_name": "LayoutModel",
          "state": {
            "_model_module": "@jupyter-widgets/base",
            "_model_module_version": "1.2.0",
            "_model_name": "LayoutModel",
            "_view_count": null,
            "_view_module": "@jupyter-widgets/base",
            "_view_module_version": "1.2.0",
            "_view_name": "LayoutView",
            "align_content": null,
            "align_items": null,
            "align_self": null,
            "border": null,
            "bottom": null,
            "display": null,
            "flex": null,
            "flex_flow": null,
            "grid_area": null,
            "grid_auto_columns": null,
            "grid_auto_flow": null,
            "grid_auto_rows": null,
            "grid_column": null,
            "grid_gap": null,
            "grid_row": null,
            "grid_template_areas": null,
            "grid_template_columns": null,
            "grid_template_rows": null,
            "height": null,
            "justify_content": null,
            "justify_items": null,
            "left": null,
            "margin": null,
            "max_height": null,
            "max_width": null,
            "min_height": null,
            "min_width": null,
            "object_fit": null,
            "object_position": null,
            "order": null,
            "overflow": null,
            "overflow_x": null,
            "overflow_y": null,
            "padding": null,
            "right": null,
            "top": null,
            "visibility": null,
            "width": null
          }
        },
        "eb5182bf944f4b6f9c68a83b7f696017": {
          "model_module": "@jupyter-widgets/controls",
          "model_module_version": "1.5.0",
          "model_name": "DescriptionStyleModel",
          "state": {
            "_model_module": "@jupyter-widgets/controls",
            "_model_module_version": "1.5.0",
            "_model_name": "DescriptionStyleModel",
            "_view_count": null,
            "_view_module": "@jupyter-widgets/base",
            "_view_module_version": "1.2.0",
            "_view_name": "StyleView",
            "description_width": ""
          }
        },
        "ec60f5a5aad54069a623f7fac958aff5": {
          "model_module": "@jupyter-widgets/controls",
          "model_module_version": "1.5.0",
          "model_name": "HBoxModel",
          "state": {
            "_dom_classes": [],
            "_model_module": "@jupyter-widgets/controls",
            "_model_module_version": "1.5.0",
            "_model_name": "HBoxModel",
            "_view_count": null,
            "_view_module": "@jupyter-widgets/controls",
            "_view_module_version": "1.5.0",
            "_view_name": "HBoxView",
            "box_style": "",
            "children": [
              "IPY_MODEL_b6de4a59e62f49e28177fc2b8be69344",
              "IPY_MODEL_ee7ed5cf38db4a1fb6bebe4b991cf706",
              "IPY_MODEL_97a2721df97f4e87a669b63a616be55f"
            ],
            "layout": "IPY_MODEL_f2e02d08223843c98a6ef42c5e40b0cd"
          }
        },
        "ee7ed5cf38db4a1fb6bebe4b991cf706": {
          "model_module": "@jupyter-widgets/controls",
          "model_module_version": "1.5.0",
          "model_name": "FloatProgressModel",
          "state": {
            "_dom_classes": [],
            "_model_module": "@jupyter-widgets/controls",
            "_model_module_version": "1.5.0",
            "_model_name": "FloatProgressModel",
            "_view_count": null,
            "_view_module": "@jupyter-widgets/controls",
            "_view_module_version": "1.5.0",
            "_view_name": "ProgressView",
            "bar_style": "success",
            "description": "",
            "description_tooltip": null,
            "layout": "IPY_MODEL_cd8f9da685a54bb68c1a7d3aac714486",
            "max": 440449768,
            "min": 0,
            "orientation": "horizontal",
            "style": "IPY_MODEL_f520972122fa4a83862650efbb048f8d",
            "value": 440449768
          }
        },
        "f0ff135cdb00416e92736bc3101795b7": {
          "model_module": "@jupyter-widgets/controls",
          "model_module_version": "1.5.0",
          "model_name": "HBoxModel",
          "state": {
            "_dom_classes": [],
            "_model_module": "@jupyter-widgets/controls",
            "_model_module_version": "1.5.0",
            "_model_name": "HBoxModel",
            "_view_count": null,
            "_view_module": "@jupyter-widgets/controls",
            "_view_module_version": "1.5.0",
            "_view_name": "HBoxView",
            "box_style": "",
            "children": [
              "IPY_MODEL_9315a4ea5007451ca6495e2015e504ac",
              "IPY_MODEL_e692ba9ab81f43b7a7e33b8f24973361",
              "IPY_MODEL_586cd56cd68b41f893c4bbcdb6cb5da5"
            ],
            "layout": "IPY_MODEL_31d6dd11e1b14fba9974dab1e5d7996d"
          }
        },
        "f23d80f61b254d1690643f89b11acdd4": {
          "model_module": "@jupyter-widgets/base",
          "model_module_version": "1.2.0",
          "model_name": "LayoutModel",
          "state": {
            "_model_module": "@jupyter-widgets/base",
            "_model_module_version": "1.2.0",
            "_model_name": "LayoutModel",
            "_view_count": null,
            "_view_module": "@jupyter-widgets/base",
            "_view_module_version": "1.2.0",
            "_view_name": "LayoutView",
            "align_content": null,
            "align_items": null,
            "align_self": null,
            "border": null,
            "bottom": null,
            "display": null,
            "flex": null,
            "flex_flow": null,
            "grid_area": null,
            "grid_auto_columns": null,
            "grid_auto_flow": null,
            "grid_auto_rows": null,
            "grid_column": null,
            "grid_gap": null,
            "grid_row": null,
            "grid_template_areas": null,
            "grid_template_columns": null,
            "grid_template_rows": null,
            "height": null,
            "justify_content": null,
            "justify_items": null,
            "left": null,
            "margin": null,
            "max_height": null,
            "max_width": null,
            "min_height": null,
            "min_width": null,
            "object_fit": null,
            "object_position": null,
            "order": null,
            "overflow": null,
            "overflow_x": null,
            "overflow_y": null,
            "padding": null,
            "right": null,
            "top": null,
            "visibility": null,
            "width": null
          }
        },
        "f2e02d08223843c98a6ef42c5e40b0cd": {
          "model_module": "@jupyter-widgets/base",
          "model_module_version": "1.2.0",
          "model_name": "LayoutModel",
          "state": {
            "_model_module": "@jupyter-widgets/base",
            "_model_module_version": "1.2.0",
            "_model_name": "LayoutModel",
            "_view_count": null,
            "_view_module": "@jupyter-widgets/base",
            "_view_module_version": "1.2.0",
            "_view_name": "LayoutView",
            "align_content": null,
            "align_items": null,
            "align_self": null,
            "border": null,
            "bottom": null,
            "display": null,
            "flex": null,
            "flex_flow": null,
            "grid_area": null,
            "grid_auto_columns": null,
            "grid_auto_flow": null,
            "grid_auto_rows": null,
            "grid_column": null,
            "grid_gap": null,
            "grid_row": null,
            "grid_template_areas": null,
            "grid_template_columns": null,
            "grid_template_rows": null,
            "height": null,
            "justify_content": null,
            "justify_items": null,
            "left": null,
            "margin": null,
            "max_height": null,
            "max_width": null,
            "min_height": null,
            "min_width": null,
            "object_fit": null,
            "object_position": null,
            "order": null,
            "overflow": null,
            "overflow_x": null,
            "overflow_y": null,
            "padding": null,
            "right": null,
            "top": null,
            "visibility": null,
            "width": null
          }
        },
        "f4e70203ab614263adb50fcd8f9acc10": {
          "model_module": "@jupyter-widgets/controls",
          "model_module_version": "1.5.0",
          "model_name": "DescriptionStyleModel",
          "state": {
            "_model_module": "@jupyter-widgets/controls",
            "_model_module_version": "1.5.0",
            "_model_name": "DescriptionStyleModel",
            "_view_count": null,
            "_view_module": "@jupyter-widgets/base",
            "_view_module_version": "1.2.0",
            "_view_name": "StyleView",
            "description_width": ""
          }
        },
        "f4ff20e430e149099ff70b10458579a8": {
          "model_module": "@jupyter-widgets/controls",
          "model_module_version": "1.5.0",
          "model_name": "ProgressStyleModel",
          "state": {
            "_model_module": "@jupyter-widgets/controls",
            "_model_module_version": "1.5.0",
            "_model_name": "ProgressStyleModel",
            "_view_count": null,
            "_view_module": "@jupyter-widgets/base",
            "_view_module_version": "1.2.0",
            "_view_name": "StyleView",
            "bar_color": null,
            "description_width": ""
          }
        },
        "f520972122fa4a83862650efbb048f8d": {
          "model_module": "@jupyter-widgets/controls",
          "model_module_version": "1.5.0",
          "model_name": "ProgressStyleModel",
          "state": {
            "_model_module": "@jupyter-widgets/controls",
            "_model_module_version": "1.5.0",
            "_model_name": "ProgressStyleModel",
            "_view_count": null,
            "_view_module": "@jupyter-widgets/base",
            "_view_module_version": "1.2.0",
            "_view_name": "StyleView",
            "bar_color": null,
            "description_width": ""
          }
        },
        "f68c5d9dc4344d30a15a9e7a8e8cba2a": {
          "model_module": "@jupyter-widgets/base",
          "model_module_version": "1.2.0",
          "model_name": "LayoutModel",
          "state": {
            "_model_module": "@jupyter-widgets/base",
            "_model_module_version": "1.2.0",
            "_model_name": "LayoutModel",
            "_view_count": null,
            "_view_module": "@jupyter-widgets/base",
            "_view_module_version": "1.2.0",
            "_view_name": "LayoutView",
            "align_content": null,
            "align_items": null,
            "align_self": null,
            "border": null,
            "bottom": null,
            "display": null,
            "flex": null,
            "flex_flow": null,
            "grid_area": null,
            "grid_auto_columns": null,
            "grid_auto_flow": null,
            "grid_auto_rows": null,
            "grid_column": null,
            "grid_gap": null,
            "grid_row": null,
            "grid_template_areas": null,
            "grid_template_columns": null,
            "grid_template_rows": null,
            "height": null,
            "justify_content": null,
            "justify_items": null,
            "left": null,
            "margin": null,
            "max_height": null,
            "max_width": null,
            "min_height": null,
            "min_width": null,
            "object_fit": null,
            "object_position": null,
            "order": null,
            "overflow": null,
            "overflow_x": null,
            "overflow_y": null,
            "padding": null,
            "right": null,
            "top": null,
            "visibility": null,
            "width": null
          }
        },
        "fae7935a75c142e4b7b8ecf5421e7703": {
          "model_module": "@jupyter-widgets/base",
          "model_module_version": "1.2.0",
          "model_name": "LayoutModel",
          "state": {
            "_model_module": "@jupyter-widgets/base",
            "_model_module_version": "1.2.0",
            "_model_name": "LayoutModel",
            "_view_count": null,
            "_view_module": "@jupyter-widgets/base",
            "_view_module_version": "1.2.0",
            "_view_name": "LayoutView",
            "align_content": null,
            "align_items": null,
            "align_self": null,
            "border": null,
            "bottom": null,
            "display": null,
            "flex": null,
            "flex_flow": null,
            "grid_area": null,
            "grid_auto_columns": null,
            "grid_auto_flow": null,
            "grid_auto_rows": null,
            "grid_column": null,
            "grid_gap": null,
            "grid_row": null,
            "grid_template_areas": null,
            "grid_template_columns": null,
            "grid_template_rows": null,
            "height": null,
            "justify_content": null,
            "justify_items": null,
            "left": null,
            "margin": null,
            "max_height": null,
            "max_width": null,
            "min_height": null,
            "min_width": null,
            "object_fit": null,
            "object_position": null,
            "order": null,
            "overflow": null,
            "overflow_x": null,
            "overflow_y": null,
            "padding": null,
            "right": null,
            "top": null,
            "visibility": null,
            "width": null
          }
        },
        "ff732dbc73dc4af3b71322cbd35d9dfa": {
          "model_module": "@jupyter-widgets/controls",
          "model_module_version": "1.5.0",
          "model_name": "HBoxModel",
          "state": {
            "_dom_classes": [],
            "_model_module": "@jupyter-widgets/controls",
            "_model_module_version": "1.5.0",
            "_model_name": "HBoxModel",
            "_view_count": null,
            "_view_module": "@jupyter-widgets/controls",
            "_view_module_version": "1.5.0",
            "_view_name": "HBoxView",
            "box_style": "",
            "children": [
              "IPY_MODEL_ffa9d1d14ae24ff8b528169ec02af2a2",
              "IPY_MODEL_a765598396b34e1a85e96f853f13b4f2",
              "IPY_MODEL_aace0bd0fd3d4f409d042d2031e3799e"
            ],
            "layout": "IPY_MODEL_f68c5d9dc4344d30a15a9e7a8e8cba2a"
          }
        },
        "ffa9d1d14ae24ff8b528169ec02af2a2": {
          "model_module": "@jupyter-widgets/controls",
          "model_module_version": "1.5.0",
          "model_name": "HTMLModel",
          "state": {
            "_dom_classes": [],
            "_model_module": "@jupyter-widgets/controls",
            "_model_module_version": "1.5.0",
            "_model_name": "HTMLModel",
            "_view_count": null,
            "_view_module": "@jupyter-widgets/controls",
            "_view_module_version": "1.5.0",
            "_view_name": "HTMLView",
            "description": "",
            "description_tooltip": null,
            "layout": "IPY_MODEL_dd01c757b8474b99b9e26e2ff7644380",
            "placeholder": "​",
            "style": "IPY_MODEL_a62d1a510bb24d8697f95d57a4c2888c",
            "value": "config.json: 100%"
          }
        }
      }
    }
  },
  "nbformat": 4,
  "nbformat_minor": 0
}
